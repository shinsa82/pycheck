{
 "cells": [
  {
   "cell_type": "code",
   "execution_count": 8,
   "id": "5c9b3949-7148-4205-8927-b7a51764e470",
   "metadata": {
    "tags": []
   },
   "outputs": [],
   "source": [
    "from sympy import S, expand"
   ]
  },
  {
   "cell_type": "code",
   "execution_count": 6,
   "id": "e8276572-1227-4d94-a0a3-3eea1dd90706",
   "metadata": {
    "tags": []
   },
   "outputs": [
    {
     "data": {
      "text/latex": [
       "$\\displaystyle \\left(x - y z\\right)^{2} \\left(x + y z\\right)^{2}$"
      ],
      "text/plain": [
       "(x - y*z)**2*(x + y*z)**2"
      ]
     },
     "execution_count": 6,
     "metadata": {},
     "output_type": "execute_result"
    }
   ],
   "source": [
    "e1 = S('(x+y*z)**2 * (x-y*z)**2')\n",
    "e1"
   ]
  },
  {
   "cell_type": "code",
   "execution_count": 9,
   "id": "a3962e1b-adbf-4c68-9c3d-cd6cf558498f",
   "metadata": {
    "tags": []
   },
   "outputs": [
    {
     "data": {
      "text/latex": [
       "$\\displaystyle x^{4} - 2 x^{2} y^{2} z^{2} + y^{4} z^{4}$"
      ],
      "text/plain": [
       "x**4 - 2*x**2*y**2*z**2 + y**4*z**4"
      ]
     },
     "execution_count": 9,
     "metadata": {},
     "output_type": "execute_result"
    }
   ],
   "source": [
    "e1.expand()"
   ]
  },
  {
   "cell_type": "code",
   "execution_count": 17,
   "id": "28155567-1edb-4b07-ae45-1b12d326dd6f",
   "metadata": {
    "tags": []
   },
   "outputs": [],
   "source": [
    "from sympy.logic.boolalg import Boolean, BooleanFunction"
   ]
  },
  {
   "cell_type": "code",
   "execution_count": 15,
   "id": "8fcdd046-081e-4470-8a3a-2b69291cd494",
   "metadata": {
    "tags": []
   },
   "outputs": [
    {
     "data": {
      "text/latex": [
       "$\\displaystyle \\operatorname{Boolean}\\left(\\mathtt{\\text{f}}\\right)$"
      ],
      "text/plain": [
       "Boolean(f)"
      ]
     },
     "execution_count": 15,
     "metadata": {},
     "output_type": "execute_result"
    }
   ],
   "source": [
    "Boolean('f')"
   ]
  },
  {
   "cell_type": "code",
   "execution_count": 19,
   "id": "2c80c8c0-d719-4fd3-bac3-bffd43f45336",
   "metadata": {
    "tags": []
   },
   "outputs": [
    {
     "data": {
      "text/latex": [
       "$\\displaystyle \\operatorname{BooleanFunction}\\left(f\\right)$"
      ],
      "text/plain": [
       "BooleanFunction(f)"
      ]
     },
     "execution_count": 19,
     "metadata": {},
     "output_type": "execute_result"
    }
   ],
   "source": [
    "f = BooleanFunction('f')\n",
    "f"
   ]
  },
  {
   "cell_type": "code",
   "execution_count": 20,
   "id": "4a6c0193-50aa-4365-85b6-a10708a21c66",
   "metadata": {
    "tags": []
   },
   "outputs": [
    {
     "ename": "TypeError",
     "evalue": "'BooleanFunction' object is not callable",
     "output_type": "error",
     "traceback": [
      "\u001b[0;31m---------------------------------------------------------------------------\u001b[0m",
      "\u001b[0;31mTypeError\u001b[0m                                 Traceback (most recent call last)",
      "Cell \u001b[0;32mIn[20], line 1\u001b[0m\n\u001b[0;32m----> 1\u001b[0m \u001b[43mf\u001b[49m\u001b[43m(\u001b[49m\u001b[38;5;241;43m1\u001b[39;49m\u001b[43m)\u001b[49m\n",
      "\u001b[0;31mTypeError\u001b[0m: 'BooleanFunction' object is not callable"
     ]
    }
   ],
   "source": [
    "f(1)"
   ]
  },
  {
   "cell_type": "code",
   "execution_count": 23,
   "id": "40b949e7-3d48-4647-9802-e911986a3f48",
   "metadata": {
    "tags": []
   },
   "outputs": [
    {
     "data": {
      "text/latex": [
       "$\\displaystyle 4 x^{2} - 12 x y - 16 x z + 9 y^{2} + 24 y z + 16 z^{2}$"
      ],
      "text/plain": [
       "4*x**2 - 12*x*y - 16*x*z + 9*y**2 + 24*y*z + 16*z**2"
      ]
     },
     "execution_count": 23,
     "metadata": {},
     "output_type": "execute_result"
    }
   ],
   "source": [
    "S('(2*x-3*y-4*z)**2').expand()"
   ]
  },
  {
   "cell_type": "code",
   "execution_count": 26,
   "id": "6b201f5d-ea18-4a3b-b86e-fecc8b7b11b2",
   "metadata": {
    "tags": []
   },
   "outputs": [],
   "source": [
    "class X(BooleanFunction):\n",
    "    pass\n",
    "\n",
    "f = X('f')"
   ]
  },
  {
   "cell_type": "code",
   "execution_count": 27,
   "id": "1c78e564-f77c-4690-a862-eeb54686f4e7",
   "metadata": {
    "tags": []
   },
   "outputs": [
    {
     "data": {
      "text/latex": [
       "$\\displaystyle \\operatorname{X}\\left(f\\right)$"
      ],
      "text/plain": [
       "X(f)"
      ]
     },
     "execution_count": 27,
     "metadata": {},
     "output_type": "execute_result"
    }
   ],
   "source": [
    "f"
   ]
  },
  {
   "cell_type": "code",
   "execution_count": 29,
   "id": "d56f0ded-c552-4329-994c-2591fe294307",
   "metadata": {
    "tags": []
   },
   "outputs": [],
   "source": [
    "f.eval()"
   ]
  },
  {
   "cell_type": "code",
   "execution_count": 31,
   "id": "b03eddb5-249f-4e17-9e92-4b604221cdb9",
   "metadata": {
    "tags": []
   },
   "outputs": [
    {
     "ename": "TypeError",
     "evalue": "'X' object is not callable",
     "output_type": "error",
     "traceback": [
      "\u001b[0;31m---------------------------------------------------------------------------\u001b[0m",
      "\u001b[0;31mTypeError\u001b[0m                                 Traceback (most recent call last)",
      "Cell \u001b[0;32mIn[31], line 1\u001b[0m\n\u001b[0;32m----> 1\u001b[0m \u001b[43mf\u001b[49m\u001b[43m(\u001b[49m\u001b[43mS\u001b[49m\u001b[43m(\u001b[49m\u001b[38;5;241;43m1\u001b[39;49m\u001b[43m)\u001b[49m\u001b[43m)\u001b[49m\n",
      "\u001b[0;31mTypeError\u001b[0m: 'X' object is not callable"
     ]
    }
   ],
   "source": [
    "f(S(1))"
   ]
  },
  {
   "cell_type": "code",
   "execution_count": 11,
   "id": "52564477-9a4b-4a59-b7d8-ac64910835fd",
   "metadata": {
    "tags": []
   },
   "outputs": [],
   "source": [
    "from sympy import floor, ceiling, Rational, Integer, S, srepr\n",
    "from sympy.utilities.misc import as_int"
   ]
  },
  {
   "cell_type": "code",
   "execution_count": 6,
   "id": "ea1fd0fb-8e67-41fb-8828-7f1afa7c3bcb",
   "metadata": {
    "tags": []
   },
   "outputs": [
    {
     "data": {
      "text/latex": [
       "$\\displaystyle \\frac{5}{3}$"
      ],
      "text/plain": [
       "5/3"
      ]
     },
     "execution_count": 6,
     "metadata": {},
     "output_type": "execute_result"
    }
   ],
   "source": [
    "Rational(2,3) + 1"
   ]
  },
  {
   "cell_type": "code",
   "execution_count": 7,
   "id": "0ed93d03-9d47-44dc-8cdb-6990724b3d1f",
   "metadata": {
    "tags": []
   },
   "outputs": [
    {
     "data": {
      "text/latex": [
       "$\\displaystyle 1$"
      ],
      "text/plain": [
       "1"
      ]
     },
     "execution_count": 7,
     "metadata": {},
     "output_type": "execute_result"
    }
   ],
   "source": [
    "Integer(1)"
   ]
  },
  {
   "cell_type": "code",
   "execution_count": 14,
   "id": "2f0525f5-ec1f-4650-a3e8-ae8497b6f35b",
   "metadata": {
    "tags": []
   },
   "outputs": [
    {
     "data": {
      "text/latex": [
       "$\\displaystyle 1$"
      ],
      "text/plain": [
       "1"
      ]
     },
     "execution_count": 14,
     "metadata": {},
     "output_type": "execute_result"
    }
   ],
   "source": [
    "S(0) + 1"
   ]
  },
  {
   "cell_type": "code",
   "execution_count": 18,
   "id": "82d08567-5d4a-432c-b316-19dff246ed32",
   "metadata": {
    "tags": []
   },
   "outputs": [
    {
     "data": {
      "text/plain": [
       "sympy.core.numbers.One"
      ]
     },
     "execution_count": 18,
     "metadata": {},
     "output_type": "execute_result"
    }
   ],
   "source": [
    "type(S(0)+1)"
   ]
  },
  {
   "cell_type": "code",
   "execution_count": 17,
   "id": "d7bd5337-bd04-467c-be22-66ee0a36c935",
   "metadata": {
    "tags": []
   },
   "outputs": [
    {
     "data": {
      "text/plain": [
       "int"
      ]
     },
     "execution_count": 17,
     "metadata": {},
     "output_type": "execute_result"
    }
   ],
   "source": [
    "type(as_int(S(0)+1))"
   ]
  },
  {
   "cell_type": "code",
   "execution_count": 22,
   "id": "e84100d7-7824-4dfe-aab5-73d7b9b4ecba",
   "metadata": {
    "tags": []
   },
   "outputs": [
    {
     "data": {
      "text/plain": [
       "1"
      ]
     },
     "execution_count": 22,
     "metadata": {},
     "output_type": "execute_result"
    }
   ],
   "source": [
    "as_int(S(0)+1)"
   ]
  },
  {
   "cell_type": "code",
   "execution_count": 23,
   "id": "de102919-ec0f-4fc2-b24e-7dfd5ba9979b",
   "metadata": {
    "tags": []
   },
   "outputs": [
    {
     "data": {
      "text/plain": [
       "True"
      ]
     },
     "execution_count": 23,
     "metadata": {},
     "output_type": "execute_result"
    }
   ],
   "source": [
    "isinstance(S(0), Rational)"
   ]
  },
  {
   "cell_type": "code",
   "execution_count": 24,
   "id": "8d0a406f-68b8-422b-a3eb-9c520e264cca",
   "metadata": {
    "tags": []
   },
   "outputs": [],
   "source": [
    "def f():\n",
    "    def g():\n",
    "        return 5\n",
    "    return g"
   ]
  },
  {
   "cell_type": "code",
   "execution_count": 30,
   "id": "692d7f18-5d3e-42a7-baed-c0ce86df3896",
   "metadata": {
    "tags": []
   },
   "outputs": [
    {
     "name": "stdout",
     "output_type": "stream",
     "text": [
      "<function f.<locals>.g at 0x7fef173740e0>\n",
      "<function f.<locals>.g at 0x7fef17374400>\n",
      "<function f.<locals>.g at 0x7fef17374400>\n",
      "<function f.<locals>.g at 0x7fef17374400>\n"
     ]
    }
   ],
   "source": [
    "print(repr(f()))\n",
    "print(repr(f()))\n",
    "print(repr(f()))\n",
    "print(repr(f()))"
   ]
  },
  {
   "cell_type": "code",
   "execution_count": 28,
   "id": "8cce7c4f-ad80-44ef-ac86-d9f723f1dd8d",
   "metadata": {
    "tags": []
   },
   "outputs": [
    {
     "data": {
      "text/plain": [
       "'<function f.<locals>.g at 0x7fef17374a40>'"
      ]
     },
     "execution_count": 28,
     "metadata": {},
     "output_type": "execute_result"
    }
   ],
   "source": [
    "repr(f())"
   ]
  },
  {
   "cell_type": "code",
   "execution_count": null,
   "id": "ab00268e-dd17-4b9e-a768-e37e19c48261",
   "metadata": {},
   "outputs": [],
   "source": []
  }
 ],
 "metadata": {
  "kernelspec": {
   "display_name": "Python 3 (ipykernel)",
   "language": "python",
   "name": "python3"
  },
  "language_info": {
   "codemirror_mode": {
    "name": "ipython",
    "version": 3
   },
   "file_extension": ".py",
   "mimetype": "text/x-python",
   "name": "python",
   "nbconvert_exporter": "python",
   "pygments_lexer": "ipython3",
   "version": "3.11.4"
  }
 },
 "nbformat": 4,
 "nbformat_minor": 5
}
