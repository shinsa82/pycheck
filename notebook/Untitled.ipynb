{
 "cells": [
  {
   "cell_type": "code",
   "execution_count": 8,
   "id": "5c9b3949-7148-4205-8927-b7a51764e470",
   "metadata": {
    "tags": []
   },
   "outputs": [],
   "source": [
    "from sympy import S, expand"
   ]
  },
  {
   "cell_type": "code",
   "execution_count": 6,
   "id": "e8276572-1227-4d94-a0a3-3eea1dd90706",
   "metadata": {
    "tags": []
   },
   "outputs": [
    {
     "data": {
      "text/latex": [
       "$\\displaystyle \\left(x - y z\\right)^{2} \\left(x + y z\\right)^{2}$"
      ],
      "text/plain": [
       "(x - y*z)**2*(x + y*z)**2"
      ]
     },
     "execution_count": 6,
     "metadata": {},
     "output_type": "execute_result"
    }
   ],
   "source": [
    "e1 = S('(x+y*z)**2 * (x-y*z)**2')\n",
    "e1"
   ]
  },
  {
   "cell_type": "code",
   "execution_count": 9,
   "id": "a3962e1b-adbf-4c68-9c3d-cd6cf558498f",
   "metadata": {
    "tags": []
   },
   "outputs": [
    {
     "data": {
      "text/latex": [
       "$\\displaystyle x^{4} - 2 x^{2} y^{2} z^{2} + y^{4} z^{4}$"
      ],
      "text/plain": [
       "x**4 - 2*x**2*y**2*z**2 + y**4*z**4"
      ]
     },
     "execution_count": 9,
     "metadata": {},
     "output_type": "execute_result"
    }
   ],
   "source": [
    "e1.expand()"
   ]
  },
  {
   "cell_type": "code",
   "execution_count": 17,
   "id": "28155567-1edb-4b07-ae45-1b12d326dd6f",
   "metadata": {
    "tags": []
   },
   "outputs": [],
   "source": [
    "from sympy.logic.boolalg import Boolean, BooleanFunction"
   ]
  },
  {
   "cell_type": "code",
   "execution_count": 15,
   "id": "8fcdd046-081e-4470-8a3a-2b69291cd494",
   "metadata": {
    "tags": []
   },
   "outputs": [
    {
     "data": {
      "text/latex": [
       "$\\displaystyle \\operatorname{Boolean}\\left(\\mathtt{\\text{f}}\\right)$"
      ],
      "text/plain": [
       "Boolean(f)"
      ]
     },
     "execution_count": 15,
     "metadata": {},
     "output_type": "execute_result"
    }
   ],
   "source": [
    "Boolean('f')"
   ]
  },
  {
   "cell_type": "code",
   "execution_count": 19,
   "id": "2c80c8c0-d719-4fd3-bac3-bffd43f45336",
   "metadata": {
    "tags": []
   },
   "outputs": [
    {
     "data": {
      "text/latex": [
       "$\\displaystyle \\operatorname{BooleanFunction}\\left(f\\right)$"
      ],
      "text/plain": [
       "BooleanFunction(f)"
      ]
     },
     "execution_count": 19,
     "metadata": {},
     "output_type": "execute_result"
    }
   ],
   "source": [
    "f = BooleanFunction('f')\n",
    "f"
   ]
  },
  {
   "cell_type": "code",
   "execution_count": 20,
   "id": "4a6c0193-50aa-4365-85b6-a10708a21c66",
   "metadata": {
    "tags": []
   },
   "outputs": [
    {
     "ename": "TypeError",
     "evalue": "'BooleanFunction' object is not callable",
     "output_type": "error",
     "traceback": [
      "\u001b[0;31m---------------------------------------------------------------------------\u001b[0m",
      "\u001b[0;31mTypeError\u001b[0m                                 Traceback (most recent call last)",
      "Cell \u001b[0;32mIn[20], line 1\u001b[0m\n\u001b[0;32m----> 1\u001b[0m \u001b[43mf\u001b[49m\u001b[43m(\u001b[49m\u001b[38;5;241;43m1\u001b[39;49m\u001b[43m)\u001b[49m\n",
      "\u001b[0;31mTypeError\u001b[0m: 'BooleanFunction' object is not callable"
     ]
    }
   ],
   "source": [
    "f(1)"
   ]
  },
  {
   "cell_type": "code",
   "execution_count": 23,
   "id": "40b949e7-3d48-4647-9802-e911986a3f48",
   "metadata": {
    "tags": []
   },
   "outputs": [
    {
     "data": {
      "text/latex": [
       "$\\displaystyle 4 x^{2} - 12 x y - 16 x z + 9 y^{2} + 24 y z + 16 z^{2}$"
      ],
      "text/plain": [
       "4*x**2 - 12*x*y - 16*x*z + 9*y**2 + 24*y*z + 16*z**2"
      ]
     },
     "execution_count": 23,
     "metadata": {},
     "output_type": "execute_result"
    }
   ],
   "source": [
    "S('(2*x-3*y-4*z)**2').expand()"
   ]
  },
  {
   "cell_type": "code",
   "execution_count": 26,
   "id": "6b201f5d-ea18-4a3b-b86e-fecc8b7b11b2",
   "metadata": {
    "tags": []
   },
   "outputs": [],
   "source": [
    "class X(BooleanFunction):\n",
    "    pass\n",
    "\n",
    "f = X('f')"
   ]
  },
  {
   "cell_type": "code",
   "execution_count": 27,
   "id": "1c78e564-f77c-4690-a862-eeb54686f4e7",
   "metadata": {
    "tags": []
   },
   "outputs": [
    {
     "data": {
      "text/latex": [
       "$\\displaystyle \\operatorname{X}\\left(f\\right)$"
      ],
      "text/plain": [
       "X(f)"
      ]
     },
     "execution_count": 27,
     "metadata": {},
     "output_type": "execute_result"
    }
   ],
   "source": [
    "f"
   ]
  },
  {
   "cell_type": "code",
   "execution_count": 29,
   "id": "d56f0ded-c552-4329-994c-2591fe294307",
   "metadata": {
    "tags": []
   },
   "outputs": [],
   "source": [
    "f.eval()"
   ]
  },
  {
   "cell_type": "code",
   "execution_count": 31,
   "id": "b03eddb5-249f-4e17-9e92-4b604221cdb9",
   "metadata": {
    "tags": []
   },
   "outputs": [
    {
     "ename": "TypeError",
     "evalue": "'X' object is not callable",
     "output_type": "error",
     "traceback": [
      "\u001b[0;31m---------------------------------------------------------------------------\u001b[0m",
      "\u001b[0;31mTypeError\u001b[0m                                 Traceback (most recent call last)",
      "Cell \u001b[0;32mIn[31], line 1\u001b[0m\n\u001b[0;32m----> 1\u001b[0m \u001b[43mf\u001b[49m\u001b[43m(\u001b[49m\u001b[43mS\u001b[49m\u001b[43m(\u001b[49m\u001b[38;5;241;43m1\u001b[39;49m\u001b[43m)\u001b[49m\u001b[43m)\u001b[49m\n",
      "\u001b[0;31mTypeError\u001b[0m: 'X' object is not callable"
     ]
    }
   ],
   "source": [
    "f(S(1))"
   ]
  },
  {
   "cell_type": "code",
   "execution_count": null,
   "id": "52564477-9a4b-4a59-b7d8-ac64910835fd",
   "metadata": {},
   "outputs": [],
   "source": []
  }
 ],
 "metadata": {
  "kernelspec": {
   "display_name": "Python 3 (ipykernel)",
   "language": "python",
   "name": "python3"
  },
  "language_info": {
   "codemirror_mode": {
    "name": "ipython",
    "version": 3
   },
   "file_extension": ".py",
   "mimetype": "text/x-python",
   "name": "python",
   "nbconvert_exporter": "python",
   "pygments_lexer": "ipython3",
   "version": "3.10.9"
  }
 },
 "nbformat": 4,
 "nbformat_minor": 5
}
