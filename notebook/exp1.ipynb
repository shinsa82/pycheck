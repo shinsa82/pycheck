{
 "cells": [
  {
   "cell_type": "markdown",
   "id": "8d4868be-1b55-4450-a474-674afe0594a5",
   "metadata": {},
   "source": [
    "# Experiments of cutom type in SymPy"
   ]
  },
  {
   "cell_type": "code",
   "execution_count": null,
   "id": "04d59205-99f3-48e3-96f3-7c1bcb88c79a",
   "metadata": {},
   "outputs": [],
   "source": []
  },
  {
   "cell_type": "markdown",
   "id": "e50ebd4d-e4f3-475e-a2ab-12d042287024",
   "metadata": {},
   "source": [
    "Check if markdown works: $E=mc^2$, $\\Gamma\\vdash x\\colon \\tau$"
   ]
  },
  {
   "cell_type": "code",
   "execution_count": 1,
   "id": "c06fec1b-ae8a-4baa-9bfd-685135fa3f3c",
   "metadata": {},
   "outputs": [],
   "source": [
    "from sympy import S, init_printing, srepr, symbols, Symbol, Add\n",
    "from sympy.core import Basic, sympify\n",
    "from sympy.core.kind import Kind, NumberKind, BooleanKind\n",
    "from sympy.core.expr import Expr\n",
    "from sympy.core.symbol import Str\n",
    "\n",
    "from pycheck.codegen.sympy_lib import ListKind, List, ListSymbol, Cons, IsNil, Len"
   ]
  },
  {
   "cell_type": "code",
   "execution_count": 2,
   "id": "5a0064fe-84be-4658-96e2-9b641280705b",
   "metadata": {},
   "outputs": [],
   "source": [
    "init_printing()"
   ]
  },
  {
   "cell_type": "markdown",
   "id": "f908ff68-1bd1-4d0c-91d0-07401f9cefa7",
   "metadata": {
    "tags": []
   },
   "source": [
    "----\n",
    "## Normal SymPy Expression\n",
    "\n",
    "Case for normal addition"
   ]
  },
  {
   "cell_type": "code",
   "execution_count": 3,
   "id": "2b1d62df-3e23-4c8b-bcc7-71e1f00b4f7d",
   "metadata": {},
   "outputs": [],
   "source": [
    "e1 = S('x+3')"
   ]
  },
  {
   "cell_type": "code",
   "execution_count": 4,
   "id": "648055ae-7443-402a-9a22-0f86030e27c9",
   "metadata": {},
   "outputs": [
    {
     "data": {
      "text/latex": [
       "$\\displaystyle x + 3$"
      ],
      "text/plain": [
       "x + 3"
      ]
     },
     "execution_count": 4,
     "metadata": {},
     "output_type": "execute_result"
    }
   ],
   "source": [
    "e1"
   ]
  },
  {
   "cell_type": "code",
   "execution_count": 5,
   "id": "3c154742-9467-40e4-bd6f-1725e1931193",
   "metadata": {},
   "outputs": [
    {
     "data": {
      "text/plain": [
       "(sympy.core.add.Add, (3, x))"
      ]
     },
     "execution_count": 5,
     "metadata": {},
     "output_type": "execute_result"
    }
   ],
   "source": [
    "(e1.func, e1.args)"
   ]
  },
  {
   "cell_type": "code",
   "execution_count": 6,
   "id": "d358e5b9-2cde-4ece-b9b1-2b020497ba67",
   "metadata": {},
   "outputs": [
    {
     "data": {
      "text/plain": [
       "\"Add(Symbol('x'), Integer(3))\""
      ]
     },
     "execution_count": 6,
     "metadata": {},
     "output_type": "execute_result"
    }
   ],
   "source": [
    "srepr(e1)"
   ]
  },
  {
   "cell_type": "code",
   "execution_count": 7,
   "id": "20ad8583-4803-4275-ac30-11f64cb0fb1d",
   "metadata": {},
   "outputs": [
    {
     "data": {
      "text/latex": [
       "$\\displaystyle \\left\\{x\\right\\}$"
      ],
      "text/plain": [
       "{x}"
      ]
     },
     "execution_count": 7,
     "metadata": {},
     "output_type": "execute_result"
    }
   ],
   "source": [
    "e1.free_symbols"
   ]
  },
  {
   "cell_type": "code",
   "execution_count": 8,
   "id": "04c8d3f4-8bf2-4d8d-b955-4206e8cca58f",
   "metadata": {},
   "outputs": [
    {
     "data": {
      "text/plain": [
       "'Integer(5)'"
      ]
     },
     "execution_count": 8,
     "metadata": {},
     "output_type": "execute_result"
    }
   ],
   "source": [
    "srepr(Add(3, 2))"
   ]
  },
  {
   "cell_type": "markdown",
   "id": "d3e54524-5bf8-4845-89d9-db97a3577b15",
   "metadata": {
    "tags": []
   },
   "source": [
    "----\n",
    "## Lists"
   ]
  },
  {
   "cell_type": "markdown",
   "id": "c959d949-c1ae-47ab-afcc-64c2686dc6fb",
   "metadata": {
    "tags": []
   },
   "source": [
    "### ListSymbol"
   ]
  },
  {
   "cell_type": "code",
   "execution_count": 9,
   "id": "b2dd4ee9-5aee-4bef-a392-bd62dffb0d7b",
   "metadata": {},
   "outputs": [],
   "source": [
    "a, b = symbols('a b')\n",
    "l = ListSymbol('l')\n",
    "m = ListSymbol('m')"
   ]
  },
  {
   "cell_type": "code",
   "execution_count": 10,
   "id": "32973765-06f7-4cd6-86b3-9f08f88a64ef",
   "metadata": {},
   "outputs": [
    {
     "data": {
      "text/latex": [
       "$\\displaystyle \\left( a, \\  l, \\  m\\right)$"
      ],
      "text/plain": [
       "(a, l, m)"
      ]
     },
     "execution_count": 10,
     "metadata": {},
     "output_type": "execute_result"
    }
   ],
   "source": [
    "(a, l, m)"
   ]
  },
  {
   "cell_type": "code",
   "execution_count": 11,
   "id": "6baad3eb-a5c2-446b-93b6-f459bbd4ba4d",
   "metadata": {},
   "outputs": [
    {
     "data": {
      "text/plain": [
       "'(a, l, m)'"
      ]
     },
     "execution_count": 11,
     "metadata": {},
     "output_type": "execute_result"
    }
   ],
   "source": [
    "str((a, l, m))"
   ]
  },
  {
   "cell_type": "code",
   "execution_count": 12,
   "id": "57ce2a9b-79e4-4778-8ad6-764819703678",
   "metadata": {},
   "outputs": [
    {
     "data": {
      "text/plain": [
       "'(a, l, m)'"
      ]
     },
     "execution_count": 12,
     "metadata": {},
     "output_type": "execute_result"
    }
   ],
   "source": [
    "repr((a, l, m))"
   ]
  },
  {
   "cell_type": "code",
   "execution_count": 13,
   "id": "4d0dc3f9-4f83-40e1-be87-1120eccca40c",
   "metadata": {},
   "outputs": [
    {
     "data": {
      "text/plain": [
       "\"(Symbol('a'), ListSymbol(Str('l')), ListSymbol(Str('m')))\""
      ]
     },
     "execution_count": 13,
     "metadata": {},
     "output_type": "execute_result"
    }
   ],
   "source": [
    "srepr((a, l, m))"
   ]
  },
  {
   "cell_type": "code",
   "execution_count": 14,
   "id": "2e32d0b8-6c32-4ad1-bee1-2575c6c57dec",
   "metadata": {},
   "outputs": [
    {
     "data": {
      "text/plain": [
       "(NumberKind, ListKind)"
      ]
     },
     "execution_count": 14,
     "metadata": {},
     "output_type": "execute_result"
    }
   ],
   "source": [
    "(a.kind, l.kind)"
   ]
  },
  {
   "cell_type": "code",
   "execution_count": 15,
   "id": "6ab4dd91-4f53-4eea-aba4-321cc3d52d15",
   "metadata": {},
   "outputs": [
    {
     "data": {
      "text/latex": [
       "$\\displaystyle \\left\\{l\\right\\}$"
      ],
      "text/plain": [
       "{l}"
      ]
     },
     "execution_count": 15,
     "metadata": {},
     "output_type": "execute_result"
    }
   ],
   "source": [
    "l.free_symbols"
   ]
  },
  {
   "cell_type": "markdown",
   "id": "13accb8c-4046-419a-9908-60f8630f634a",
   "metadata": {
    "tags": []
   },
   "source": [
    "### Cons"
   ]
  },
  {
   "cell_type": "code",
   "execution_count": 16,
   "id": "4bb598c9-3a59-4aac-a680-a070e923a612",
   "metadata": {},
   "outputs": [
    {
     "data": {
      "text/latex": [
       "$\\displaystyle \\operatorname{Cons}\\left(a, m\\right)$"
      ],
      "text/plain": [
       "Cons(a, m)"
      ]
     },
     "execution_count": 16,
     "metadata": {},
     "output_type": "execute_result"
    }
   ],
   "source": [
    "Cons(a, m)"
   ]
  },
  {
   "cell_type": "code",
   "execution_count": 17,
   "id": "de62a4c8-05e2-4b94-ba00-f30c1ca671f8",
   "metadata": {},
   "outputs": [
    {
     "data": {
      "text/plain": [
       "pycheck.codegen.sympy_lib.Cons"
      ]
     },
     "execution_count": 17,
     "metadata": {},
     "output_type": "execute_result"
    }
   ],
   "source": [
    "Cons(a, m).func"
   ]
  },
  {
   "cell_type": "code",
   "execution_count": 18,
   "id": "60d98834-fb05-48b3-8862-53c439555463",
   "metadata": {},
   "outputs": [
    {
     "data": {
      "text/latex": [
       "$\\displaystyle \\left( \\left( a, \\  m\\right), \\  \\left\\{a, m\\right\\}\\right)$"
      ],
      "text/plain": [
       "((a, m), {a, m})"
      ]
     },
     "execution_count": 18,
     "metadata": {},
     "output_type": "execute_result"
    }
   ],
   "source": [
    "(Cons(a,m).args, Cons(a,m).free_symbols)"
   ]
  },
  {
   "cell_type": "code",
   "execution_count": 19,
   "id": "395a8cb8-9878-4f41-9e35-eaa186562440",
   "metadata": {},
   "outputs": [
    {
     "data": {
      "text/latex": [
       "$\\displaystyle \\left( \\operatorname{Cons}\\left(1, m\\right), \\  \\left\\{m\\right\\}\\right)$"
      ],
      "text/plain": [
       "(Cons(1, m), {m})"
      ]
     },
     "execution_count": 19,
     "metadata": {},
     "output_type": "execute_result"
    }
   ],
   "source": [
    "(Cons(a, m).subs(a, 1), Cons(a, m).subs(a, 1).free_symbols)"
   ]
  },
  {
   "cell_type": "code",
   "execution_count": 20,
   "id": "6fd6894d-5fe9-4e53-9de2-2e518b5ac938",
   "metadata": {},
   "outputs": [
    {
     "data": {
      "text/latex": [
       "$\\displaystyle \\left( \\operatorname{Cons}\\left(a, m\\right), \\  \\left\\{a, m\\right\\}\\right)$"
      ],
      "text/plain": [
       "(Cons(a, m), {a, m})"
      ]
     },
     "execution_count": 20,
     "metadata": {},
     "output_type": "execute_result"
    }
   ],
   "source": [
    "(Cons(a, m).subs(m,[2,3]), Cons(a, m).subs(m,[2,3]).free_symbols) "
   ]
  },
  {
   "cell_type": "code",
   "execution_count": 21,
   "id": "df4e4cf2-ce7d-44f2-bdde-dd2c6da40630",
   "metadata": {},
   "outputs": [
    {
     "data": {
      "text/latex": [
       "$\\displaystyle \\operatorname{Cons}\\left(a, \\operatorname{Cons}\\left(b, l\\right)\\right)$"
      ],
      "text/plain": [
       "Cons(a, Cons(b, l))"
      ]
     },
     "execution_count": 21,
     "metadata": {},
     "output_type": "execute_result"
    }
   ],
   "source": [
    "Cons(a, Cons(b, l))"
   ]
  },
  {
   "cell_type": "code",
   "execution_count": 22,
   "id": "6e7b2039-083d-4c5a-82c3-42a0c9f6f784",
   "metadata": {},
   "outputs": [
    {
     "data": {
      "text/latex": [
       "$\\displaystyle \\operatorname{Cons}\\left(1, m\\right)$"
      ],
      "text/plain": [
       "Cons(1, m)"
      ]
     },
     "execution_count": 22,
     "metadata": {},
     "output_type": "execute_result"
    }
   ],
   "source": [
    "# now it works!\n",
    "Cons(a, m).subs(a, 1).subs(m, [2,3])"
   ]
  },
  {
   "cell_type": "code",
   "execution_count": 23,
   "id": "08f1a104-a541-4a4a-a244-93ffaf437369",
   "metadata": {},
   "outputs": [
    {
     "data": {
      "text/latex": [
       "$\\displaystyle \\operatorname{Cons}\\left(1, m\\right)$"
      ],
      "text/plain": [
       "Cons(1, m)"
      ]
     },
     "execution_count": 23,
     "metadata": {},
     "output_type": "execute_result"
    }
   ],
   "source": [
    "# simultaneous replacement\n",
    "Cons(a, m).subs({a:1, m:[2,3]}, simultaneous=True)"
   ]
  },
  {
   "cell_type": "code",
   "execution_count": 24,
   "id": "d121a722-3fc9-4c2f-8175-ba83fe774dd7",
   "metadata": {},
   "outputs": [
    {
     "data": {
      "text/latex": [
       "$\\displaystyle \\left( \\operatorname{Cons}\\left(a, \\left[ 2, \\  3\\right]\\right), \\  \\operatorname{Cons}\\left(1, m\\right), \\  \\operatorname{Cons}\\left(1, \\left[ 2, \\  3\\right]\\right)\\right)$"
      ],
      "text/plain": [
       "(Cons(a, [2, 3]), Cons(1, m), Cons(1, [2, 3]))"
      ]
     },
     "execution_count": 24,
     "metadata": {},
     "output_type": "execute_result"
    }
   ],
   "source": [
    "(Cons(a, [2,3]), Cons(1,m), Cons(1, [2,3]))"
   ]
  },
  {
   "cell_type": "markdown",
   "id": "d9fb7e88-948c-4e59-ad35-b97782523d3f",
   "metadata": {
    "jp-MarkdownHeadingCollapsed": true,
    "tags": []
   },
   "source": [
    "#### TODO"
   ]
  },
  {
   "cell_type": "code",
   "execution_count": 25,
   "id": "47ea7e88-8c1d-442a-a86b-dca22110628e",
   "metadata": {},
   "outputs": [
    {
     "name": "stdout",
     "output_type": "stream",
     "text": [
      "Add(List(Symbol('a')), ListSymbol(Str('m')))\n"
     ]
    },
    {
     "data": {
      "text/latex": [
       "$\\displaystyle \\left[ a\\right] + m$"
      ],
      "text/plain": [
       "[a] + m"
      ]
     },
     "execution_count": 25,
     "metadata": {},
     "output_type": "execute_result"
    }
   ],
   "source": [
    "# TODO: use ListAdd instead of Add\n",
    "print(srepr(Cons(a, m).doit()))\n",
    "Cons(a, m).doit()"
   ]
  },
  {
   "cell_type": "code",
   "execution_count": 26,
   "id": "81ba6682-8159-446c-802e-6e0fa746198d",
   "metadata": {},
   "outputs": [
    {
     "data": {
      "text/latex": [
       "$\\displaystyle \\left[ a\\right] + m$"
      ],
      "text/plain": [
       "[a] + m"
      ]
     },
     "execution_count": 26,
     "metadata": {},
     "output_type": "execute_result"
    }
   ],
   "source": [
    "# TODO: use ListAdd instead of Add\n",
    "Cons(a, m).doit().subs(m, [2,3])"
   ]
  },
  {
   "cell_type": "markdown",
   "id": "e2a57890-6977-46de-aa9a-f92646935e6b",
   "metadata": {
    "tags": []
   },
   "source": [
    "### Len"
   ]
  },
  {
   "cell_type": "code",
   "execution_count": 27,
   "id": "322c7212-eb1e-4bac-8382-a34349577ba6",
   "metadata": {},
   "outputs": [
    {
     "data": {
      "text/latex": [
       "$\\displaystyle \\operatorname{Len}\\left(\\left[ \\right]\\right)$"
      ],
      "text/plain": [
       "Len([])"
      ]
     },
     "execution_count": 27,
     "metadata": {},
     "output_type": "execute_result"
    }
   ],
   "source": [
    "Len([])"
   ]
  },
  {
   "cell_type": "code",
   "execution_count": 28,
   "id": "f8a0a910-460b-4bc8-85cc-aa63a6085c2d",
   "metadata": {},
   "outputs": [
    {
     "data": {
      "text/plain": [
       "(Len([1, 2, 3]), 'Len([Integer(1), Integer(2), Integer(3)])')"
      ]
     },
     "execution_count": 28,
     "metadata": {},
     "output_type": "execute_result"
    }
   ],
   "source": [
    "(Len([1,2,3]), srepr(Len([1,2,3])))"
   ]
  },
  {
   "cell_type": "code",
   "execution_count": 29,
   "id": "9db72476-0d8e-4064-bf9d-6612994fa49c",
   "metadata": {},
   "outputs": [
    {
     "data": {
      "text/latex": [
       "$\\displaystyle \\operatorname{Len}\\left(l\\right)$"
      ],
      "text/plain": [
       "Len(l)"
      ]
     },
     "execution_count": 29,
     "metadata": {},
     "output_type": "execute_result"
    }
   ],
   "source": [
    "Len(l)"
   ]
  },
  {
   "cell_type": "code",
   "execution_count": 30,
   "id": "9e9a1cc2-7518-4e10-a8d2-21bcc8f7e17b",
   "metadata": {},
   "outputs": [
    {
     "data": {
      "text/plain": [
       "NumberKind"
      ]
     },
     "execution_count": 30,
     "metadata": {},
     "output_type": "execute_result"
    }
   ],
   "source": [
    "Len(l).kind"
   ]
  },
  {
   "cell_type": "code",
   "execution_count": 31,
   "id": "8cf3e1ed-7751-427d-b7a4-f14d8a315b01",
   "metadata": {},
   "outputs": [
    {
     "data": {
      "text/latex": [
       "$\\displaystyle \\text{True}$"
      ],
      "text/plain": [
       "True"
      ]
     },
     "execution_count": 31,
     "metadata": {},
     "output_type": "execute_result"
    }
   ],
   "source": [
    "# we defined Len(x) as non-negative integer, so the following inequality is true.\n",
    "Len(l) >= 0"
   ]
  },
  {
   "cell_type": "code",
   "execution_count": 32,
   "id": "54a93b77-ac4d-4f96-8a75-49b5b7f8b62c",
   "metadata": {},
   "outputs": [
    {
     "data": {
      "text/latex": [
       "$\\displaystyle \\operatorname{Len}\\left(l\\right) + 1$"
      ],
      "text/plain": [
       "Len(l) + 1"
      ]
     },
     "execution_count": 32,
     "metadata": {},
     "output_type": "execute_result"
    }
   ],
   "source": [
    "Len(l) + 1"
   ]
  },
  {
   "cell_type": "code",
   "execution_count": 33,
   "id": "c19b5752-135c-40d1-b03c-edf09fbd743f",
   "metadata": {},
   "outputs": [
    {
     "data": {
      "text/latex": [
       "$\\displaystyle \\operatorname{Len}\\left(l\\right) + 1$"
      ],
      "text/plain": [
       "Len(l) + 1"
      ]
     },
     "execution_count": 33,
     "metadata": {},
     "output_type": "execute_result"
    }
   ],
   "source": [
    "Len(Cons(a, l))"
   ]
  },
  {
   "cell_type": "code",
   "execution_count": 34,
   "id": "c6aab809-c0f1-4928-8597-cc394a16116c",
   "metadata": {},
   "outputs": [
    {
     "data": {
      "text/latex": [
       "$\\displaystyle \\operatorname{Len}\\left(l\\right) + 2$"
      ],
      "text/plain": [
       "Len(l) + 2"
      ]
     },
     "execution_count": 34,
     "metadata": {},
     "output_type": "execute_result"
    }
   ],
   "source": [
    "Len(Cons(a, Cons(b, l)))"
   ]
  },
  {
   "cell_type": "markdown",
   "id": "f6ca79a8-6b55-4b1b-99cb-0ef4e409588b",
   "metadata": {},
   "source": [
    "### IsNil"
   ]
  },
  {
   "cell_type": "code",
   "execution_count": 35,
   "id": "7ba0c9b5-a4ef-4d25-b3ae-8d84ac5d1ea0",
   "metadata": {},
   "outputs": [
    {
     "data": {
      "text/latex": [
       "$\\displaystyle \\operatorname{IsNil}\\left(\\left[ \\right]\\right)$"
      ],
      "text/plain": [
       "IsNil([])"
      ]
     },
     "execution_count": 35,
     "metadata": {},
     "output_type": "execute_result"
    }
   ],
   "source": [
    "IsNil([])"
   ]
  },
  {
   "cell_type": "code",
   "execution_count": 36,
   "id": "62c43ba2-9731-40ba-a6bf-90f641b84ae2",
   "metadata": {},
   "outputs": [
    {
     "data": {
      "text/latex": [
       "$\\displaystyle \\operatorname{IsNil}\\left(\\left[ 1\\right]\\right)$"
      ],
      "text/plain": [
       "IsNil([1])"
      ]
     },
     "execution_count": 36,
     "metadata": {},
     "output_type": "execute_result"
    }
   ],
   "source": [
    "IsNil([1])"
   ]
  },
  {
   "cell_type": "code",
   "execution_count": 37,
   "id": "8015674d-62d4-44f8-84c7-5eeb495d1a5a",
   "metadata": {},
   "outputs": [
    {
     "data": {
      "text/latex": [
       "$\\displaystyle \\text{False}$"
      ],
      "text/plain": [
       "False"
      ]
     },
     "execution_count": 37,
     "metadata": {},
     "output_type": "execute_result"
    }
   ],
   "source": [
    "IsNil(Cons(a, l))"
   ]
  },
  {
   "cell_type": "code",
   "execution_count": 38,
   "id": "16c4ce21-064c-4dcc-a3b4-366e34c9341b",
   "metadata": {},
   "outputs": [
    {
     "data": {
      "text/latex": [
       "$\\displaystyle \\operatorname{IsNil}\\left(l\\right)$"
      ],
      "text/plain": [
       "IsNil(l)"
      ]
     },
     "execution_count": 38,
     "metadata": {},
     "output_type": "execute_result"
    }
   ],
   "source": [
    "IsNil(l)"
   ]
  },
  {
   "cell_type": "code",
   "execution_count": 39,
   "id": "466ea97b-452b-4bd4-9203-4f77238ed6b8",
   "metadata": {},
   "outputs": [
    {
     "data": {
      "text/latex": [
       "$\\displaystyle \\operatorname{IsNil}\\left(l\\right)$"
      ],
      "text/plain": [
       "IsNil(l)"
      ]
     },
     "execution_count": 39,
     "metadata": {},
     "output_type": "execute_result"
    }
   ],
   "source": [
    "IsNil(l).subs(l, [])"
   ]
  },
  {
   "cell_type": "code",
   "execution_count": 40,
   "id": "36c8d6ea-da08-413b-b55a-52a76920df56",
   "metadata": {},
   "outputs": [
    {
     "data": {
      "text/latex": [
       "$\\displaystyle \\operatorname{IsNil}\\left(l\\right)$"
      ],
      "text/plain": [
       "IsNil(l)"
      ]
     },
     "execution_count": 40,
     "metadata": {},
     "output_type": "execute_result"
    }
   ],
   "source": [
    "IsNil(l).subs(l, [1,2])"
   ]
  },
  {
   "cell_type": "markdown",
   "id": "79ccd94b-1c6e-430e-8085-d55c012c80be",
   "metadata": {
    "tags": []
   },
   "source": [
    "----\n",
    "## Matrix\n",
    "\n",
    "Experiments on `MatricSymbol` for study"
   ]
  },
  {
   "cell_type": "code",
   "execution_count": 41,
   "id": "fa1ea7a4-ea01-4bc0-a1ae-927ddbe7d4ab",
   "metadata": {},
   "outputs": [],
   "source": [
    "from sympy import MatrixSymbol, Identity\n",
    "A = MatrixSymbol('A', 3, 3)\n",
    "B = MatrixSymbol('B', 3, 3)                 "
   ]
  },
  {
   "cell_type": "code",
   "execution_count": 42,
   "id": "fa07a8b6-a94f-41c2-8e9b-130daa46ee09",
   "metadata": {},
   "outputs": [
    {
     "data": {
      "text/latex": [
       "$\\displaystyle A$"
      ],
      "text/plain": [
       "A"
      ]
     },
     "execution_count": 42,
     "metadata": {},
     "output_type": "execute_result"
    }
   ],
   "source": [
    "A"
   ]
  },
  {
   "cell_type": "code",
   "execution_count": 43,
   "id": "569a7cda-8103-4c4b-ab05-303ee6964b28",
   "metadata": {},
   "outputs": [
    {
     "data": {
      "text/latex": [
       "$\\displaystyle A + B$"
      ],
      "text/plain": [
       "A + B"
      ]
     },
     "execution_count": 43,
     "metadata": {},
     "output_type": "execute_result"
    }
   ],
   "source": [
    "A+B"
   ]
  },
  {
   "cell_type": "code",
   "execution_count": 44,
   "id": "f30e47a6-09ca-486d-b701-ef1575d11e92",
   "metadata": {},
   "outputs": [
    {
     "data": {
      "text/plain": [
       "'A'"
      ]
     },
     "execution_count": 44,
     "metadata": {},
     "output_type": "execute_result"
    }
   ],
   "source": [
    "repr(A)"
   ]
  },
  {
   "cell_type": "code",
   "execution_count": 45,
   "id": "744bc00b-3abd-4a1b-a4e3-53b952656677",
   "metadata": {},
   "outputs": [
    {
     "data": {
      "text/plain": [
       "\"MatrixSymbol(Str('A'), Integer(3), Integer(3))\""
      ]
     },
     "execution_count": 45,
     "metadata": {},
     "output_type": "execute_result"
    }
   ],
   "source": [
    "srepr(A)"
   ]
  },
  {
   "cell_type": "code",
   "execution_count": 46,
   "id": "47f84b83-39f5-4e8e-964e-c0e1c6d146dd",
   "metadata": {},
   "outputs": [
    {
     "data": {
      "text/plain": [
       "\"MatAdd(MatrixSymbol(Str('A'), Integer(3), Integer(3)), MatrixSymbol(Str('B'), Integer(3), Integer(3)))\""
      ]
     },
     "execution_count": 46,
     "metadata": {},
     "output_type": "execute_result"
    }
   ],
   "source": [
    "srepr(A+B)"
   ]
  },
  {
   "cell_type": "code",
   "execution_count": 47,
   "id": "55954637-97b8-4e42-88fc-50a894c7883d",
   "metadata": {},
   "outputs": [
    {
     "data": {
      "text/latex": [
       "$\\displaystyle \\left\\{A, B\\right\\}$"
      ],
      "text/plain": [
       "{A, B}"
      ]
     },
     "execution_count": 47,
     "metadata": {},
     "output_type": "execute_result"
    }
   ],
   "source": [
    "(A+B).free_symbols"
   ]
  },
  {
   "cell_type": "code",
   "execution_count": 48,
   "id": "3747e912-d410-4c28-b9d7-bf8f25331238",
   "metadata": {},
   "outputs": [
    {
     "data": {
      "text/latex": [
       "$\\displaystyle \\mathbb{I} + B$"
      ],
      "text/plain": [
       "𝕀 + B"
      ]
     },
     "execution_count": 48,
     "metadata": {},
     "output_type": "execute_result"
    }
   ],
   "source": [
    "(A+B).subs(A, Identity(3))"
   ]
  },
  {
   "cell_type": "code",
   "execution_count": 49,
   "id": "efaf6a02-2078-4ba9-9e2d-930bed0891a4",
   "metadata": {},
   "outputs": [
    {
     "data": {
      "text/latex": [
       "$\\displaystyle \\mathbb{I} + \\mathbb{I}$"
      ],
      "text/plain": [
       "𝕀 + 𝕀"
      ]
     },
     "execution_count": 49,
     "metadata": {},
     "output_type": "execute_result"
    }
   ],
   "source": [
    "(A+B).subs(A, Identity(3)).subs(B, Identity(3))"
   ]
  },
  {
   "cell_type": "code",
   "execution_count": 50,
   "id": "ef1b2c8a-7521-4f93-9c6f-6637ff8678eb",
   "metadata": {},
   "outputs": [
    {
     "data": {
      "text/latex": [
       "$\\displaystyle 2 \\mathbb{I}$"
      ],
      "text/plain": [
       "2⋅𝕀"
      ]
     },
     "execution_count": 50,
     "metadata": {},
     "output_type": "execute_result"
    }
   ],
   "source": [
    "(A+B).subs(A, Identity(3)).subs(B, Identity(3)).doit()"
   ]
  },
  {
   "cell_type": "code",
   "execution_count": null,
   "id": "f0069908-42f3-47df-97fa-3a17b14af810",
   "metadata": {},
   "outputs": [],
   "source": []
  }
 ],
 "metadata": {
  "kernelspec": {
   "display_name": "Python 3 (ipykernel)",
   "language": "python",
   "name": "python3"
  },
  "language_info": {
   "codemirror_mode": {
    "name": "ipython",
    "version": 3
   },
   "file_extension": ".py",
   "mimetype": "text/x-python",
   "name": "python",
   "nbconvert_exporter": "python",
   "pygments_lexer": "ipython3",
   "version": "3.10.9"
  },
  "toc-showtags": true
 },
 "nbformat": 4,
 "nbformat_minor": 5
}
