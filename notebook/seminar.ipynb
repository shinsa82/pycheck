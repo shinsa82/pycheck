{
 "cells": [
  {
   "cell_type": "code",
   "execution_count": 1,
   "id": "d131d700-f258-4dcf-a1cd-5199b7767b36",
   "metadata": {
    "tags": []
   },
   "outputs": [],
   "source": [
    "from sympy import S, srepr, symbols, Function\n",
    "from pycheck.codegen.sympy_lib import ListKind, List, ListSymbol, Cons, IsNil, Len, Map"
   ]
  },
  {
   "cell_type": "code",
   "execution_count": 2,
   "id": "27cd6c6a-5a51-468a-b4b5-bb41dc64be2c",
   "metadata": {
    "tags": []
   },
   "outputs": [
    {
     "data": {
      "text/latex": [
       "$\\displaystyle x + y + 1$"
      ],
      "text/plain": [
       "x + y + 1"
      ]
     },
     "execution_count": 2,
     "metadata": {},
     "output_type": "execute_result"
    }
   ],
   "source": [
    "e1 = S('x + y + 1')\n",
    "e1"
   ]
  },
  {
   "cell_type": "code",
   "execution_count": 3,
   "id": "7494d6ae-c346-4df6-805a-d2fb94df1551",
   "metadata": {
    "tags": []
   },
   "outputs": [
    {
     "name": "stdout",
     "output_type": "stream",
     "text": [
      "Add(Symbol('x'), Symbol('y'), Integer(1))\n"
     ]
    }
   ],
   "source": [
    "print(srepr(e1))"
   ]
  },
  {
   "cell_type": "code",
   "execution_count": 4,
   "id": "10ceface-a3e9-44f4-912c-4e3b761ccdc6",
   "metadata": {
    "tags": []
   },
   "outputs": [
    {
     "data": {
      "text/latex": [
       "$\\displaystyle y + 2$"
      ],
      "text/plain": [
       "y + 2"
      ]
     },
     "execution_count": 4,
     "metadata": {},
     "output_type": "execute_result"
    }
   ],
   "source": [
    "e1.subs('x', 1)"
   ]
  },
  {
   "cell_type": "code",
   "execution_count": 5,
   "id": "a5c9a173-03ed-483e-8c96-4d71315e3325",
   "metadata": {
    "tags": []
   },
   "outputs": [
    {
     "data": {
      "text/latex": [
       "$\\displaystyle 4$"
      ],
      "text/plain": [
       "4"
      ]
     },
     "execution_count": 5,
     "metadata": {},
     "output_type": "execute_result"
    }
   ],
   "source": [
    "e1.subs('x', 1).subs('y', 2)"
   ]
  },
  {
   "cell_type": "markdown",
   "id": "502886c6-a91e-4d40-b446-de4ec5915875",
   "metadata": {},
   "source": [
    "----"
   ]
  },
  {
   "cell_type": "code",
   "execution_count": 6,
   "id": "70abc42e-3454-4205-b2e1-4ad90c419153",
   "metadata": {
    "tags": []
   },
   "outputs": [
    {
     "data": {
      "text/latex": [
       "$\\displaystyle \\left( x \\mapsto x + y + 1 \\right)$"
      ],
      "text/plain": [
       "Lambda(x, x + y + 1)"
      ]
     },
     "execution_count": 6,
     "metadata": {},
     "output_type": "execute_result"
    }
   ],
   "source": [
    "e1b = S('lambda x: x + y + 1')\n",
    "e1b"
   ]
  },
  {
   "cell_type": "code",
   "execution_count": 7,
   "id": "e9d058cf-22a2-4b38-8c5f-e9600c1266bb",
   "metadata": {
    "tags": []
   },
   "outputs": [
    {
     "data": {
      "text/latex": [
       "$\\displaystyle y + 2$"
      ],
      "text/plain": [
       "y + 2"
      ]
     },
     "execution_count": 7,
     "metadata": {},
     "output_type": "execute_result"
    }
   ],
   "source": [
    "e1b(1)"
   ]
  },
  {
   "cell_type": "markdown",
   "id": "1b5316c3-8ad2-458b-a723-2bbf3b34a9d6",
   "metadata": {},
   "source": [
    "----"
   ]
  },
  {
   "cell_type": "code",
   "execution_count": 8,
   "id": "56f7780e-cf88-43c7-a438-8d15c6d722fb",
   "metadata": {
    "tags": []
   },
   "outputs": [
    {
     "data": {
      "text/latex": [
       "$\\displaystyle x + y \\leq 5$"
      ],
      "text/plain": [
       "x + y <= 5"
      ]
     },
     "execution_count": 8,
     "metadata": {},
     "output_type": "execute_result"
    }
   ],
   "source": [
    "e2 = S('x + y <= 5')\n",
    "e2"
   ]
  },
  {
   "cell_type": "code",
   "execution_count": 9,
   "id": "8092705c-1b7f-452d-85c7-9b5cf53dbb05",
   "metadata": {
    "tags": []
   },
   "outputs": [
    {
     "data": {
      "text/latex": [
       "$\\displaystyle y + 1 \\leq 5$"
      ],
      "text/plain": [
       "y + 1 <= 5"
      ]
     },
     "execution_count": 9,
     "metadata": {},
     "output_type": "execute_result"
    }
   ],
   "source": [
    "e2.subs('x', 1)"
   ]
  },
  {
   "cell_type": "code",
   "execution_count": 10,
   "id": "bf612367-1a68-4fdb-8efd-6437311be7bc",
   "metadata": {
    "tags": []
   },
   "outputs": [
    {
     "data": {
      "text/latex": [
       "$\\displaystyle \\text{True}$"
      ],
      "text/plain": [
       "True"
      ]
     },
     "execution_count": 10,
     "metadata": {},
     "output_type": "execute_result"
    }
   ],
   "source": [
    "e2.subs('x', 1).subs('y', 2)"
   ]
  },
  {
   "cell_type": "markdown",
   "id": "eb1b95da-fc4c-4bdc-889d-ffcbd89f0e60",
   "metadata": {},
   "source": [
    "----"
   ]
  },
  {
   "cell_type": "code",
   "execution_count": 11,
   "id": "c6aa2734-e069-4257-b086-b93f93d153b0",
   "metadata": {
    "tags": []
   },
   "outputs": [],
   "source": [
    "a, b = symbols('a b')\n",
    "l = ListSymbol('l')\n",
    "m = ListSymbol('m')"
   ]
  },
  {
   "cell_type": "code",
   "execution_count": 12,
   "id": "758765c5-5376-41a1-a60c-d134725330e3",
   "metadata": {
    "tags": []
   },
   "outputs": [
    {
     "data": {
      "text/latex": [
       "$\\displaystyle \\operatorname{Cons}\\left(a, l\\right)$"
      ],
      "text/plain": [
       "Cons(a, l)"
      ]
     },
     "execution_count": 12,
     "metadata": {},
     "output_type": "execute_result"
    }
   ],
   "source": [
    "e3 = Cons(a, l)\n",
    "e3"
   ]
  },
  {
   "cell_type": "code",
   "execution_count": 13,
   "id": "469f04c0-fb14-4c69-a85f-7915d4aa3ad3",
   "metadata": {
    "tags": []
   },
   "outputs": [
    {
     "data": {
      "text/latex": [
       "$\\displaystyle \\operatorname{Cons}\\left(1, l\\right)$"
      ],
      "text/plain": [
       "Cons(1, l)"
      ]
     },
     "execution_count": 13,
     "metadata": {},
     "output_type": "execute_result"
    }
   ],
   "source": [
    "e3.subs(a, 1)"
   ]
  },
  {
   "cell_type": "code",
   "execution_count": 14,
   "id": "4089d671-96e1-4fdf-8dc4-487214dd310b",
   "metadata": {
    "tags": []
   },
   "outputs": [
    {
     "data": {
      "text/latex": [
       "$\\displaystyle \\left[ a, \\  2, \\  3\\right]$"
      ],
      "text/plain": [
       "[a, 2, 3]"
      ]
     },
     "execution_count": 14,
     "metadata": {},
     "output_type": "execute_result"
    }
   ],
   "source": [
    "e3.subs(l, List(2,3)) # e3.subs(l, [2,3])"
   ]
  },
  {
   "cell_type": "markdown",
   "id": "4374cba3-2536-4670-ab5f-c24ed257846b",
   "metadata": {},
   "source": [
    "----"
   ]
  },
  {
   "cell_type": "code",
   "execution_count": 15,
   "id": "5a3b9732-d081-4c67-9859-b5fea726d0b8",
   "metadata": {
    "tags": []
   },
   "outputs": [
    {
     "data": {
      "text/latex": [
       "$\\displaystyle \\operatorname{Len}\\left(l\\right)$"
      ],
      "text/plain": [
       "Len(l)"
      ]
     },
     "execution_count": 15,
     "metadata": {},
     "output_type": "execute_result"
    }
   ],
   "source": [
    "Len(l)"
   ]
  },
  {
   "cell_type": "code",
   "execution_count": 16,
   "id": "b254057e-bd38-44bc-8675-2e058ca4e58e",
   "metadata": {
    "tags": []
   },
   "outputs": [
    {
     "data": {
      "text/latex": [
       "$\\displaystyle \\operatorname{Len}\\left(l\\right) + 1$"
      ],
      "text/plain": [
       "Len(l) + 1"
      ]
     },
     "execution_count": 16,
     "metadata": {},
     "output_type": "execute_result"
    }
   ],
   "source": [
    "Len(Cons(a, l))"
   ]
  },
  {
   "cell_type": "code",
   "execution_count": 17,
   "id": "91996620-f6f9-4aa5-b5e8-26e170cef84d",
   "metadata": {
    "tags": []
   },
   "outputs": [
    {
     "data": {
      "text/latex": [
       "$\\displaystyle 3$"
      ],
      "text/plain": [
       "3"
      ]
     },
     "execution_count": 17,
     "metadata": {},
     "output_type": "execute_result"
    }
   ],
   "source": [
    "Len(Cons(a, l)).subs(l, List(2,3))"
   ]
  },
  {
   "cell_type": "markdown",
   "id": "1548b647-0b23-4162-a0ce-89035ec1ac8a",
   "metadata": {},
   "source": [
    "----"
   ]
  },
  {
   "cell_type": "code",
   "execution_count": null,
   "id": "0b12b14e-fc2c-4dbe-b2b6-fe21d5dd707e",
   "metadata": {
    "tags": []
   },
   "outputs": [],
   "source": [
    "e1"
   ]
  },
  {
   "cell_type": "code",
   "execution_count": null,
   "id": "4f1e91e2-9920-444d-b6e8-7c812a16fa51",
   "metadata": {
    "tags": []
   },
   "outputs": [],
   "source": [
    "e1.func"
   ]
  },
  {
   "cell_type": "code",
   "execution_count": null,
   "id": "32a86386-e0cc-4b21-8fbe-95117dcfe83a",
   "metadata": {
    "tags": []
   },
   "outputs": [],
   "source": [
    "e1.args"
   ]
  },
  {
   "cell_type": "code",
   "execution_count": null,
   "id": "1b4e6e44-419a-4f32-9343-cfd368d0cfc2",
   "metadata": {
    "tags": []
   },
   "outputs": [],
   "source": [
    "g(x) & y < 3"
   ]
  },
  {
   "cell_type": "code",
   "execution_count": null,
   "id": "dd65aeb2-1507-4538-97f0-04be666ad9d6",
   "metadata": {},
   "outputs": [],
   "source": [
    "ITE"
   ]
  }
 ],
 "metadata": {
  "kernelspec": {
   "display_name": "Python 3 (ipykernel)",
   "language": "python",
   "name": "python3"
  },
  "language_info": {
   "codemirror_mode": {
    "name": "ipython",
    "version": 3
   },
   "file_extension": ".py",
   "mimetype": "text/x-python",
   "name": "python",
   "nbconvert_exporter": "python",
   "pygments_lexer": "ipython3",
   "version": "3.10.9"
  }
 },
 "nbformat": 4,
 "nbformat_minor": 5
}
