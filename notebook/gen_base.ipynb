{
 "cells": [
  {
   "cell_type": "code",
   "execution_count": 41,
   "id": "b7a3a1c5-82ef-4a3c-a97a-be143a736448",
   "metadata": {},
   "outputs": [],
   "source": [
    "from sympy import S, simplify, srepr, sympify, Symbol, Dummy"
   ]
  },
  {
   "cell_type": "code",
   "execution_count": 11,
   "id": "8649946a-b5dc-4d96-ad68-65007cb27161",
   "metadata": {},
   "outputs": [
    {
     "name": "stdout",
     "output_type": "stream",
     "text": [
      "exception raised.\n"
     ]
    }
   ],
   "source": [
    "# we need appropriate parens\n",
    "try:\n",
    "    S('0<x & 3<x')\n",
    "except TypeError:\n",
    "    print(\"exception raised.\")"
   ]
  },
  {
   "cell_type": "code",
   "execution_count": 12,
   "id": "1a6d4693-545b-4f94-a96d-c2b02c485121",
   "metadata": {},
   "outputs": [
    {
     "data": {
      "text/latex": [
       "$\\displaystyle 0 < x \\wedge 3 < x$"
      ],
      "text/plain": [
       "(0 < x) & (3 < x)"
      ]
     },
     "execution_count": 12,
     "metadata": {},
     "output_type": "execute_result"
    }
   ],
   "source": [
    "e1 = S('(0<x) & (3<x)')\n",
    "e1"
   ]
  },
  {
   "cell_type": "code",
   "execution_count": 14,
   "id": "5c0f104f-49ab-414b-995b-e35c5f630a69",
   "metadata": {},
   "outputs": [
    {
     "data": {
      "text/latex": [
       "$\\displaystyle x > 3$"
      ],
      "text/plain": [
       "x > 3"
      ]
     },
     "execution_count": 14,
     "metadata": {},
     "output_type": "execute_result"
    }
   ],
   "source": [
    "simplify(e1)"
   ]
  },
  {
   "cell_type": "code",
   "execution_count": 19,
   "id": "8ae9f177-0814-4d13-90d7-270de17bf2d1",
   "metadata": {},
   "outputs": [
    {
     "data": {
      "text/latex": [
       "$\\displaystyle x \\leq 3 \\wedge x > 0$"
      ],
      "text/plain": [
       "(x <= 3) & (x > 0)"
      ]
     },
     "execution_count": 19,
     "metadata": {},
     "output_type": "execute_result"
    }
   ],
   "source": [
    "e2 = simplify(S('(0 < x) & (x <= 3)'))\n",
    "e2"
   ]
  },
  {
   "cell_type": "code",
   "execution_count": 21,
   "id": "eab47598-06dd-4a8a-9ca5-f5dfe6c45d8c",
   "metadata": {},
   "outputs": [
    {
     "name": "stdout",
     "output_type": "stream",
     "text": [
      "Interval(Integer(0), Integer(3), true, false)\n"
     ]
    },
    {
     "data": {
      "text/latex": [
       "$\\displaystyle \\left(0, 3\\right]$"
      ],
      "text/plain": [
       "Interval.Lopen(0, 3)"
      ]
     },
     "execution_count": 21,
     "metadata": {},
     "output_type": "execute_result"
    }
   ],
   "source": [
    "print(srepr(e2.as_set()))\n",
    "e2.as_set()"
   ]
  },
  {
   "cell_type": "code",
   "execution_count": 55,
   "id": "d8ac7de0-a22a-40fe-ae41-e9cd639718b3",
   "metadata": {},
   "outputs": [
    {
     "name": "stdout",
     "output_type": "stream",
     "text": [
      "Lambda(Tuple(Symbol('x')), And(StrictLessThan(Integer(0), Symbol('x')), StrictLessThan(Integer(3), Symbol('x'))))\n"
     ]
    },
    {
     "data": {
      "text/latex": [
       "$\\displaystyle \\left( x \\mapsto 0 < x \\wedge 3 < x \\right)$"
      ],
      "text/plain": [
       "Lambda(x, (0 < x) & (3 < x))"
      ]
     },
     "execution_count": 55,
     "metadata": {},
     "output_type": "execute_result"
    }
   ],
   "source": [
    "e2 = S('lambda x: (0<x) & (3<x)')\n",
    "print(srepr(e2))\n",
    "e2"
   ]
  },
  {
   "cell_type": "code",
   "execution_count": 56,
   "id": "faae3ad8-e92d-4be3-b0d6-8847de61b5d4",
   "metadata": {},
   "outputs": [
    {
     "data": {
      "text/latex": [
       "$\\displaystyle 0 < y \\wedge 3 < y$"
      ],
      "text/plain": [
       "(0 < _y) & (3 < _y)"
      ]
     },
     "execution_count": 56,
     "metadata": {},
     "output_type": "execute_result"
    }
   ],
   "source": [
    "e2(Dummy('y'))"
   ]
  },
  {
   "cell_type": "code",
   "execution_count": 57,
   "id": "d9a7e16b-9cdb-4260-89f5-f92c2f772101",
   "metadata": {},
   "outputs": [
    {
     "data": {
      "text/latex": [
       "$\\displaystyle y > 3$"
      ],
      "text/plain": [
       "_y > 3"
      ]
     },
     "execution_count": 57,
     "metadata": {},
     "output_type": "execute_result"
    }
   ],
   "source": [
    "simplify(e2(Dummy('y')))"
   ]
  },
  {
   "cell_type": "markdown",
   "id": "23371f94-b6b0-4580-b322-9ca01bbefed5",
   "metadata": {},
   "source": [
    "Try with `interger` assumption:"
   ]
  },
  {
   "cell_type": "code",
   "execution_count": 35,
   "id": "b8d2220d-af33-4477-9108-a6f746320877",
   "metadata": {},
   "outputs": [
    {
     "data": {
      "text/latex": [
       "$\\displaystyle x \\leq 3 \\wedge 0 < x$"
      ],
      "text/plain": [
       "(x <= 3) & (0 < x)"
      ]
     },
     "execution_count": 35,
     "metadata": {},
     "output_type": "execute_result"
    }
   ],
   "source": [
    "e3 = sympify('(0 < x) & (x <= 3)', locals={'x': Symbol('x', integer=True)})\n",
    "e3"
   ]
  },
  {
   "cell_type": "code",
   "execution_count": 38,
   "id": "c6bd673a-c97c-47bd-82b3-5e62d6249733",
   "metadata": {},
   "outputs": [
    {
     "data": {
      "text/latex": [
       "$\\displaystyle x \\leq 3$"
      ],
      "text/plain": [
       "x <= 3"
      ]
     },
     "execution_count": 38,
     "metadata": {},
     "output_type": "execute_result"
    }
   ],
   "source": [
    "e3.args[0]"
   ]
  },
  {
   "cell_type": "code",
   "execution_count": 39,
   "id": "62a443df-c866-496c-8161-ad3f42b805fc",
   "metadata": {},
   "outputs": [
    {
     "data": {
      "text/latex": [
       "$\\displaystyle x$"
      ],
      "text/plain": [
       "x"
      ]
     },
     "execution_count": 39,
     "metadata": {},
     "output_type": "execute_result"
    }
   ],
   "source": [
    "e3.args[0].args[0]"
   ]
  },
  {
   "cell_type": "code",
   "execution_count": 40,
   "id": "748a5d12-2580-4475-991d-64b37d85550c",
   "metadata": {},
   "outputs": [
    {
     "data": {
      "text/plain": [
       "True"
      ]
     },
     "execution_count": 40,
     "metadata": {},
     "output_type": "execute_result"
    }
   ],
   "source": [
    "e3.args[0].args[0].is_integer"
   ]
  },
  {
   "cell_type": "code",
   "execution_count": 36,
   "id": "c1dbb893-ed85-4444-9f26-2da916053a22",
   "metadata": {},
   "outputs": [
    {
     "data": {
      "text/latex": [
       "$\\displaystyle \\left(0, 3\\right]$"
      ],
      "text/plain": [
       "Interval.Lopen(0, 3)"
      ]
     },
     "execution_count": 36,
     "metadata": {},
     "output_type": "execute_result"
    }
   ],
   "source": [
    "e3.as_set()"
   ]
  },
  {
   "cell_type": "code",
   "execution_count": 37,
   "id": "b65f02ed-9410-4b90-9f40-ca93c028ca03",
   "metadata": {},
   "outputs": [
    {
     "data": {
      "text/plain": [
       "{Q.lt(0, x): True, Q.le(x, 3): True}"
      ]
     },
     "execution_count": 37,
     "metadata": {},
     "output_type": "execute_result"
    }
   ],
   "source": [
    "from sympy import satisfiable\n",
    "\n",
    "satisfiable(e3)"
   ]
  },
  {
   "cell_type": "code",
   "execution_count": 43,
   "id": "bf5a63d4-be61-42f5-b40f-cdd5126bff92",
   "metadata": {},
   "outputs": [
    {
     "data": {
      "text/plain": [
       "\"Dummy('x', dummy_index=4918633)\""
      ]
     },
     "execution_count": 43,
     "metadata": {},
     "output_type": "execute_result"
    }
   ],
   "source": [
    "srepr(Dummy('x'))"
   ]
  },
  {
   "cell_type": "code",
   "execution_count": 45,
   "id": "4d5c0817-e710-4d70-8d3b-ab52379ce113",
   "metadata": {},
   "outputs": [
    {
     "data": {
      "text/latex": [
       "$\\displaystyle Dummy_{176}$"
      ],
      "text/plain": [
       "_Dummy_176"
      ]
     },
     "execution_count": 45,
     "metadata": {},
     "output_type": "execute_result"
    }
   ],
   "source": [
    "Dummy()"
   ]
  },
  {
   "cell_type": "code",
   "execution_count": 49,
   "id": "0051f2e9-eda7-45eb-8628-9229d5124603",
   "metadata": {},
   "outputs": [
    {
     "data": {
      "text/latex": [
       "$\\displaystyle y^{2} + y + 1$"
      ],
      "text/plain": [
       "_y**2 + _y + 1"
      ]
     },
     "execution_count": 49,
     "metadata": {},
     "output_type": "execute_result"
    }
   ],
   "source": [
    "e4 = S('x**2 + x+ 1').subs('x', Dummy('y'))\n",
    "e4"
   ]
  },
  {
   "cell_type": "code",
   "execution_count": 50,
   "id": "c60d9d12-3e22-4904-8d78-6d107df6cfeb",
   "metadata": {},
   "outputs": [
    {
     "data": {
      "text/plain": [
       "\"Add(Pow(Dummy('y', dummy_index=4918637), Integer(2)), Dummy('y', dummy_index=4918637), Integer(1))\""
      ]
     },
     "execution_count": 50,
     "metadata": {},
     "output_type": "execute_result"
    }
   ],
   "source": [
    "srepr(e4)"
   ]
  },
  {
   "cell_type": "code",
   "execution_count": 51,
   "id": "11b06596-6f4c-4411-8550-be5b0b8d6300",
   "metadata": {},
   "outputs": [
    {
     "data": {
      "text/plain": [
       "sympy.core.add.Add"
      ]
     },
     "execution_count": 51,
     "metadata": {},
     "output_type": "execute_result"
    }
   ],
   "source": [
    "e4.func"
   ]
  },
  {
   "cell_type": "code",
   "execution_count": 52,
   "id": "00b13797-be3d-4974-9689-bd8aea5b1257",
   "metadata": {},
   "outputs": [
    {
     "data": {
      "text/plain": [
       "(1, _y**2, _y)"
      ]
     },
     "execution_count": 52,
     "metadata": {},
     "output_type": "execute_result"
    }
   ],
   "source": [
    "e4.args"
   ]
  },
  {
   "cell_type": "code",
   "execution_count": null,
   "id": "cb424931-5fbb-40a7-bd03-25b39c4692cc",
   "metadata": {},
   "outputs": [],
   "source": []
  }
 ],
 "metadata": {
  "kernelspec": {
   "display_name": "Python 3 (ipykernel)",
   "language": "python",
   "name": "python3"
  },
  "language_info": {
   "codemirror_mode": {
    "name": "ipython",
    "version": 3
   },
   "file_extension": ".py",
   "mimetype": "text/x-python",
   "name": "python",
   "nbconvert_exporter": "python",
   "pygments_lexer": "ipython3",
   "version": "3.10.9"
  }
 },
 "nbformat": 4,
 "nbformat_minor": 5
}
