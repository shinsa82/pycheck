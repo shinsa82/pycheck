{
 "cells": [
  {
   "cell_type": "markdown",
   "id": "e1dce50d-ea01-4b22-bc91-cb2aba4c2cf6",
   "metadata": {},
   "source": [
    "# Experiments on our custom Exist"
   ]
  },
  {
   "cell_type": "code",
   "execution_count": 1,
   "id": "7121b202-382a-4576-824f-46467d3eedff",
   "metadata": {
    "tags": []
   },
   "outputs": [],
   "source": [
    "from sympy import S, srepr, Lambda, Function, Symbol\n",
    "from pycheck.codegen.sympy_lib import Exist"
   ]
  },
  {
   "cell_type": "markdown",
   "id": "8b559bef-3005-44ea-a0df-933870bcf03a",
   "metadata": {
    "tags": []
   },
   "source": [
    "## Learn from Lambda"
   ]
  },
  {
   "cell_type": "code",
   "execution_count": 2,
   "id": "91a8b871-68c7-4753-b601-1fb752e2d15f",
   "metadata": {
    "tags": []
   },
   "outputs": [
    {
     "data": {
      "text/latex": [
       "$\\displaystyle \\left( x \\mapsto x > 3 \\vee y < 5 \\right)$"
      ],
      "text/plain": [
       "Lambda(x, (x > 3) | (y < 5))"
      ]
     },
     "execution_count": 2,
     "metadata": {},
     "output_type": "execute_result"
    }
   ],
   "source": [
    "e1 = S('Lambda(x, (x>3) | (y<5) )')\n",
    "e1"
   ]
  },
  {
   "cell_type": "code",
   "execution_count": 3,
   "id": "97808117-2865-42e2-9bd3-f0ec92f5a710",
   "metadata": {
    "tags": []
   },
   "outputs": [
    {
     "data": {
      "text/plain": [
       "{y}"
      ]
     },
     "execution_count": 3,
     "metadata": {},
     "output_type": "execute_result"
    }
   ],
   "source": [
    "e1.free_symbols # set"
   ]
  },
  {
   "cell_type": "code",
   "execution_count": 4,
   "id": "b046339f-66a6-45f1-bc55-e6669c137b86",
   "metadata": {
    "tags": []
   },
   "outputs": [
    {
     "data": {
      "text/plain": [
       "(x,)"
      ]
     },
     "execution_count": 4,
     "metadata": {},
     "output_type": "execute_result"
    }
   ],
   "source": [
    "e1.bound_symbols # tuple"
   ]
  },
  {
   "cell_type": "code",
   "execution_count": 5,
   "id": "fffff6be-1646-41d3-aa0e-7405fab0006b",
   "metadata": {
    "tags": []
   },
   "outputs": [
    {
     "data": {
      "text/latex": [
       "$\\displaystyle \\text{True}$"
      ],
      "text/plain": [
       "True"
      ]
     },
     "execution_count": 5,
     "metadata": {},
     "output_type": "execute_result"
    }
   ],
   "source": [
    "e1(5)"
   ]
  },
  {
   "cell_type": "code",
   "execution_count": 6,
   "id": "c8c41c3a-fd8a-4359-b5ae-a70f9c54b540",
   "metadata": {
    "tags": []
   },
   "outputs": [
    {
     "data": {
      "text/latex": [
       "$\\displaystyle y < 5$"
      ],
      "text/plain": [
       "y < 5"
      ]
     },
     "execution_count": 6,
     "metadata": {},
     "output_type": "execute_result"
    }
   ],
   "source": [
    "e1(0)"
   ]
  },
  {
   "cell_type": "code",
   "execution_count": 7,
   "id": "a7f4b774-506d-43a6-be5e-0fbad793daf7",
   "metadata": {
    "tags": []
   },
   "outputs": [
    {
     "data": {
      "text/latex": [
       "$\\displaystyle \\left( x \\mapsto \\text{True} \\right)$"
      ],
      "text/plain": [
       "Lambda(x, True)"
      ]
     },
     "execution_count": 7,
     "metadata": {},
     "output_type": "execute_result"
    }
   ],
   "source": [
    "e1.subs('y', 3)"
   ]
  },
  {
   "cell_type": "code",
   "execution_count": 8,
   "id": "6dcec3b0-d258-4370-b85a-5533a4db1913",
   "metadata": {
    "tags": []
   },
   "outputs": [
    {
     "data": {
      "text/latex": [
       "$\\displaystyle \\left( x \\mapsto x > 3 \\right)$"
      ],
      "text/plain": [
       "Lambda(x, x > 3)"
      ]
     },
     "execution_count": 8,
     "metadata": {},
     "output_type": "execute_result"
    }
   ],
   "source": [
    "e1.subs('y', 6)"
   ]
  },
  {
   "cell_type": "markdown",
   "id": "31bae3eb-c2d4-481b-90e4-a342c947d6c8",
   "metadata": {},
   "source": [
    "## Exist"
   ]
  },
  {
   "cell_type": "code",
   "execution_count": 9,
   "id": "93ebd4b2-f8a9-42c4-9233-165a8bf20833",
   "metadata": {
    "tags": []
   },
   "outputs": [
    {
     "data": {
      "text/latex": [
       "$\\displaystyle \\operatorname{Exist}\\left(x, x > 3 \\vee y < 5\\right)$"
      ],
      "text/plain": [
       "Exist(x, (x > 3) | (y < 5))"
      ]
     },
     "execution_count": 9,
     "metadata": {},
     "output_type": "execute_result"
    }
   ],
   "source": [
    "e2 = S('Exist(x, (x>3) | (y<5) )', locals={'Exist': Exist})\n",
    "e2"
   ]
  },
  {
   "cell_type": "code",
   "execution_count": 10,
   "id": "814b6261-5ea9-42eb-82b5-83e94311357f",
   "metadata": {
    "tags": []
   },
   "outputs": [
    {
     "data": {
      "text/plain": [
       "\"Exist(Symbol('x'), Or(StrictGreaterThan(Symbol('x'), Integer(3)), StrictLessThan(Symbol('y'), Integer(5))))\""
      ]
     },
     "execution_count": 10,
     "metadata": {},
     "output_type": "execute_result"
    }
   ],
   "source": [
    "srepr(e2)"
   ]
  },
  {
   "cell_type": "code",
   "execution_count": 11,
   "id": "9a8eeb5c-7378-4374-97da-abf8ce353344",
   "metadata": {
    "tags": []
   },
   "outputs": [
    {
     "data": {
      "text/plain": [
       "{y}"
      ]
     },
     "execution_count": 11,
     "metadata": {},
     "output_type": "execute_result"
    }
   ],
   "source": [
    "e2.free_symbols"
   ]
  },
  {
   "cell_type": "code",
   "execution_count": 12,
   "id": "8f79c829-ce03-49e8-a230-fd5cdc3f1cba",
   "metadata": {
    "tags": []
   },
   "outputs": [
    {
     "data": {
      "text/plain": [
       "(x,)"
      ]
     },
     "execution_count": 12,
     "metadata": {},
     "output_type": "execute_result"
    }
   ],
   "source": [
    "e2.bound_symbols"
   ]
  },
  {
   "cell_type": "code",
   "execution_count": 13,
   "id": "dde84e66-f66d-4d9a-a88f-a59e09a39411",
   "metadata": {
    "tags": []
   },
   "outputs": [
    {
     "data": {
      "text/latex": [
       "$\\displaystyle \\operatorname{Exist}\\left(x, \\text{True}\\right)$"
      ],
      "text/plain": [
       "Exist(x, True)"
      ]
     },
     "execution_count": 13,
     "metadata": {},
     "output_type": "execute_result"
    }
   ],
   "source": [
    "e2.subs('y', 0)"
   ]
  },
  {
   "cell_type": "code",
   "execution_count": 14,
   "id": "2e5df43a-e155-47dc-af51-0dde30db3713",
   "metadata": {
    "tags": []
   },
   "outputs": [
    {
     "data": {
      "text/latex": [
       "$\\displaystyle \\operatorname{Exist}\\left(x, x > 3 \\vee y < 5\\right)$"
      ],
      "text/plain": [
       "Exist(x, (x > 3) | (y < 5))"
      ]
     },
     "execution_count": 14,
     "metadata": {},
     "output_type": "execute_result"
    }
   ],
   "source": [
    "e2 & S.true"
   ]
  },
  {
   "cell_type": "code",
   "execution_count": 15,
   "id": "c1044856-3cc3-4a16-8492-3d436e6e9b1a",
   "metadata": {
    "tags": []
   },
   "outputs": [
    {
     "data": {
      "text/latex": [
       "$\\displaystyle \\text{False}$"
      ],
      "text/plain": [
       "False"
      ]
     },
     "execution_count": 15,
     "metadata": {},
     "output_type": "execute_result"
    }
   ],
   "source": [
    "e2 & S.false"
   ]
  },
  {
   "cell_type": "code",
   "execution_count": 16,
   "id": "37733b25-6f98-4c31-9723-82578f5fedfa",
   "metadata": {
    "tags": []
   },
   "outputs": [
    {
     "ename": "TypeError",
     "evalue": "expecting bool or Boolean, not `Exist(x, (x > 3) | (y < 5))`.",
     "output_type": "error",
     "traceback": [
      "\u001b[0;31m---------------------------------------------------------------------------\u001b[0m",
      "\u001b[0;31mTypeError\u001b[0m                                 Traceback (most recent call last)",
      "Cell \u001b[0;32mIn[16], line 1\u001b[0m\n\u001b[0;32m----> 1\u001b[0m \u001b[43me2\u001b[49m\u001b[43m \u001b[49m\u001b[38;5;241;43m&\u001b[39;49m\u001b[43m \u001b[49m\u001b[43m(\u001b[49m\u001b[43mS\u001b[49m\u001b[43m(\u001b[49m\u001b[38;5;124;43m'\u001b[39;49m\u001b[38;5;124;43my < 5\u001b[39;49m\u001b[38;5;124;43m'\u001b[39;49m\u001b[43m)\u001b[49m\u001b[43m)\u001b[49m\n",
      "File \u001b[0;32m/workspaces/pycheck/src/pycheck/codegen/sympy_lib.py:180\u001b[0m, in \u001b[0;36mExist.__and__\u001b[0;34m(self, other)\u001b[0m\n\u001b[1;32m    178\u001b[0m \u001b[38;5;28;01mif\u001b[39;00m other \u001b[38;5;241m==\u001b[39m S\u001b[38;5;241m.\u001b[39mfalse:\n\u001b[1;32m    179\u001b[0m     \u001b[38;5;28;01mreturn\u001b[39;00m S\u001b[38;5;241m.\u001b[39mfalse\n\u001b[0;32m--> 180\u001b[0m \u001b[38;5;28;01mreturn\u001b[39;00m \u001b[43mAnd\u001b[49m\u001b[43m(\u001b[49m\u001b[38;5;28;43mself\u001b[39;49m\u001b[43m,\u001b[49m\u001b[43m \u001b[49m\u001b[43mother\u001b[49m\u001b[43m)\u001b[49m\n",
      "File \u001b[0;32m~/.local/lib/python3.10/site-packages/sympy/core/operations.py:512\u001b[0m, in \u001b[0;36mLatticeOp.__new__\u001b[0;34m(cls, *args, **options)\u001b[0m\n\u001b[1;32m    505\u001b[0m args \u001b[38;5;241m=\u001b[39m (_sympify_(arg) \u001b[38;5;28;01mfor\u001b[39;00m arg \u001b[38;5;129;01min\u001b[39;00m args)\n\u001b[1;32m    507\u001b[0m \u001b[38;5;28;01mtry\u001b[39;00m:\n\u001b[1;32m    508\u001b[0m     \u001b[38;5;66;03m# /!\\ args is a generator and _new_args_filter\u001b[39;00m\n\u001b[1;32m    509\u001b[0m     \u001b[38;5;66;03m# must be careful to handle as such; this\u001b[39;00m\n\u001b[1;32m    510\u001b[0m     \u001b[38;5;66;03m# is done so short-circuiting can be done\u001b[39;00m\n\u001b[1;32m    511\u001b[0m     \u001b[38;5;66;03m# without having to sympify all values\u001b[39;00m\n\u001b[0;32m--> 512\u001b[0m     _args \u001b[38;5;241m=\u001b[39m \u001b[38;5;28mfrozenset\u001b[39m(\u001b[38;5;28;43mcls\u001b[39;49m\u001b[38;5;241;43m.\u001b[39;49m\u001b[43m_new_args_filter\u001b[49m\u001b[43m(\u001b[49m\u001b[43margs\u001b[49m\u001b[43m)\u001b[49m)\n\u001b[1;32m    513\u001b[0m \u001b[38;5;28;01mexcept\u001b[39;00m ShortCircuit:\n\u001b[1;32m    514\u001b[0m     \u001b[38;5;28;01mreturn\u001b[39;00m sympify(\u001b[38;5;28mcls\u001b[39m\u001b[38;5;241m.\u001b[39mzero)\n",
      "File \u001b[0;32m~/.local/lib/python3.10/site-packages/sympy/logic/boolalg.py:606\u001b[0m, in \u001b[0;36mAnd._new_args_filter\u001b[0;34m(cls, args)\u001b[0m\n\u001b[1;32m    604\u001b[0m \u001b[38;5;129m@classmethod\u001b[39m\n\u001b[1;32m    605\u001b[0m \u001b[38;5;28;01mdef\u001b[39;00m \u001b[38;5;21m_new_args_filter\u001b[39m(\u001b[38;5;28mcls\u001b[39m, args):\n\u001b[0;32m--> 606\u001b[0m     args \u001b[38;5;241m=\u001b[39m \u001b[43mBooleanFunction\u001b[49m\u001b[38;5;241;43m.\u001b[39;49m\u001b[43mbinary_check_and_simplify\u001b[49m\u001b[43m(\u001b[49m\u001b[38;5;241;43m*\u001b[39;49m\u001b[43margs\u001b[49m\u001b[43m)\u001b[49m\n\u001b[1;32m    607\u001b[0m     args \u001b[38;5;241m=\u001b[39m LatticeOp\u001b[38;5;241m.\u001b[39m_new_args_filter(args, And)\n\u001b[1;32m    608\u001b[0m     newargs \u001b[38;5;241m=\u001b[39m []\n",
      "File \u001b[0;32m~/.local/lib/python3.10/site-packages/sympy/logic/boolalg.py:494\u001b[0m, in \u001b[0;36mBooleanFunction.binary_check_and_simplify\u001b[0;34m(self, *args)\u001b[0m\n\u001b[1;32m    491\u001b[0m \u001b[38;5;129m@classmethod\u001b[39m\n\u001b[1;32m    492\u001b[0m \u001b[38;5;28;01mdef\u001b[39;00m \u001b[38;5;21mbinary_check_and_simplify\u001b[39m(\u001b[38;5;28mself\u001b[39m, \u001b[38;5;241m*\u001b[39margs):\n\u001b[1;32m    493\u001b[0m     \u001b[38;5;28;01mfrom\u001b[39;00m \u001b[38;5;21;01msympy\u001b[39;00m\u001b[38;5;21;01m.\u001b[39;00m\u001b[38;5;21;01mcore\u001b[39;00m\u001b[38;5;21;01m.\u001b[39;00m\u001b[38;5;21;01mrelational\u001b[39;00m \u001b[38;5;28;01mimport\u001b[39;00m Relational, Eq, Ne\n\u001b[0;32m--> 494\u001b[0m     args \u001b[38;5;241m=\u001b[39m [as_Boolean(i) \u001b[38;5;28;01mfor\u001b[39;00m i \u001b[38;5;129;01min\u001b[39;00m args]\n\u001b[1;32m    495\u001b[0m     bin_syms \u001b[38;5;241m=\u001b[39m \u001b[38;5;28mset\u001b[39m()\u001b[38;5;241m.\u001b[39munion(\u001b[38;5;241m*\u001b[39m[i\u001b[38;5;241m.\u001b[39mbinary_symbols \u001b[38;5;28;01mfor\u001b[39;00m i \u001b[38;5;129;01min\u001b[39;00m args])\n\u001b[1;32m    496\u001b[0m     rel \u001b[38;5;241m=\u001b[39m \u001b[38;5;28mset\u001b[39m()\u001b[38;5;241m.\u001b[39munion(\u001b[38;5;241m*\u001b[39m[i\u001b[38;5;241m.\u001b[39matoms(Relational) \u001b[38;5;28;01mfor\u001b[39;00m i \u001b[38;5;129;01min\u001b[39;00m args])\n",
      "File \u001b[0;32m~/.local/lib/python3.10/site-packages/sympy/logic/boolalg.py:494\u001b[0m, in \u001b[0;36m<listcomp>\u001b[0;34m(.0)\u001b[0m\n\u001b[1;32m    491\u001b[0m \u001b[38;5;129m@classmethod\u001b[39m\n\u001b[1;32m    492\u001b[0m \u001b[38;5;28;01mdef\u001b[39;00m \u001b[38;5;21mbinary_check_and_simplify\u001b[39m(\u001b[38;5;28mself\u001b[39m, \u001b[38;5;241m*\u001b[39margs):\n\u001b[1;32m    493\u001b[0m     \u001b[38;5;28;01mfrom\u001b[39;00m \u001b[38;5;21;01msympy\u001b[39;00m\u001b[38;5;21;01m.\u001b[39;00m\u001b[38;5;21;01mcore\u001b[39;00m\u001b[38;5;21;01m.\u001b[39;00m\u001b[38;5;21;01mrelational\u001b[39;00m \u001b[38;5;28;01mimport\u001b[39;00m Relational, Eq, Ne\n\u001b[0;32m--> 494\u001b[0m     args \u001b[38;5;241m=\u001b[39m [\u001b[43mas_Boolean\u001b[49m\u001b[43m(\u001b[49m\u001b[43mi\u001b[49m\u001b[43m)\u001b[49m \u001b[38;5;28;01mfor\u001b[39;00m i \u001b[38;5;129;01min\u001b[39;00m args]\n\u001b[1;32m    495\u001b[0m     bin_syms \u001b[38;5;241m=\u001b[39m \u001b[38;5;28mset\u001b[39m()\u001b[38;5;241m.\u001b[39munion(\u001b[38;5;241m*\u001b[39m[i\u001b[38;5;241m.\u001b[39mbinary_symbols \u001b[38;5;28;01mfor\u001b[39;00m i \u001b[38;5;129;01min\u001b[39;00m args])\n\u001b[1;32m    496\u001b[0m     rel \u001b[38;5;241m=\u001b[39m \u001b[38;5;28mset\u001b[39m()\u001b[38;5;241m.\u001b[39munion(\u001b[38;5;241m*\u001b[39m[i\u001b[38;5;241m.\u001b[39matoms(Relational) \u001b[38;5;28;01mfor\u001b[39;00m i \u001b[38;5;129;01min\u001b[39;00m args])\n",
      "File \u001b[0;32m~/.local/lib/python3.10/site-packages/sympy/logic/boolalg.py:61\u001b[0m, in \u001b[0;36mas_Boolean\u001b[0;34m(e)\u001b[0m\n\u001b[1;32m     59\u001b[0m \u001b[38;5;28;01mif\u001b[39;00m \u001b[38;5;28misinstance\u001b[39m(e, Boolean):\n\u001b[1;32m     60\u001b[0m     \u001b[38;5;28;01mreturn\u001b[39;00m e\n\u001b[0;32m---> 61\u001b[0m \u001b[38;5;28;01mraise\u001b[39;00m \u001b[38;5;167;01mTypeError\u001b[39;00m(\u001b[38;5;124m'\u001b[39m\u001b[38;5;124mexpecting bool or Boolean, not `\u001b[39m\u001b[38;5;132;01m%s\u001b[39;00m\u001b[38;5;124m`.\u001b[39m\u001b[38;5;124m'\u001b[39m \u001b[38;5;241m%\u001b[39m e)\n",
      "\u001b[0;31mTypeError\u001b[0m: expecting bool or Boolean, not `Exist(x, (x > 3) | (y < 5))`."
     ]
    }
   ],
   "source": [
    "e2 & (S('y < 5'))"
   ]
  },
  {
   "cell_type": "code",
   "execution_count": null,
   "id": "afd2e114-34b0-439c-8773-d71c9fb931ef",
   "metadata": {
    "tags": []
   },
   "outputs": [],
   "source": [
    "e2 | S.true"
   ]
  },
  {
   "cell_type": "code",
   "execution_count": null,
   "id": "0be9840b-5095-4b4d-b357-6f8358eb1b7e",
   "metadata": {
    "tags": []
   },
   "outputs": [],
   "source": [
    "S('Exist(x, x > 3)', locals={'Exist':Exist})"
   ]
  },
  {
   "cell_type": "code",
   "execution_count": null,
   "id": "b6724dc3-3a11-4ce3-b88a-43d7cccf2850",
   "metadata": {
    "tags": []
   },
   "outputs": [],
   "source": [
    "Exist('x', S('x > 3')) | S.true"
   ]
  },
  {
   "cell_type": "code",
   "execution_count": null,
   "id": "300a0aa1-9d0a-4c21-bf66-960339079792",
   "metadata": {
    "tags": []
   },
   "outputs": [],
   "source": [
    "e3 = S('Exist(x, f(x)<3)', locals={'Exist':Exist})\n",
    "e3"
   ]
  },
  {
   "cell_type": "code",
   "execution_count": null,
   "id": "732722aa-4f4e-41ec-ab82-c92389ce1321",
   "metadata": {
    "tags": []
   },
   "outputs": [],
   "source": [
    "srepr(e3)"
   ]
  },
  {
   "cell_type": "code",
   "execution_count": null,
   "id": "4df6b915-b638-4821-9d1b-00730dd49140",
   "metadata": {
    "tags": []
   },
   "outputs": [],
   "source": [
    "e3.subs(Function('f'), 5)"
   ]
  },
  {
   "cell_type": "code",
   "execution_count": null,
   "id": "2aa2af50-89d9-49d6-88e9-e74a5a517760",
   "metadata": {
    "tags": []
   },
   "outputs": [],
   "source": [
    "e3.subs(Function('f'), lambda x: x+1)"
   ]
  },
  {
   "cell_type": "code",
   "execution_count": 17,
   "id": "e931791a-9564-4599-99be-9af9cea8a556",
   "metadata": {
    "tags": []
   },
   "outputs": [
    {
     "data": {
      "text/latex": [
       "$\\displaystyle f{\\left(x \\right)} < 3$"
      ],
      "text/plain": [
       "f(x) < 3"
      ]
     },
     "execution_count": 17,
     "metadata": {},
     "output_type": "execute_result"
    }
   ],
   "source": [
    "e4 = S('f(x) < 3')\n",
    "e4"
   ]
  },
  {
   "cell_type": "code",
   "execution_count": 18,
   "id": "4bae3cbe-fed9-4f08-8865-c4d3afd7e544",
   "metadata": {
    "tags": []
   },
   "outputs": [
    {
     "data": {
      "text/plain": [
       "\"StrictLessThan(Function('f')(Symbol('x')), Integer(3))\""
      ]
     },
     "execution_count": 18,
     "metadata": {},
     "output_type": "execute_result"
    }
   ],
   "source": [
    "srepr(e4)"
   ]
  },
  {
   "cell_type": "code",
   "execution_count": 27,
   "id": "6dd063fc-c88c-4586-9b49-b50827e349d4",
   "metadata": {
    "tags": []
   },
   "outputs": [
    {
     "data": {
      "text/latex": [
       "$\\displaystyle f{\\left(x \\right)} < 3$"
      ],
      "text/plain": [
       "f(x) < 3"
      ]
     },
     "execution_count": 27,
     "metadata": {},
     "output_type": "execute_result"
    }
   ],
   "source": [
    "e4.subs('f', S(5))"
   ]
  },
  {
   "cell_type": "code",
   "execution_count": 28,
   "id": "40608651-e950-4c29-b552-389853cecb0d",
   "metadata": {
    "tags": []
   },
   "outputs": [
    {
     "data": {
      "text/latex": [
       "$\\displaystyle f{\\left(x \\right)} < 3$"
      ],
      "text/plain": [
       "f(x) < 3"
      ]
     },
     "execution_count": 28,
     "metadata": {},
     "output_type": "execute_result"
    }
   ],
   "source": [
    "e4.subs(Function('f'), S(5))"
   ]
  },
  {
   "cell_type": "code",
   "execution_count": 26,
   "id": "4d284899-e875-4a1c-ad8d-f338c28c0a42",
   "metadata": {
    "tags": []
   },
   "outputs": [
    {
     "data": {
      "text/latex": [
       "$\\displaystyle x + 1 < 3$"
      ],
      "text/plain": [
       "x + 1 < 3"
      ]
     },
     "execution_count": 26,
     "metadata": {},
     "output_type": "execute_result"
    }
   ],
   "source": [
    "e4.subs(Function('f'), S('lambda x: x+1'))"
   ]
  },
  {
   "cell_type": "code",
   "execution_count": 29,
   "id": "353323ac-a7a2-40bf-9e37-33449a55cad5",
   "metadata": {
    "tags": []
   },
   "outputs": [
    {
     "data": {
      "text/latex": [
       "$\\displaystyle f{\\left(x \\right)} < 3$"
      ],
      "text/plain": [
       "f(x) < 3"
      ]
     },
     "execution_count": 29,
     "metadata": {},
     "output_type": "execute_result"
    }
   ],
   "source": [
    "e4.subs('f', S('lambda x: x+1'))"
   ]
  },
  {
   "cell_type": "code",
   "execution_count": 30,
   "id": "13229d6e-d8b4-4b3d-9f0f-760786787eca",
   "metadata": {
    "tags": []
   },
   "outputs": [],
   "source": [
    "def f(x):\n",
    "    return x+1"
   ]
  },
  {
   "cell_type": "code",
   "execution_count": 31,
   "id": "3366d831-7f32-42ee-aa98-586765372dc2",
   "metadata": {
    "tags": []
   },
   "outputs": [
    {
     "data": {
      "text/latex": [
       "$\\displaystyle f{\\left(x \\right)} < 3$"
      ],
      "text/plain": [
       "f(x) < 3"
      ]
     },
     "execution_count": 31,
     "metadata": {},
     "output_type": "execute_result"
    }
   ],
   "source": [
    "e4.doit()"
   ]
  },
  {
   "cell_type": "code",
   "execution_count": 33,
   "id": "1672904b-5b59-41f7-a664-82cc74e5e0ce",
   "metadata": {
    "tags": []
   },
   "outputs": [
    {
     "data": {
      "text/latex": [
       "$\\displaystyle f{\\left(x \\right)} < 3 \\wedge g{\\left(x \\right)} < 0$"
      ],
      "text/plain": [
       "(f(x) < 3) & (g(x) < 0)"
      ]
     },
     "execution_count": 33,
     "metadata": {},
     "output_type": "execute_result"
    }
   ],
   "source": [
    "e5 = S('(f(x) < 3) & (g(x) < 0)')\n",
    "e5"
   ]
  },
  {
   "cell_type": "code",
   "execution_count": 45,
   "id": "208253ef-a377-4e78-97db-d92d864fde07",
   "metadata": {
    "tags": []
   },
   "outputs": [
    {
     "ename": "TypeError",
     "evalue": "expecting bool or Boolean, not `f1(x2)`.",
     "output_type": "error",
     "traceback": [
      "\u001b[0;31m---------------------------------------------------------------------------\u001b[0m",
      "\u001b[0;31mValueError\u001b[0m                                Traceback (most recent call last)",
      "\u001b[0;31mValueError\u001b[0m: Error from parse_expr with transformed code: \"Lambda ((Symbol ('x' )),Exist (Symbol ('x2' ),And (f1 (Symbol ('x2' )),x1 (Symbol ('x2' )))))\"",
      "\nThe above exception was the direct cause of the following exception:\n",
      "\u001b[0;31mTypeError\u001b[0m                                 Traceback (most recent call last)",
      "Cell \u001b[0;32mIn[45], line 1\u001b[0m\n\u001b[0;32m----> 1\u001b[0m \u001b[43mS\u001b[49m\u001b[43m(\u001b[49m\u001b[38;5;124;43m'\u001b[39;49m\u001b[38;5;124;43mlambda x: Exist(x2, And(f1(x2), x1(x2)))\u001b[39;49m\u001b[38;5;124;43m'\u001b[39;49m\u001b[43m,\u001b[49m\u001b[43m \u001b[49m\u001b[38;5;28;43mlocals\u001b[39;49m\u001b[38;5;241;43m=\u001b[39;49m\u001b[43m{\u001b[49m\u001b[38;5;124;43m'\u001b[39;49m\u001b[38;5;124;43mExist\u001b[39;49m\u001b[38;5;124;43m'\u001b[39;49m\u001b[43m:\u001b[49m\u001b[43mExist\u001b[49m\u001b[43m,\u001b[49m\u001b[43m \u001b[49m\u001b[38;5;124;43m'\u001b[39;49m\u001b[38;5;124;43mf1\u001b[39;49m\u001b[38;5;124;43m'\u001b[39;49m\u001b[43m:\u001b[49m\u001b[43mFunction\u001b[49m\u001b[43m(\u001b[49m\u001b[43mSymbol\u001b[49m\u001b[43m(\u001b[49m\u001b[38;5;124;43m'\u001b[39;49m\u001b[38;5;124;43mf1\u001b[39;49m\u001b[38;5;124;43m'\u001b[39;49m\u001b[43m,\u001b[49m\u001b[43m \u001b[49m\u001b[43mBoolean\u001b[49m\u001b[38;5;241;43m=\u001b[39;49m\u001b[38;5;28;43;01mTrue\u001b[39;49;00m\u001b[43m)\u001b[49m\u001b[43m)\u001b[49m\u001b[43m,\u001b[49m\u001b[43m \u001b[49m\u001b[38;5;124;43m'\u001b[39;49m\u001b[38;5;124;43mx1\u001b[39;49m\u001b[38;5;124;43m'\u001b[39;49m\u001b[43m:\u001b[49m\u001b[43mFunction\u001b[49m\u001b[43m(\u001b[49m\u001b[38;5;124;43m'\u001b[39;49m\u001b[38;5;124;43mx1\u001b[39;49m\u001b[38;5;124;43m'\u001b[39;49m\u001b[43m)\u001b[49m\u001b[43m}\u001b[49m\u001b[43m)\u001b[49m\n",
      "File \u001b[0;32m~/.local/lib/python3.10/site-packages/sympy/core/sympify.py:496\u001b[0m, in \u001b[0;36msympify\u001b[0;34m(a, locals, convert_xor, strict, rational, evaluate)\u001b[0m\n\u001b[1;32m    494\u001b[0m \u001b[38;5;28;01mtry\u001b[39;00m:\n\u001b[1;32m    495\u001b[0m     a \u001b[38;5;241m=\u001b[39m a\u001b[38;5;241m.\u001b[39mreplace(\u001b[38;5;124m'\u001b[39m\u001b[38;5;130;01m\\n\u001b[39;00m\u001b[38;5;124m'\u001b[39m, \u001b[38;5;124m'\u001b[39m\u001b[38;5;124m'\u001b[39m)\n\u001b[0;32m--> 496\u001b[0m     expr \u001b[38;5;241m=\u001b[39m \u001b[43mparse_expr\u001b[49m\u001b[43m(\u001b[49m\u001b[43ma\u001b[49m\u001b[43m,\u001b[49m\u001b[43m \u001b[49m\u001b[43mlocal_dict\u001b[49m\u001b[38;5;241;43m=\u001b[39;49m\u001b[38;5;28;43mlocals\u001b[39;49m\u001b[43m,\u001b[49m\u001b[43m \u001b[49m\u001b[43mtransformations\u001b[49m\u001b[38;5;241;43m=\u001b[39;49m\u001b[43mtransformations\u001b[49m\u001b[43m,\u001b[49m\u001b[43m \u001b[49m\u001b[43mevaluate\u001b[49m\u001b[38;5;241;43m=\u001b[39;49m\u001b[43mevaluate\u001b[49m\u001b[43m)\u001b[49m\n\u001b[1;32m    497\u001b[0m \u001b[38;5;28;01mexcept\u001b[39;00m (TokenError, \u001b[38;5;167;01mSyntaxError\u001b[39;00m) \u001b[38;5;28;01mas\u001b[39;00m exc:\n\u001b[1;32m    498\u001b[0m     \u001b[38;5;28;01mraise\u001b[39;00m SympifyError(\u001b[38;5;124m'\u001b[39m\u001b[38;5;124mcould not parse \u001b[39m\u001b[38;5;132;01m%r\u001b[39;00m\u001b[38;5;124m'\u001b[39m \u001b[38;5;241m%\u001b[39m a, exc)\n",
      "File \u001b[0;32m~/.local/lib/python3.10/site-packages/sympy/parsing/sympy_parser.py:1101\u001b[0m, in \u001b[0;36mparse_expr\u001b[0;34m(s, local_dict, transformations, global_dict, evaluate)\u001b[0m\n\u001b[1;32m   1099\u001b[0m \u001b[38;5;28;01mfor\u001b[39;00m i \u001b[38;5;129;01min\u001b[39;00m local_dict\u001b[38;5;241m.\u001b[39mpop(null, ()):\n\u001b[1;32m   1100\u001b[0m     local_dict[i] \u001b[38;5;241m=\u001b[39m null\n\u001b[0;32m-> 1101\u001b[0m \u001b[38;5;28;01mraise\u001b[39;00m e \u001b[38;5;28;01mfrom\u001b[39;00m \u001b[38;5;21;01mValueError\u001b[39;00m(\u001b[38;5;124mf\u001b[39m\u001b[38;5;124m\"\u001b[39m\u001b[38;5;124mError from parse_expr with transformed code: \u001b[39m\u001b[38;5;132;01m{\u001b[39;00mcode\u001b[38;5;132;01m!r}\u001b[39;00m\u001b[38;5;124m\"\u001b[39m)\n",
      "File \u001b[0;32m~/.local/lib/python3.10/site-packages/sympy/parsing/sympy_parser.py:1092\u001b[0m, in \u001b[0;36mparse_expr\u001b[0;34m(s, local_dict, transformations, global_dict, evaluate)\u001b[0m\n\u001b[1;32m   1089\u001b[0m     code \u001b[38;5;241m=\u001b[39m \u001b[38;5;28mcompile\u001b[39m(evaluateFalse(code), \u001b[38;5;124m'\u001b[39m\u001b[38;5;124m<string>\u001b[39m\u001b[38;5;124m'\u001b[39m, \u001b[38;5;124m'\u001b[39m\u001b[38;5;124meval\u001b[39m\u001b[38;5;124m'\u001b[39m)\n\u001b[1;32m   1091\u001b[0m \u001b[38;5;28;01mtry\u001b[39;00m:\n\u001b[0;32m-> 1092\u001b[0m     rv \u001b[38;5;241m=\u001b[39m \u001b[43meval_expr\u001b[49m\u001b[43m(\u001b[49m\u001b[43mcode\u001b[49m\u001b[43m,\u001b[49m\u001b[43m \u001b[49m\u001b[43mlocal_dict\u001b[49m\u001b[43m,\u001b[49m\u001b[43m \u001b[49m\u001b[43mglobal_dict\u001b[49m\u001b[43m)\u001b[49m\n\u001b[1;32m   1093\u001b[0m     \u001b[38;5;66;03m# restore neutral definitions for names\u001b[39;00m\n\u001b[1;32m   1094\u001b[0m     \u001b[38;5;28;01mfor\u001b[39;00m i \u001b[38;5;129;01min\u001b[39;00m local_dict\u001b[38;5;241m.\u001b[39mpop(null, ()):\n",
      "File \u001b[0;32m~/.local/lib/python3.10/site-packages/sympy/parsing/sympy_parser.py:907\u001b[0m, in \u001b[0;36meval_expr\u001b[0;34m(code, local_dict, global_dict)\u001b[0m\n\u001b[1;32m    901\u001b[0m \u001b[38;5;28;01mdef\u001b[39;00m \u001b[38;5;21meval_expr\u001b[39m(code, local_dict: DICT, global_dict: DICT):\n\u001b[1;32m    902\u001b[0m \u001b[38;5;250m    \u001b[39m\u001b[38;5;124;03m\"\"\"\u001b[39;00m\n\u001b[1;32m    903\u001b[0m \u001b[38;5;124;03m    Evaluate Python code generated by ``stringify_expr``.\u001b[39;00m\n\u001b[1;32m    904\u001b[0m \n\u001b[1;32m    905\u001b[0m \u001b[38;5;124;03m    Generally, ``parse_expr`` should be used.\u001b[39;00m\n\u001b[1;32m    906\u001b[0m \u001b[38;5;124;03m    \"\"\"\u001b[39;00m\n\u001b[0;32m--> 907\u001b[0m     expr \u001b[38;5;241m=\u001b[39m \u001b[38;5;28;43meval\u001b[39;49m\u001b[43m(\u001b[49m\n\u001b[1;32m    908\u001b[0m \u001b[43m        \u001b[49m\u001b[43mcode\u001b[49m\u001b[43m,\u001b[49m\u001b[43m \u001b[49m\u001b[43mglobal_dict\u001b[49m\u001b[43m,\u001b[49m\u001b[43m \u001b[49m\u001b[43mlocal_dict\u001b[49m\u001b[43m)\u001b[49m  \u001b[38;5;66;03m# take local objects in preference\u001b[39;00m\n\u001b[1;32m    909\u001b[0m     \u001b[38;5;28;01mreturn\u001b[39;00m expr\n",
      "File \u001b[0;32m<string>:1\u001b[0m\n",
      "File \u001b[0;32m~/.local/lib/python3.10/site-packages/sympy/core/operations.py:512\u001b[0m, in \u001b[0;36mLatticeOp.__new__\u001b[0;34m(cls, *args, **options)\u001b[0m\n\u001b[1;32m    505\u001b[0m args \u001b[38;5;241m=\u001b[39m (_sympify_(arg) \u001b[38;5;28;01mfor\u001b[39;00m arg \u001b[38;5;129;01min\u001b[39;00m args)\n\u001b[1;32m    507\u001b[0m \u001b[38;5;28;01mtry\u001b[39;00m:\n\u001b[1;32m    508\u001b[0m     \u001b[38;5;66;03m# /!\\ args is a generator and _new_args_filter\u001b[39;00m\n\u001b[1;32m    509\u001b[0m     \u001b[38;5;66;03m# must be careful to handle as such; this\u001b[39;00m\n\u001b[1;32m    510\u001b[0m     \u001b[38;5;66;03m# is done so short-circuiting can be done\u001b[39;00m\n\u001b[1;32m    511\u001b[0m     \u001b[38;5;66;03m# without having to sympify all values\u001b[39;00m\n\u001b[0;32m--> 512\u001b[0m     _args \u001b[38;5;241m=\u001b[39m \u001b[38;5;28mfrozenset\u001b[39m(\u001b[38;5;28;43mcls\u001b[39;49m\u001b[38;5;241;43m.\u001b[39;49m\u001b[43m_new_args_filter\u001b[49m\u001b[43m(\u001b[49m\u001b[43margs\u001b[49m\u001b[43m)\u001b[49m)\n\u001b[1;32m    513\u001b[0m \u001b[38;5;28;01mexcept\u001b[39;00m ShortCircuit:\n\u001b[1;32m    514\u001b[0m     \u001b[38;5;28;01mreturn\u001b[39;00m sympify(\u001b[38;5;28mcls\u001b[39m\u001b[38;5;241m.\u001b[39mzero)\n",
      "File \u001b[0;32m~/.local/lib/python3.10/site-packages/sympy/logic/boolalg.py:606\u001b[0m, in \u001b[0;36mAnd._new_args_filter\u001b[0;34m(cls, args)\u001b[0m\n\u001b[1;32m    604\u001b[0m \u001b[38;5;129m@classmethod\u001b[39m\n\u001b[1;32m    605\u001b[0m \u001b[38;5;28;01mdef\u001b[39;00m \u001b[38;5;21m_new_args_filter\u001b[39m(\u001b[38;5;28mcls\u001b[39m, args):\n\u001b[0;32m--> 606\u001b[0m     args \u001b[38;5;241m=\u001b[39m \u001b[43mBooleanFunction\u001b[49m\u001b[38;5;241;43m.\u001b[39;49m\u001b[43mbinary_check_and_simplify\u001b[49m\u001b[43m(\u001b[49m\u001b[38;5;241;43m*\u001b[39;49m\u001b[43margs\u001b[49m\u001b[43m)\u001b[49m\n\u001b[1;32m    607\u001b[0m     args \u001b[38;5;241m=\u001b[39m LatticeOp\u001b[38;5;241m.\u001b[39m_new_args_filter(args, And)\n\u001b[1;32m    608\u001b[0m     newargs \u001b[38;5;241m=\u001b[39m []\n",
      "File \u001b[0;32m~/.local/lib/python3.10/site-packages/sympy/logic/boolalg.py:494\u001b[0m, in \u001b[0;36mBooleanFunction.binary_check_and_simplify\u001b[0;34m(self, *args)\u001b[0m\n\u001b[1;32m    491\u001b[0m \u001b[38;5;129m@classmethod\u001b[39m\n\u001b[1;32m    492\u001b[0m \u001b[38;5;28;01mdef\u001b[39;00m \u001b[38;5;21mbinary_check_and_simplify\u001b[39m(\u001b[38;5;28mself\u001b[39m, \u001b[38;5;241m*\u001b[39margs):\n\u001b[1;32m    493\u001b[0m     \u001b[38;5;28;01mfrom\u001b[39;00m \u001b[38;5;21;01msympy\u001b[39;00m\u001b[38;5;21;01m.\u001b[39;00m\u001b[38;5;21;01mcore\u001b[39;00m\u001b[38;5;21;01m.\u001b[39;00m\u001b[38;5;21;01mrelational\u001b[39;00m \u001b[38;5;28;01mimport\u001b[39;00m Relational, Eq, Ne\n\u001b[0;32m--> 494\u001b[0m     args \u001b[38;5;241m=\u001b[39m [as_Boolean(i) \u001b[38;5;28;01mfor\u001b[39;00m i \u001b[38;5;129;01min\u001b[39;00m args]\n\u001b[1;32m    495\u001b[0m     bin_syms \u001b[38;5;241m=\u001b[39m \u001b[38;5;28mset\u001b[39m()\u001b[38;5;241m.\u001b[39munion(\u001b[38;5;241m*\u001b[39m[i\u001b[38;5;241m.\u001b[39mbinary_symbols \u001b[38;5;28;01mfor\u001b[39;00m i \u001b[38;5;129;01min\u001b[39;00m args])\n\u001b[1;32m    496\u001b[0m     rel \u001b[38;5;241m=\u001b[39m \u001b[38;5;28mset\u001b[39m()\u001b[38;5;241m.\u001b[39munion(\u001b[38;5;241m*\u001b[39m[i\u001b[38;5;241m.\u001b[39matoms(Relational) \u001b[38;5;28;01mfor\u001b[39;00m i \u001b[38;5;129;01min\u001b[39;00m args])\n",
      "File \u001b[0;32m~/.local/lib/python3.10/site-packages/sympy/logic/boolalg.py:494\u001b[0m, in \u001b[0;36m<listcomp>\u001b[0;34m(.0)\u001b[0m\n\u001b[1;32m    491\u001b[0m \u001b[38;5;129m@classmethod\u001b[39m\n\u001b[1;32m    492\u001b[0m \u001b[38;5;28;01mdef\u001b[39;00m \u001b[38;5;21mbinary_check_and_simplify\u001b[39m(\u001b[38;5;28mself\u001b[39m, \u001b[38;5;241m*\u001b[39margs):\n\u001b[1;32m    493\u001b[0m     \u001b[38;5;28;01mfrom\u001b[39;00m \u001b[38;5;21;01msympy\u001b[39;00m\u001b[38;5;21;01m.\u001b[39;00m\u001b[38;5;21;01mcore\u001b[39;00m\u001b[38;5;21;01m.\u001b[39;00m\u001b[38;5;21;01mrelational\u001b[39;00m \u001b[38;5;28;01mimport\u001b[39;00m Relational, Eq, Ne\n\u001b[0;32m--> 494\u001b[0m     args \u001b[38;5;241m=\u001b[39m [\u001b[43mas_Boolean\u001b[49m\u001b[43m(\u001b[49m\u001b[43mi\u001b[49m\u001b[43m)\u001b[49m \u001b[38;5;28;01mfor\u001b[39;00m i \u001b[38;5;129;01min\u001b[39;00m args]\n\u001b[1;32m    495\u001b[0m     bin_syms \u001b[38;5;241m=\u001b[39m \u001b[38;5;28mset\u001b[39m()\u001b[38;5;241m.\u001b[39munion(\u001b[38;5;241m*\u001b[39m[i\u001b[38;5;241m.\u001b[39mbinary_symbols \u001b[38;5;28;01mfor\u001b[39;00m i \u001b[38;5;129;01min\u001b[39;00m args])\n\u001b[1;32m    496\u001b[0m     rel \u001b[38;5;241m=\u001b[39m \u001b[38;5;28mset\u001b[39m()\u001b[38;5;241m.\u001b[39munion(\u001b[38;5;241m*\u001b[39m[i\u001b[38;5;241m.\u001b[39matoms(Relational) \u001b[38;5;28;01mfor\u001b[39;00m i \u001b[38;5;129;01min\u001b[39;00m args])\n",
      "File \u001b[0;32m~/.local/lib/python3.10/site-packages/sympy/logic/boolalg.py:61\u001b[0m, in \u001b[0;36mas_Boolean\u001b[0;34m(e)\u001b[0m\n\u001b[1;32m     59\u001b[0m \u001b[38;5;28;01mif\u001b[39;00m \u001b[38;5;28misinstance\u001b[39m(e, Boolean):\n\u001b[1;32m     60\u001b[0m     \u001b[38;5;28;01mreturn\u001b[39;00m e\n\u001b[0;32m---> 61\u001b[0m \u001b[38;5;28;01mraise\u001b[39;00m \u001b[38;5;167;01mTypeError\u001b[39;00m(\u001b[38;5;124m'\u001b[39m\u001b[38;5;124mexpecting bool or Boolean, not `\u001b[39m\u001b[38;5;132;01m%s\u001b[39;00m\u001b[38;5;124m`.\u001b[39m\u001b[38;5;124m'\u001b[39m \u001b[38;5;241m%\u001b[39m e)\n",
      "\u001b[0;31mTypeError\u001b[0m: expecting bool or Boolean, not `f1(x2)`."
     ]
    }
   ],
   "source": [
    "S('lambda x: Exist(x2, And(f1(x2), x1(x2)))', locals={'Exist':Exist, 'f1':Function(Symbol('f1', Boolean=True)), 'x1':Function('x1')})"
   ]
  },
  {
   "cell_type": "code",
   "execution_count": null,
   "id": "6af20b0b-8bed-47bf-916b-ee99bac0b3da",
   "metadata": {},
   "outputs": [],
   "source": []
  }
 ],
 "metadata": {
  "kernelspec": {
   "display_name": "Python 3 (ipykernel)",
   "language": "python",
   "name": "python3"
  },
  "language_info": {
   "codemirror_mode": {
    "name": "ipython",
    "version": 3
   },
   "file_extension": ".py",
   "mimetype": "text/x-python",
   "name": "python",
   "nbconvert_exporter": "python",
   "pygments_lexer": "ipython3",
   "version": "3.10.9"
  }
 },
 "nbformat": 4,
 "nbformat_minor": 5
}
