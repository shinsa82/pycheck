{
 "cells": [
  {
   "cell_type": "markdown",
   "id": "8d4868be-1b55-4450-a474-674afe0594a5",
   "metadata": {},
   "source": [
    "# Experiments of our custom types in SymPy."
   ]
  },
  {
   "cell_type": "markdown",
   "id": "e50ebd4d-e4f3-475e-a2ab-12d042287024",
   "metadata": {},
   "source": [
    "Check if MathJax works: $E=mc^2$, $\\Gamma\\vdash x\\colon \\tau$"
   ]
  },
  {
   "cell_type": "code",
   "execution_count": 95,
   "id": "c06fec1b-ae8a-4baa-9bfd-685135fa3f3c",
   "metadata": {},
   "outputs": [],
   "source": [
    "from sympy import S, init_printing, srepr, symbols, Symbol, Add, Function, Tuple, ITE, Piecewise, Lambda, Subs, simplify, sin\n",
    "from sympy.core import Basic, sympify\n",
    "from sympy.core.kind import Kind, NumberKind, BooleanKind\n",
    "from sympy.core.expr import Expr\n",
    "from sympy.core.symbol import Str\n",
    "\n",
    "from pycheck.codegen.sympy_lib import ListKind, List, ListSymbol, Cons, IsNil, Len, Map, All, TupleSymbol\n",
    "from pycheck.random.random_generators import rand_bool, rand_int"
   ]
  },
  {
   "cell_type": "code",
   "execution_count": 2,
   "id": "5a0064fe-84be-4658-96e2-9b641280705b",
   "metadata": {},
   "outputs": [],
   "source": [
    "init_printing()"
   ]
  },
  {
   "cell_type": "markdown",
   "id": "f908ff68-1bd1-4d0c-91d0-07401f9cefa7",
   "metadata": {
    "tags": []
   },
   "source": [
    "----\n",
    "## Normal SymPy Expression\n",
    "\n",
    "Case for normal addition"
   ]
  },
  {
   "cell_type": "code",
   "execution_count": 3,
   "id": "2b1d62df-3e23-4c8b-bcc7-71e1f00b4f7d",
   "metadata": {},
   "outputs": [],
   "source": [
    "e1 = S('x+y+3')"
   ]
  },
  {
   "cell_type": "code",
   "execution_count": 4,
   "id": "648055ae-7443-402a-9a22-0f86030e27c9",
   "metadata": {},
   "outputs": [
    {
     "data": {
      "text/latex": [
       "$\\displaystyle x + y + 3$"
      ],
      "text/plain": [
       "x + y + 3"
      ]
     },
     "execution_count": 4,
     "metadata": {},
     "output_type": "execute_result"
    }
   ],
   "source": [
    "e1"
   ]
  },
  {
   "cell_type": "code",
   "execution_count": 5,
   "id": "3c154742-9467-40e4-bd6f-1725e1931193",
   "metadata": {},
   "outputs": [
    {
     "data": {
      "text/plain": [
       "(sympy.core.add.Add, (3, x, y))"
      ]
     },
     "execution_count": 5,
     "metadata": {},
     "output_type": "execute_result"
    }
   ],
   "source": [
    "(e1.func, e1.args)"
   ]
  },
  {
   "cell_type": "code",
   "execution_count": 6,
   "id": "d358e5b9-2cde-4ece-b9b1-2b020497ba67",
   "metadata": {},
   "outputs": [
    {
     "data": {
      "text/plain": [
       "\"Add(Symbol('x'), Symbol('y'), Integer(3))\""
      ]
     },
     "execution_count": 6,
     "metadata": {},
     "output_type": "execute_result"
    }
   ],
   "source": [
    "srepr(e1)"
   ]
  },
  {
   "cell_type": "code",
   "execution_count": 7,
   "id": "20ad8583-4803-4275-ac30-11f64cb0fb1d",
   "metadata": {},
   "outputs": [
    {
     "data": {
      "text/latex": [
       "$\\displaystyle \\left\\{x, y\\right\\}$"
      ],
      "text/plain": [
       "{x, y}"
      ]
     },
     "execution_count": 7,
     "metadata": {},
     "output_type": "execute_result"
    }
   ],
   "source": [
    "e1.free_symbols"
   ]
  },
  {
   "cell_type": "code",
   "execution_count": 8,
   "id": "cae75ffe-57ce-45fd-bf51-e7a9bcaa3fcc",
   "metadata": {
    "tags": []
   },
   "outputs": [
    {
     "data": {
      "text/latex": [
       "$\\displaystyle y + 5$"
      ],
      "text/plain": [
       "y + 5"
      ]
     },
     "execution_count": 8,
     "metadata": {},
     "output_type": "execute_result"
    }
   ],
   "source": [
    "e1.subs('x', 2) # partially evaluated and simplified"
   ]
  },
  {
   "cell_type": "code",
   "execution_count": 9,
   "id": "88c58699-c391-489a-9e2e-ab9615807665",
   "metadata": {
    "tags": []
   },
   "outputs": [
    {
     "data": {
      "text/latex": [
       "$\\displaystyle 9$"
      ],
      "text/plain": [
       "9"
      ]
     },
     "execution_count": 9,
     "metadata": {},
     "output_type": "execute_result"
    }
   ],
   "source": [
    "e1.subs('x', 2).subs('y', 4) # totally evaluated to an interger"
   ]
  },
  {
   "cell_type": "code",
   "execution_count": 10,
   "id": "04c8d3f4-8bf2-4d8d-b955-4206e8cca58f",
   "metadata": {},
   "outputs": [
    {
     "data": {
      "text/plain": [
       "'Integer(9)'"
      ]
     },
     "execution_count": 10,
     "metadata": {},
     "output_type": "execute_result"
    }
   ],
   "source": [
    "srepr(e1.subs('x', 2).subs('y', 4))"
   ]
  },
  {
   "cell_type": "markdown",
   "id": "d3e54524-5bf8-4845-89d9-db97a3577b15",
   "metadata": {
    "tags": []
   },
   "source": [
    "----\n",
    "## Lists"
   ]
  },
  {
   "cell_type": "markdown",
   "id": "c959d949-c1ae-47ab-afcc-64c2686dc6fb",
   "metadata": {
    "tags": []
   },
   "source": [
    "### ListSymbol"
   ]
  },
  {
   "cell_type": "code",
   "execution_count": 11,
   "id": "b2dd4ee9-5aee-4bef-a392-bd62dffb0d7b",
   "metadata": {},
   "outputs": [],
   "source": [
    "a, b, x, y = symbols('a b x y')\n",
    "l = ListSymbol('l')\n",
    "m = ListSymbol('m')\n",
    "f = Function('f')\n",
    "g = Function('g')"
   ]
  },
  {
   "cell_type": "code",
   "execution_count": 12,
   "id": "32973765-06f7-4cd6-86b3-9f08f88a64ef",
   "metadata": {},
   "outputs": [
    {
     "data": {
      "text/latex": [
       "$\\displaystyle \\left( a, \\  l, \\  m\\right)$"
      ],
      "text/plain": [
       "(a, l, m)"
      ]
     },
     "execution_count": 12,
     "metadata": {},
     "output_type": "execute_result"
    }
   ],
   "source": [
    "(a, l, m)"
   ]
  },
  {
   "cell_type": "code",
   "execution_count": 13,
   "id": "6baad3eb-a5c2-446b-93b6-f459bbd4ba4d",
   "metadata": {},
   "outputs": [
    {
     "data": {
      "text/plain": [
       "'(a, l, m)'"
      ]
     },
     "execution_count": 13,
     "metadata": {},
     "output_type": "execute_result"
    }
   ],
   "source": [
    "str((a, l, m))"
   ]
  },
  {
   "cell_type": "code",
   "execution_count": 14,
   "id": "57ce2a9b-79e4-4778-8ad6-764819703678",
   "metadata": {},
   "outputs": [
    {
     "data": {
      "text/plain": [
       "'(a, l, m)'"
      ]
     },
     "execution_count": 14,
     "metadata": {},
     "output_type": "execute_result"
    }
   ],
   "source": [
    "repr((a, l, m))"
   ]
  },
  {
   "cell_type": "code",
   "execution_count": 15,
   "id": "4d0dc3f9-4f83-40e1-be87-1120eccca40c",
   "metadata": {},
   "outputs": [
    {
     "data": {
      "text/plain": [
       "\"(Symbol('a'), ListSymbol(Str('l')), ListSymbol(Str('m')))\""
      ]
     },
     "execution_count": 15,
     "metadata": {},
     "output_type": "execute_result"
    }
   ],
   "source": [
    "srepr((a, l, m))"
   ]
  },
  {
   "cell_type": "code",
   "execution_count": 16,
   "id": "2e32d0b8-6c32-4ad1-bee1-2575c6c57dec",
   "metadata": {},
   "outputs": [
    {
     "data": {
      "text/plain": [
       "(NumberKind, ListKind)"
      ]
     },
     "execution_count": 16,
     "metadata": {},
     "output_type": "execute_result"
    }
   ],
   "source": [
    "(a.kind, l.kind)"
   ]
  },
  {
   "cell_type": "code",
   "execution_count": 17,
   "id": "6ab4dd91-4f53-4eea-aba4-321cc3d52d15",
   "metadata": {},
   "outputs": [
    {
     "data": {
      "text/latex": [
       "$\\displaystyle \\left\\{l\\right\\}$"
      ],
      "text/plain": [
       "{l}"
      ]
     },
     "execution_count": 17,
     "metadata": {},
     "output_type": "execute_result"
    }
   ],
   "source": [
    "l.free_symbols"
   ]
  },
  {
   "cell_type": "markdown",
   "id": "13accb8c-4046-419a-9908-60f8630f634a",
   "metadata": {
    "tags": []
   },
   "source": [
    "### Cons"
   ]
  },
  {
   "cell_type": "code",
   "execution_count": 18,
   "id": "4bb598c9-3a59-4aac-a680-a070e923a612",
   "metadata": {},
   "outputs": [
    {
     "data": {
      "text/latex": [
       "$\\displaystyle \\operatorname{Cons}\\left(a, m\\right)$"
      ],
      "text/plain": [
       "Cons(a, m)"
      ]
     },
     "execution_count": 18,
     "metadata": {},
     "output_type": "execute_result"
    }
   ],
   "source": [
    "Cons(a, m)"
   ]
  },
  {
   "cell_type": "code",
   "execution_count": 19,
   "id": "de62a4c8-05e2-4b94-ba00-f30c1ca671f8",
   "metadata": {},
   "outputs": [
    {
     "data": {
      "text/plain": [
       "pycheck.codegen.sympy_lib.Cons"
      ]
     },
     "execution_count": 19,
     "metadata": {},
     "output_type": "execute_result"
    }
   ],
   "source": [
    "Cons(a, m).func"
   ]
  },
  {
   "cell_type": "code",
   "execution_count": 20,
   "id": "60d98834-fb05-48b3-8862-53c439555463",
   "metadata": {},
   "outputs": [
    {
     "data": {
      "text/latex": [
       "$\\displaystyle \\left( \\left( a, \\  m\\right), \\  \\left\\{a, m\\right\\}\\right)$"
      ],
      "text/plain": [
       "((a, m), {a, m})"
      ]
     },
     "execution_count": 20,
     "metadata": {},
     "output_type": "execute_result"
    }
   ],
   "source": [
    "(Cons(a,m).args, Cons(a,m).free_symbols)"
   ]
  },
  {
   "cell_type": "code",
   "execution_count": 21,
   "id": "395a8cb8-9878-4f41-9e35-eaa186562440",
   "metadata": {},
   "outputs": [
    {
     "data": {
      "text/latex": [
       "$\\displaystyle \\left( \\operatorname{Cons}\\left(1, m\\right), \\  \\left\\{m\\right\\}\\right)$"
      ],
      "text/plain": [
       "(Cons(1, m), {m})"
      ]
     },
     "execution_count": 21,
     "metadata": {},
     "output_type": "execute_result"
    }
   ],
   "source": [
    "assert Cons(a, m).subs(a, 1) == Cons(1, m)\n",
    "\n",
    "(Cons(a, m).subs(a, 1), Cons(a, m).subs(a, 1).free_symbols)"
   ]
  },
  {
   "cell_type": "code",
   "execution_count": 22,
   "id": "475ab104-893e-4e2a-af3c-c348eabfdfbf",
   "metadata": {
    "tags": []
   },
   "outputs": [
    {
     "name": "stdout",
     "output_type": "stream",
     "text": [
      "List(Symbol('a'), Integer(2), Integer(3))\n"
     ]
    },
    {
     "data": {
      "text/latex": [
       "$\\displaystyle \\left( \\left[ a, \\  2, \\  3\\right], \\  \\left\\{a\\right\\}\\right)$"
      ],
      "text/plain": [
       "([a, 2, 3], {a})"
      ]
     },
     "execution_count": 22,
     "metadata": {},
     "output_type": "execute_result"
    }
   ],
   "source": [
    "# object that are substitued for should be SymPy expression\n",
    "# the following works\n",
    "print(srepr( Cons(a, m).subs(m, List(2, 3)) ))\n",
    "\n",
    "assert Cons(a, m).subs(m, List(2, 3)) == List(a, 2, 3)\n",
    "\n",
    "(Cons(a, m).subs(m, List(2,3)), Cons(a, m).subs(m,List(2,3)).free_symbols) "
   ]
  },
  {
   "cell_type": "code",
   "execution_count": 23,
   "id": "6fd6894d-5fe9-4e53-9de2-2e518b5ac938",
   "metadata": {},
   "outputs": [],
   "source": [
    "# but it does not work now\n",
    "# print(srepr( Cons(a, m).subs(m, [2, 3]) ))\n",
    "# assert Cons(a, m).subs(m, [2, 3]) == List(a, 2, 3)\n",
    "# (Cons(a, m).subs(m,[2,3]), Cons(a, m).subs(m,[2,3]).free_symbols) "
   ]
  },
  {
   "cell_type": "code",
   "execution_count": 24,
   "id": "df4e4cf2-ce7d-44f2-bdde-dd2c6da40630",
   "metadata": {},
   "outputs": [
    {
     "data": {
      "text/latex": [
       "$\\displaystyle \\operatorname{Cons}\\left(a, \\operatorname{Cons}\\left(b, l\\right)\\right)$"
      ],
      "text/plain": [
       "Cons(a, Cons(b, l))"
      ]
     },
     "execution_count": 24,
     "metadata": {},
     "output_type": "execute_result"
    }
   ],
   "source": [
    "Cons(a, Cons(b, l))"
   ]
  },
  {
   "cell_type": "code",
   "execution_count": 25,
   "id": "0a879e87-4139-4ddd-83d8-de60fcc5bb1d",
   "metadata": {
    "tags": []
   },
   "outputs": [
    {
     "data": {
      "text/latex": [
       "$\\displaystyle \\operatorname{Cons}\\left(a, \\operatorname{Cons}\\left(b, l\\right)\\right)$"
      ],
      "text/plain": [
       "Cons(a, Cons(b, l))"
      ]
     },
     "execution_count": 25,
     "metadata": {},
     "output_type": "execute_result"
    }
   ],
   "source": [
    "Cons(a, Cons(b, l)).doit()"
   ]
  },
  {
   "cell_type": "code",
   "execution_count": 26,
   "id": "fc699f7c-7017-489f-b48e-4761645c2fcc",
   "metadata": {
    "tags": []
   },
   "outputs": [
    {
     "data": {
      "text/latex": [
       "$\\displaystyle \\left[ 1, \\  2, \\  3\\right]$"
      ],
      "text/plain": [
       "[1, 2, 3]"
      ]
     },
     "execution_count": 26,
     "metadata": {},
     "output_type": "execute_result"
    }
   ],
   "source": [
    "Cons(1, List(2, 3))"
   ]
  },
  {
   "cell_type": "code",
   "execution_count": 27,
   "id": "6e7b2039-083d-4c5a-82c3-42a0c9f6f784",
   "metadata": {},
   "outputs": [
    {
     "data": {
      "text/latex": [
       "$\\displaystyle \\left[ 1, \\  2, \\  3\\right]$"
      ],
      "text/plain": [
       "[1, 2, 3]"
      ]
     },
     "execution_count": 27,
     "metadata": {},
     "output_type": "execute_result"
    }
   ],
   "source": [
    "# now it works!\n",
    "Cons(a, m).subs(a, 1).subs(m, List(2,3))"
   ]
  },
  {
   "cell_type": "code",
   "execution_count": 28,
   "id": "08f1a104-a541-4a4a-a244-93ffaf437369",
   "metadata": {},
   "outputs": [
    {
     "data": {
      "text/latex": [
       "$\\displaystyle \\left[ 1, \\  2, \\  3\\right]$"
      ],
      "text/plain": [
       "[1, 2, 3]"
      ]
     },
     "execution_count": 28,
     "metadata": {},
     "output_type": "execute_result"
    }
   ],
   "source": [
    "# simultaneous replacement\n",
    "Cons(a, m).subs({a:1, m:List(2,3)}, simultaneous=True)"
   ]
  },
  {
   "cell_type": "code",
   "execution_count": 29,
   "id": "d121a722-3fc9-4c2f-8175-ba83fe774dd7",
   "metadata": {},
   "outputs": [
    {
     "name": "stdout",
     "output_type": "stream",
     "text": [
      "List(Symbol('a'), Integer(2), Integer(3))\n",
      "Cons(Integer(1), ListSymbol(Str('m')))\n",
      "List(Integer(1), Integer(2), Integer(3))\n"
     ]
    },
    {
     "data": {
      "text/latex": [
       "$\\displaystyle \\left( \\left[ a, \\  2, \\  3\\right], \\  \\operatorname{Cons}\\left(1, m\\right), \\  \\left[ 1, \\  2, \\  3\\right]\\right)$"
      ],
      "text/plain": [
       "([a, 2, 3], Cons(1, m), [1, 2, 3])"
      ]
     },
     "execution_count": 29,
     "metadata": {},
     "output_type": "execute_result"
    }
   ],
   "source": [
    "print(srepr(Cons(a, [2,3])))\n",
    "print(srepr(Cons(1, m)))\n",
    "print(srepr(Cons(1, [2,3])))\n",
    "\n",
    "assert Cons(a, [2,3]) == List(a, 2, 3)\n",
    "assert Cons(1, m) == Cons(1, m)\n",
    "assert Cons(1, [2, 3]) == List(1, 2, 3)\n",
    "\n",
    "(Cons(a, [2,3]), Cons(1,m), Cons(1, [2,3]))"
   ]
  },
  {
   "cell_type": "code",
   "execution_count": null,
   "id": "7ec10ca3-0ce7-47b4-b5c0-a557fbd22d06",
   "metadata": {},
   "outputs": [],
   "source": []
  },
  {
   "cell_type": "markdown",
   "id": "d9fb7e88-948c-4e59-ad35-b97782523d3f",
   "metadata": {
    "jp-MarkdownHeadingCollapsed": true,
    "tags": []
   },
   "source": [
    "#### TODO"
   ]
  },
  {
   "cell_type": "code",
   "execution_count": 30,
   "id": "47ea7e88-8c1d-442a-a86b-dca22110628e",
   "metadata": {},
   "outputs": [
    {
     "name": "stdout",
     "output_type": "stream",
     "text": [
      "Cons(Symbol('a'), ListSymbol(Str('m')))\n"
     ]
    },
    {
     "data": {
      "text/latex": [
       "$\\displaystyle \\operatorname{Cons}\\left(a, m\\right)$"
      ],
      "text/plain": [
       "Cons(a, m)"
      ]
     },
     "execution_count": 30,
     "metadata": {},
     "output_type": "execute_result"
    }
   ],
   "source": [
    "# TODO: use ListAdd instead of Add\n",
    "print(srepr(Cons(a, m).doit()))\n",
    "Cons(a, m).doit()"
   ]
  },
  {
   "cell_type": "code",
   "execution_count": 31,
   "id": "81ba6682-8159-446c-802e-6e0fa746198d",
   "metadata": {},
   "outputs": [
    {
     "data": {
      "text/latex": [
       "$\\displaystyle \\operatorname{Cons}\\left(a, m\\right)$"
      ],
      "text/plain": [
       "Cons(a, m)"
      ]
     },
     "execution_count": 31,
     "metadata": {},
     "output_type": "execute_result"
    }
   ],
   "source": [
    "# TODO: use ListAdd instead of Add\n",
    "Cons(a, m).doit().subs(m, [2,3])"
   ]
  },
  {
   "cell_type": "markdown",
   "id": "e2a57890-6977-46de-aa9a-f92646935e6b",
   "metadata": {
    "tags": []
   },
   "source": [
    "### Len"
   ]
  },
  {
   "cell_type": "code",
   "execution_count": 32,
   "id": "d067e1ac-5b39-4a9e-aa69-467bab199330",
   "metadata": {
    "tags": []
   },
   "outputs": [
    {
     "data": {
      "text/latex": [
       "$\\displaystyle \\operatorname{Len}\\left(l\\right)$"
      ],
      "text/plain": [
       "Len(l)"
      ]
     },
     "execution_count": 32,
     "metadata": {},
     "output_type": "execute_result"
    }
   ],
   "source": [
    "S('len(l)', locals={'len': Len})"
   ]
  },
  {
   "cell_type": "code",
   "execution_count": 33,
   "id": "322c7212-eb1e-4bac-8382-a34349577ba6",
   "metadata": {},
   "outputs": [
    {
     "data": {
      "text/latex": [
       "$\\displaystyle 0$"
      ],
      "text/plain": [
       "0"
      ]
     },
     "execution_count": 33,
     "metadata": {},
     "output_type": "execute_result"
    }
   ],
   "source": [
    "Len([])"
   ]
  },
  {
   "cell_type": "code",
   "execution_count": 34,
   "id": "f8a0a910-460b-4bc8-85cc-aa63a6085c2d",
   "metadata": {},
   "outputs": [
    {
     "data": {
      "text/plain": [
       "(3, 'Integer(3)')"
      ]
     },
     "execution_count": 34,
     "metadata": {},
     "output_type": "execute_result"
    }
   ],
   "source": [
    "(Len([1,2,3]), srepr(Len([1,2,3])))"
   ]
  },
  {
   "cell_type": "code",
   "execution_count": 35,
   "id": "9db72476-0d8e-4064-bf9d-6612994fa49c",
   "metadata": {},
   "outputs": [
    {
     "data": {
      "text/latex": [
       "$\\displaystyle \\operatorname{Len}\\left(l\\right)$"
      ],
      "text/plain": [
       "Len(l)"
      ]
     },
     "execution_count": 35,
     "metadata": {},
     "output_type": "execute_result"
    }
   ],
   "source": [
    "Len(l)"
   ]
  },
  {
   "cell_type": "code",
   "execution_count": 36,
   "id": "9e9a1cc2-7518-4e10-a8d2-21bcc8f7e17b",
   "metadata": {},
   "outputs": [
    {
     "data": {
      "text/plain": [
       "NumberKind"
      ]
     },
     "execution_count": 36,
     "metadata": {},
     "output_type": "execute_result"
    }
   ],
   "source": [
    "Len(l).kind"
   ]
  },
  {
   "cell_type": "code",
   "execution_count": 37,
   "id": "8cf3e1ed-7751-427d-b7a4-f14d8a315b01",
   "metadata": {},
   "outputs": [
    {
     "data": {
      "text/latex": [
       "$\\displaystyle \\text{True}$"
      ],
      "text/plain": [
       "True"
      ]
     },
     "execution_count": 37,
     "metadata": {},
     "output_type": "execute_result"
    }
   ],
   "source": [
    "# we defined Len(x) as non-negative integer, so the following inequality is evaluated to true automatically.\n",
    "Len(l) >= 0"
   ]
  },
  {
   "cell_type": "code",
   "execution_count": 38,
   "id": "54a93b77-ac4d-4f96-8a75-49b5b7f8b62c",
   "metadata": {},
   "outputs": [
    {
     "data": {
      "text/latex": [
       "$\\displaystyle \\operatorname{Len}\\left(l\\right) + 1$"
      ],
      "text/plain": [
       "Len(l) + 1"
      ]
     },
     "execution_count": 38,
     "metadata": {},
     "output_type": "execute_result"
    }
   ],
   "source": [
    "Len(l) + 1"
   ]
  },
  {
   "cell_type": "code",
   "execution_count": 39,
   "id": "c19b5752-135c-40d1-b03c-edf09fbd743f",
   "metadata": {},
   "outputs": [
    {
     "data": {
      "text/latex": [
       "$\\displaystyle \\operatorname{Len}\\left(l\\right) + 1$"
      ],
      "text/plain": [
       "Len(l) + 1"
      ]
     },
     "execution_count": 39,
     "metadata": {},
     "output_type": "execute_result"
    }
   ],
   "source": [
    "Len(Cons(a, l))"
   ]
  },
  {
   "cell_type": "code",
   "execution_count": 40,
   "id": "c6aab809-c0f1-4928-8597-cc394a16116c",
   "metadata": {},
   "outputs": [
    {
     "data": {
      "text/latex": [
       "$\\displaystyle \\operatorname{Len}\\left(l\\right) + 2$"
      ],
      "text/plain": [
       "Len(l) + 2"
      ]
     },
     "execution_count": 40,
     "metadata": {},
     "output_type": "execute_result"
    }
   ],
   "source": [
    "Len(Cons(a, Cons(b, l)))"
   ]
  },
  {
   "cell_type": "markdown",
   "id": "f6ca79a8-6b55-4b1b-99cb-0ef4e409588b",
   "metadata": {},
   "source": [
    "### IsNil"
   ]
  },
  {
   "cell_type": "code",
   "execution_count": 41,
   "id": "7ba0c9b5-a4ef-4d25-b3ae-8d84ac5d1ea0",
   "metadata": {},
   "outputs": [
    {
     "data": {
      "text/latex": [
       "$\\displaystyle \\text{True}$"
      ],
      "text/plain": [
       "True"
      ]
     },
     "execution_count": 41,
     "metadata": {},
     "output_type": "execute_result"
    }
   ],
   "source": [
    "IsNil([])"
   ]
  },
  {
   "cell_type": "code",
   "execution_count": 42,
   "id": "c1be7810-cacf-4595-aa2c-8eddac296c9c",
   "metadata": {
    "tags": []
   },
   "outputs": [
    {
     "data": {
      "text/latex": [
       "$\\displaystyle \\text{True}$"
      ],
      "text/plain": [
       "True"
      ]
     },
     "execution_count": 42,
     "metadata": {},
     "output_type": "execute_result"
    }
   ],
   "source": [
    "IsNil(List())"
   ]
  },
  {
   "cell_type": "code",
   "execution_count": 43,
   "id": "62c43ba2-9731-40ba-a6bf-90f641b84ae2",
   "metadata": {},
   "outputs": [
    {
     "data": {
      "text/latex": [
       "$\\displaystyle \\text{False}$"
      ],
      "text/plain": [
       "False"
      ]
     },
     "execution_count": 43,
     "metadata": {},
     "output_type": "execute_result"
    }
   ],
   "source": [
    "IsNil([1])"
   ]
  },
  {
   "cell_type": "code",
   "execution_count": 44,
   "id": "8015674d-62d4-44f8-84c7-5eeb495d1a5a",
   "metadata": {},
   "outputs": [
    {
     "data": {
      "text/latex": [
       "$\\displaystyle \\text{False}$"
      ],
      "text/plain": [
       "False"
      ]
     },
     "execution_count": 44,
     "metadata": {},
     "output_type": "execute_result"
    }
   ],
   "source": [
    "IsNil(Cons(a, l))"
   ]
  },
  {
   "cell_type": "code",
   "execution_count": 45,
   "id": "16c4ce21-064c-4dcc-a3b4-366e34c9341b",
   "metadata": {},
   "outputs": [
    {
     "data": {
      "text/latex": [
       "$\\displaystyle \\operatorname{IsNil}\\left(l\\right)$"
      ],
      "text/plain": [
       "IsNil(l)"
      ]
     },
     "execution_count": 45,
     "metadata": {},
     "output_type": "execute_result"
    }
   ],
   "source": [
    "IsNil(l)"
   ]
  },
  {
   "cell_type": "code",
   "execution_count": 46,
   "id": "466ea97b-452b-4bd4-9203-4f77238ed6b8",
   "metadata": {},
   "outputs": [
    {
     "data": {
      "text/latex": [
       "$\\displaystyle \\text{True}$"
      ],
      "text/plain": [
       "True"
      ]
     },
     "execution_count": 46,
     "metadata": {},
     "output_type": "execute_result"
    }
   ],
   "source": [
    "IsNil(l).subs(l, List())"
   ]
  },
  {
   "cell_type": "code",
   "execution_count": 47,
   "id": "36c8d6ea-da08-413b-b55a-52a76920df56",
   "metadata": {},
   "outputs": [
    {
     "data": {
      "text/latex": [
       "$\\displaystyle \\text{False}$"
      ],
      "text/plain": [
       "False"
      ]
     },
     "execution_count": 47,
     "metadata": {},
     "output_type": "execute_result"
    }
   ],
   "source": [
    "IsNil(l).subs(l, List(1,2))"
   ]
  },
  {
   "cell_type": "markdown",
   "id": "939a1762-8c08-4f4e-86c9-79fbb94f570a",
   "metadata": {},
   "source": [
    "----\n",
    "### Map"
   ]
  },
  {
   "cell_type": "code",
   "execution_count": 48,
   "id": "771b1191-a267-4487-8442-e97e848d1687",
   "metadata": {
    "tags": []
   },
   "outputs": [
    {
     "data": {
      "text/latex": [
       "$\\displaystyle \\left[ 2, \\  3, \\  4\\right]$"
      ],
      "text/plain": [
       "[2, 3, 4]"
      ]
     },
     "execution_count": 48,
     "metadata": {},
     "output_type": "execute_result"
    }
   ],
   "source": [
    "Map(lambda x: x+1, List(1,2,3))"
   ]
  },
  {
   "cell_type": "code",
   "execution_count": 49,
   "id": "acd49ed3-7cad-421a-a27a-209a55210384",
   "metadata": {
    "tags": []
   },
   "outputs": [
    {
     "data": {
      "text/latex": [
       "$\\displaystyle \\left[ 2, \\  3, \\  4\\right]$"
      ],
      "text/plain": [
       "[2, 3, 4]"
      ]
     },
     "execution_count": 49,
     "metadata": {},
     "output_type": "execute_result"
    }
   ],
   "source": [
    "# fallback method: the previous notation is formal.\n",
    "Map(lambda x: x+1, [1,2,3])"
   ]
  },
  {
   "cell_type": "code",
   "execution_count": 50,
   "id": "392a3caa-887b-477b-bdcb-7d15ba7b1370",
   "metadata": {
    "tags": []
   },
   "outputs": [
    {
     "data": {
      "text/latex": [
       "$\\displaystyle \\operatorname{Map}\\left(\\left( x \\mapsto x + 1 \\right), l\\right)$"
      ],
      "text/plain": [
       "Map(Lambda(x, x + 1), l)"
      ]
     },
     "execution_count": 50,
     "metadata": {},
     "output_type": "execute_result"
    }
   ],
   "source": [
    "Map(S('lambda x: x+1'), l)"
   ]
  },
  {
   "cell_type": "code",
   "execution_count": 51,
   "id": "d10cd82b-83c9-4e87-85cc-dafc4ba9096a",
   "metadata": {
    "tags": []
   },
   "outputs": [
    {
     "data": {
      "text/plain": [
       "sympy.core.function.Lambda"
      ]
     },
     "execution_count": 51,
     "metadata": {},
     "output_type": "execute_result"
    }
   ],
   "source": [
    "type(S('lambda x: x+1'))"
   ]
  },
  {
   "cell_type": "code",
   "execution_count": 52,
   "id": "4b6cc8e0-13d1-419d-bcd4-90d77e334c27",
   "metadata": {
    "tags": []
   },
   "outputs": [
    {
     "data": {
      "text/latex": [
       "$\\displaystyle \\left[ 2, \\  3, \\  4\\right]$"
      ],
      "text/plain": [
       "[2, 3, 4]"
      ]
     },
     "execution_count": 52,
     "metadata": {},
     "output_type": "execute_result"
    }
   ],
   "source": [
    "Map(S('lambda x: x+1'), l).subs(l, List(1,2,3))"
   ]
  },
  {
   "cell_type": "code",
   "execution_count": 53,
   "id": "5509b69a-d9b3-4d89-8f5e-a71f78195f73",
   "metadata": {
    "tags": []
   },
   "outputs": [
    {
     "data": {
      "text/latex": [
       "$\\displaystyle \\operatorname{Map}\\left(f, l\\right)$"
      ],
      "text/plain": [
       "Map(f, l)"
      ]
     },
     "execution_count": 53,
     "metadata": {},
     "output_type": "execute_result"
    }
   ],
   "source": [
    "Map(f, l)"
   ]
  },
  {
   "cell_type": "code",
   "execution_count": 54,
   "id": "8b4c728c-beff-4fc8-aa66-cef088a0dc75",
   "metadata": {
    "tags": []
   },
   "outputs": [
    {
     "data": {
      "text/latex": [
       "$\\displaystyle \\left[ f{\\left(1 \\right)}, \\  f{\\left(2 \\right)}, \\  f{\\left(3 \\right)}\\right]$"
      ],
      "text/plain": [
       "[f(1), f(2), f(3)]"
      ]
     },
     "execution_count": 54,
     "metadata": {},
     "output_type": "execute_result"
    }
   ],
   "source": [
    "Map(f, [1,2,3])"
   ]
  },
  {
   "cell_type": "code",
   "execution_count": 55,
   "id": "3c35ec41-10ac-48cd-b950-0559d3ac3537",
   "metadata": {
    "tags": []
   },
   "outputs": [
    {
     "data": {
      "text/plain": [
       "\"List(Function('f')(Integer(1)), Function('f')(Integer(2)), Function('f')(Integer(3)))\""
      ]
     },
     "execution_count": 55,
     "metadata": {},
     "output_type": "execute_result"
    }
   ],
   "source": [
    "srepr(Map(f, [1,2,3]))"
   ]
  },
  {
   "cell_type": "code",
   "execution_count": 56,
   "id": "f3f0312e-ac46-45b8-a0fa-c2432a7cc53e",
   "metadata": {
    "tags": []
   },
   "outputs": [
    {
     "data": {
      "text/latex": [
       "$\\displaystyle \\left[ 2, \\  3, \\  4\\right]$"
      ],
      "text/plain": [
       "[2, 3, 4]"
      ]
     },
     "execution_count": 56,
     "metadata": {},
     "output_type": "execute_result"
    }
   ],
   "source": [
    "Map(f, [1,2,3]).subs(f, S('lambda x: x+1'))"
   ]
  },
  {
   "cell_type": "markdown",
   "id": "8d509d69-b5d9-4434-a7db-c180c0762389",
   "metadata": {
    "tags": []
   },
   "source": [
    "----\n",
    "### All"
   ]
  },
  {
   "cell_type": "code",
   "execution_count": 57,
   "id": "a50b7ff0-885c-433f-97e4-fb608561fdb3",
   "metadata": {
    "tags": []
   },
   "outputs": [
    {
     "data": {
      "text/latex": [
       "$\\displaystyle \\text{False}$"
      ],
      "text/plain": [
       "False"
      ]
     },
     "execution_count": 57,
     "metadata": {},
     "output_type": "execute_result"
    }
   ],
   "source": [
    "All([True, False, True])"
   ]
  },
  {
   "cell_type": "code",
   "execution_count": 58,
   "id": "7544449d-17e0-4664-a067-70d656cabd1a",
   "metadata": {
    "tags": []
   },
   "outputs": [
    {
     "data": {
      "text/latex": [
       "$\\displaystyle \\text{True}$"
      ],
      "text/plain": [
       "True"
      ]
     },
     "execution_count": 58,
     "metadata": {},
     "output_type": "execute_result"
    }
   ],
   "source": [
    "All([True, True, True])"
   ]
  },
  {
   "cell_type": "code",
   "execution_count": 59,
   "id": "059c9b3e-81cd-4fc7-b681-73eebb6aa203",
   "metadata": {
    "tags": []
   },
   "outputs": [
    {
     "data": {
      "text/latex": [
       "$\\displaystyle \\operatorname{All}\\left(l\\right)$"
      ],
      "text/plain": [
       "All(l)"
      ]
     },
     "execution_count": 59,
     "metadata": {},
     "output_type": "execute_result"
    }
   ],
   "source": [
    "All(l)"
   ]
  },
  {
   "cell_type": "code",
   "execution_count": 60,
   "id": "c045e2d5-2f88-4a40-b703-da1fad1557e1",
   "metadata": {
    "tags": []
   },
   "outputs": [
    {
     "data": {
      "text/latex": [
       "$\\displaystyle \\text{False}$"
      ],
      "text/plain": [
       "False"
      ]
     },
     "execution_count": 60,
     "metadata": {},
     "output_type": "execute_result"
    }
   ],
   "source": [
    "All(l).subs(l, List(True, True, False))"
   ]
  },
  {
   "cell_type": "code",
   "execution_count": 61,
   "id": "9e40bae8-09e2-4f4f-aee8-88bc1756fd39",
   "metadata": {
    "tags": []
   },
   "outputs": [
    {
     "data": {
      "text/latex": [
       "$\\displaystyle \\text{True}$"
      ],
      "text/plain": [
       "True"
      ]
     },
     "execution_count": 61,
     "metadata": {},
     "output_type": "execute_result"
    }
   ],
   "source": [
    "All(l).subs(l, List(True, True, True))"
   ]
  },
  {
   "cell_type": "markdown",
   "id": "60ae067c-6bb2-4a90-8fae-476018e503b7",
   "metadata": {},
   "source": [
    "----\n",
    "### Map + All"
   ]
  },
  {
   "cell_type": "code",
   "execution_count": 62,
   "id": "8a7f4fac-fec3-4aad-897b-9c9bc14168d7",
   "metadata": {
    "tags": []
   },
   "outputs": [
    {
     "data": {
      "text/latex": [
       "$\\displaystyle \\operatorname{All}\\left(\\operatorname{Map}\\left(\\left( x \\mapsto x > 0 \\right), l\\right)\\right)$"
      ],
      "text/plain": [
       "All(Map(Lambda(x, x > 0), l))"
      ]
     },
     "execution_count": 62,
     "metadata": {},
     "output_type": "execute_result"
    }
   ],
   "source": [
    "All(Map(S('lambda x: x>0'), l))"
   ]
  },
  {
   "cell_type": "code",
   "execution_count": 63,
   "id": "8a4d7708-6a89-46c9-8c97-47d91cc85af9",
   "metadata": {
    "tags": []
   },
   "outputs": [
    {
     "data": {
      "text/latex": [
       "$\\displaystyle \\text{True}$"
      ],
      "text/plain": [
       "True"
      ]
     },
     "execution_count": 63,
     "metadata": {},
     "output_type": "execute_result"
    }
   ],
   "source": [
    "All(Map(S('lambda x: x>0'), l)).subs(l, List(1,2,3))"
   ]
  },
  {
   "cell_type": "code",
   "execution_count": 64,
   "id": "f42a9c55-79c9-4b5d-a481-5c597cd14175",
   "metadata": {
    "tags": []
   },
   "outputs": [
    {
     "data": {
      "text/latex": [
       "$\\displaystyle \\text{False}$"
      ],
      "text/plain": [
       "False"
      ]
     },
     "execution_count": 64,
     "metadata": {},
     "output_type": "execute_result"
    }
   ],
   "source": [
    "All(Map(S('lambda x: x>0'), l)).subs(l, List(1,-1,3))"
   ]
  },
  {
   "cell_type": "markdown",
   "id": "5c13efa4-cab6-4586-abab-69fdfaccc220",
   "metadata": {
    "tags": []
   },
   "source": [
    "----\n",
    "### TupleSymbol"
   ]
  },
  {
   "cell_type": "code",
   "execution_count": 65,
   "id": "1ed6afb1-9dca-4ce2-a834-b0ccd456c5eb",
   "metadata": {
    "tags": []
   },
   "outputs": [
    {
     "data": {
      "text/latex": [
       "$\\displaystyle \\left( 1, \\  2, \\  3\\right)$"
      ],
      "text/plain": [
       "(1, 2, 3)"
      ]
     },
     "execution_count": 65,
     "metadata": {},
     "output_type": "execute_result"
    }
   ],
   "source": [
    "Tuple(1,2,3)"
   ]
  },
  {
   "cell_type": "code",
   "execution_count": 66,
   "id": "550c40e6-1909-453d-825f-4a6b1811874c",
   "metadata": {
    "tags": []
   },
   "outputs": [
    {
     "data": {
      "text/latex": [
       "$\\displaystyle \\left( 1, \\  2, \\  3, \\  4, \\  5\\right)$"
      ],
      "text/plain": [
       "(1, 2, 3, 4, 5)"
      ]
     },
     "execution_count": 66,
     "metadata": {},
     "output_type": "execute_result"
    }
   ],
   "source": [
    "Tuple(1,2,3) + Tuple(4,5)"
   ]
  },
  {
   "cell_type": "code",
   "execution_count": 67,
   "id": "d168c0c8-9918-4d76-b473-81223f7fb913",
   "metadata": {
    "tags": []
   },
   "outputs": [
    {
     "data": {
      "text/latex": [
       "$\\displaystyle 2$"
      ],
      "text/plain": [
       "2"
      ]
     },
     "execution_count": 67,
     "metadata": {},
     "output_type": "execute_result"
    }
   ],
   "source": [
    "Tuple(1,2,3)[1]"
   ]
  },
  {
   "cell_type": "code",
   "execution_count": 68,
   "id": "7d67b3d8-e1f2-4e4e-929b-a6903a62bcfd",
   "metadata": {
    "tags": []
   },
   "outputs": [
    {
     "data": {
      "text/latex": [
       "$\\displaystyle b$"
      ],
      "text/plain": [
       "b"
      ]
     },
     "execution_count": 68,
     "metadata": {},
     "output_type": "execute_result"
    }
   ],
   "source": [
    "Tuple(a,b,a)[1]"
   ]
  },
  {
   "cell_type": "code",
   "execution_count": 69,
   "id": "3ece25a7-11d1-4746-9fe8-ead142df63b7",
   "metadata": {
    "tags": []
   },
   "outputs": [
    {
     "data": {
      "text/latex": [
       "$\\displaystyle t$"
      ],
      "text/plain": [
       "t"
      ]
     },
     "execution_count": 69,
     "metadata": {},
     "output_type": "execute_result"
    }
   ],
   "source": [
    "t = TupleSymbol('t')\n",
    "t"
   ]
  },
  {
   "cell_type": "code",
   "execution_count": 70,
   "id": "e462b4a2-bb8c-4c94-aae7-64e5a37fb3f9",
   "metadata": {
    "tags": []
   },
   "outputs": [
    {
     "data": {
      "text/latex": [
       "$\\displaystyle \\operatorname{GetItem}\\left(t, 0\\right)$"
      ],
      "text/plain": [
       "GetItem(t, 0)"
      ]
     },
     "execution_count": 70,
     "metadata": {},
     "output_type": "execute_result"
    }
   ],
   "source": [
    "t[0]"
   ]
  },
  {
   "cell_type": "code",
   "execution_count": 71,
   "id": "f3b1dc11-dc7f-4b08-8784-58ad3dd1db34",
   "metadata": {
    "tags": []
   },
   "outputs": [
    {
     "data": {
      "text/latex": [
       "$\\displaystyle 6$"
      ],
      "text/plain": [
       "6"
      ]
     },
     "execution_count": 71,
     "metadata": {},
     "output_type": "execute_result"
    }
   ],
   "source": [
    "t[0].subs(t, Tuple(6,5,4))"
   ]
  },
  {
   "cell_type": "markdown",
   "id": "68f32ea5-f07f-4785-8c19-be83857f0949",
   "metadata": {},
   "source": [
    "----\n",
    "### Lazy evaluation"
   ]
  },
  {
   "cell_type": "code",
   "execution_count": 72,
   "id": "6dfa3bcc-5509-4450-b7b1-f6c5afa02130",
   "metadata": {
    "tags": []
   },
   "outputs": [
    {
     "data": {
      "text/latex": [
       "$\\displaystyle f{\\left(a \\right)}$"
      ],
      "text/plain": [
       "f(a)"
      ]
     },
     "execution_count": 72,
     "metadata": {},
     "output_type": "execute_result"
    }
   ],
   "source": [
    "f(a)"
   ]
  },
  {
   "cell_type": "code",
   "execution_count": 73,
   "id": "c92b3068-006d-4649-98e8-2a42a1c99aec",
   "metadata": {
    "tags": []
   },
   "outputs": [
    {
     "data": {
      "text/plain": [
       "\"Function('f')(Symbol('a'))\""
      ]
     },
     "execution_count": 73,
     "metadata": {},
     "output_type": "execute_result"
    }
   ],
   "source": [
    "srepr(f(a))"
   ]
  },
  {
   "cell_type": "code",
   "execution_count": 74,
   "id": "ccae95ef-3e5c-4c3d-9ace-57cc88854e12",
   "metadata": {
    "tags": []
   },
   "outputs": [
    {
     "data": {
      "text/latex": [
       "$\\displaystyle f{\\left(a \\right)}$"
      ],
      "text/plain": [
       "f(a)"
      ]
     },
     "execution_count": 74,
     "metadata": {},
     "output_type": "execute_result"
    }
   ],
   "source": [
    "f(a).subs(f, lambda x: x+1)"
   ]
  },
  {
   "cell_type": "code",
   "execution_count": 75,
   "id": "fea456ec-c655-4e6e-989b-fcb5306824fc",
   "metadata": {
    "tags": []
   },
   "outputs": [
    {
     "data": {
      "text/latex": [
       "$\\displaystyle a + 1$"
      ],
      "text/plain": [
       "a + 1"
      ]
     },
     "execution_count": 75,
     "metadata": {},
     "output_type": "execute_result"
    }
   ],
   "source": [
    "f(a).subs(f, Lambda(a, a+1))"
   ]
  },
  {
   "cell_type": "code",
   "execution_count": 76,
   "id": "914f1ad7-a0ed-43d9-9384-f8105959c5c4",
   "metadata": {
    "tags": []
   },
   "outputs": [
    {
     "data": {
      "text/latex": [
       "$\\displaystyle f{\\left(1 \\right)}$"
      ],
      "text/plain": [
       "f(1)"
      ]
     },
     "execution_count": 76,
     "metadata": {},
     "output_type": "execute_result"
    }
   ],
   "source": [
    "f(a).subs(a, 1)"
   ]
  },
  {
   "cell_type": "code",
   "execution_count": 77,
   "id": "319d9876-e21d-452d-9ec5-60152f25d1e8",
   "metadata": {
    "tags": []
   },
   "outputs": [
    {
     "data": {
      "text/latex": [
       "$\\displaystyle \\left( \\left( \\right) \\mapsto \\begin{cases} 3 & \\text{for}\\: b_{1} \\\\5 & \\text{for}\\: b_{2} \\end{cases} \\right)$"
      ],
      "text/plain": [
       "     ⎧3  for b₁\n",
       "() ↦ ⎨         \n",
       "     ⎩5  for b₂"
      ]
     },
     "execution_count": 77,
     "metadata": {},
     "output_type": "execute_result"
    }
   ],
   "source": [
    "# Note: ITE should specify boolean expressions in then and else clauses.\n",
    "b1, b2 = symbols('b1 b2')\n",
    "Lambda((), Piecewise((3, b1), (5, b2)))"
   ]
  },
  {
   "cell_type": "code",
   "execution_count": 78,
   "id": "f5fe8d48-c978-4a2e-8a3b-5fa0ed9a3b65",
   "metadata": {
    "tags": []
   },
   "outputs": [
    {
     "data": {
      "text/plain": [
       "[True, False, True, False, True]"
      ]
     },
     "execution_count": 78,
     "metadata": {},
     "output_type": "execute_result"
    }
   ],
   "source": [
    "[rand_bool() for _ in range(5)]"
   ]
  },
  {
   "cell_type": "code",
   "execution_count": 79,
   "id": "7ad2dee7-d18e-41af-bb02-a0aa94e0846c",
   "metadata": {
    "tags": []
   },
   "outputs": [
    {
     "data": {
      "text/latex": [
       "$\\displaystyle \\left( \\left( \\right) \\mapsto 3 \\right)$"
      ],
      "text/plain": [
       "() ↦ 3"
      ]
     },
     "execution_count": 79,
     "metadata": {},
     "output_type": "execute_result"
    }
   ],
   "source": [
    "Lambda((), Piecewise((3, b1), (5, b2))).subs({b1: rand_bool(), b2: rand_bool()})"
   ]
  },
  {
   "cell_type": "code",
   "execution_count": 80,
   "id": "5560c548-95fb-4958-8673-67913604ead3",
   "metadata": {
    "tags": []
   },
   "outputs": [
    {
     "data": {
      "text/latex": [
       "$\\displaystyle \\left[ 5, \\  3, \\  3, \\  3, \\  5\\right]$"
      ],
      "text/plain": [
       "[5, 3, 3, 3, 5]"
      ]
     },
     "execution_count": 80,
     "metadata": {},
     "output_type": "execute_result"
    }
   ],
   "source": [
    "[ Lambda((), Piecewise((3, b1), (5, b2))).subs({b1: rand_bool(), b2: rand_bool()})() for _ in range(5) ]"
   ]
  },
  {
   "cell_type": "code",
   "execution_count": 81,
   "id": "8bbc7953-8bcb-47b6-8293-5374840e7cc6",
   "metadata": {
    "tags": []
   },
   "outputs": [
    {
     "data": {
      "text/latex": [
       "$\\displaystyle \\left( x_{1} \\mapsto \\begin{cases} z_{1} & \\text{for}\\: b_{1} \\vee x_{1} > 0 \\\\fail & \\text{otherwise} \\end{cases} \\right)$"
      ],
      "text/plain": [
       "     ⎧ z₁   for b₁ ∨ x₁ > 0\n",
       "x₁ ↦ ⎨                     \n",
       "     ⎩fail     otherwise   "
      ]
     },
     "execution_count": 81,
     "metadata": {},
     "output_type": "execute_result"
    }
   ],
   "source": [
    "x1, z1, z2 = symbols('x1 z1 z2')\n",
    "tc = Lambda((x1,), x1 > 0)\n",
    "Lambda(x1, Piecewise((z1, b1 | tc(x1)), (S(\"fail\"), True)))"
   ]
  },
  {
   "cell_type": "code",
   "execution_count": 82,
   "id": "b5e8567a-6d1b-45f5-806d-4bf09382fe70",
   "metadata": {
    "tags": []
   },
   "outputs": [
    {
     "data": {
      "text/latex": [
       "$\\displaystyle -93$"
      ],
      "text/plain": [
       "-93"
      ]
     },
     "execution_count": 82,
     "metadata": {},
     "output_type": "execute_result"
    }
   ],
   "source": [
    "Lambda(x1, Piecewise((z1, b1 | tc(x1)), (S(\"fail\"), True))).subs(z1, rand_int())(3)"
   ]
  },
  {
   "cell_type": "code",
   "execution_count": 83,
   "id": "24bcc6d6-9782-41fb-abe2-6184b4df855c",
   "metadata": {
    "tags": []
   },
   "outputs": [
    {
     "data": {
      "text/latex": [
       "$\\displaystyle fail$"
      ],
      "text/plain": [
       "fail"
      ]
     },
     "execution_count": 83,
     "metadata": {},
     "output_type": "execute_result"
    }
   ],
   "source": [
    "Lambda(x1, Piecewise((z1, b1 | tc(x1)), (S(\"fail\"), True))).subs({b1: rand_bool(), z1: rand_int()})(-1)"
   ]
  },
  {
   "cell_type": "code",
   "execution_count": 84,
   "id": "4ab0e3bb-f086-4631-8e2d-7af9288718a8",
   "metadata": {
    "tags": []
   },
   "outputs": [
    {
     "data": {
      "text/latex": [
       "$\\displaystyle f{\\left(20 \\right)} + 1$"
      ],
      "text/plain": [
       "f(20) + 1"
      ]
     },
     "execution_count": 84,
     "metadata": {},
     "output_type": "execute_result"
    }
   ],
   "source": [
    "h = Lambda(a, a+1)\n",
    "h(f(20))"
   ]
  },
  {
   "cell_type": "code",
   "execution_count": 85,
   "id": "aa92e34e-743f-4637-af02-401d43345e75",
   "metadata": {
    "tags": []
   },
   "outputs": [
    {
     "data": {
      "text/latex": [
       "$\\displaystyle \\left( a \\mapsto \\left. f{\\left(20 \\right)} \\right|_{\\substack{ f=a }} \\right)$"
      ],
      "text/plain": [
       "a ↦ (f(20))│   \n",
       "           │f=a"
      ]
     },
     "execution_count": 85,
     "metadata": {},
     "output_type": "execute_result"
    }
   ],
   "source": [
    "Lambda((a,), Subs(f(20), (f,), (a,)))"
   ]
  },
  {
   "cell_type": "code",
   "execution_count": 89,
   "id": "11612de5-c229-49d5-b3e7-9cfa41eecd12",
   "metadata": {
    "tags": []
   },
   "outputs": [
    {
     "data": {
      "text/latex": [
       "$\\displaystyle y + 1$"
      ],
      "text/plain": [
       "y + 1"
      ]
     },
     "execution_count": 89,
     "metadata": {},
     "output_type": "execute_result"
    }
   ],
   "source": [
    "f(y).subs(f, Lambda(x,x+1))"
   ]
  },
  {
   "cell_type": "markdown",
   "id": "296a697e-c566-4768-9927-7d131fc50ed8",
   "metadata": {},
   "source": [
    "----\n",
    "### Inequality and Simplification"
   ]
  },
  {
   "cell_type": "code",
   "execution_count": 91,
   "id": "2db6d244-4126-4139-9c9f-472a7f6c983b",
   "metadata": {
    "tags": []
   },
   "outputs": [
    {
     "data": {
      "text/latex": [
       "$\\displaystyle 2 x + 1 > 0$"
      ],
      "text/plain": [
       "2⋅x + 1 > 0"
      ]
     },
     "execution_count": 91,
     "metadata": {},
     "output_type": "execute_result"
    }
   ],
   "source": [
    "S('2*x+1 > 0')"
   ]
  },
  {
   "cell_type": "code",
   "execution_count": 94,
   "id": "7aa8603a-aef5-4a80-a141-b70b131b9fa7",
   "metadata": {
    "tags": []
   },
   "outputs": [
    {
     "data": {
      "text/latex": [
       "$\\displaystyle x > - \\frac{1}{2}$"
      ],
      "text/plain": [
       "x > -1/2"
      ]
     },
     "execution_count": 94,
     "metadata": {},
     "output_type": "execute_result"
    }
   ],
   "source": [
    "simplify(S('2*x+1 > 0'))"
   ]
  },
  {
   "cell_type": "code",
   "execution_count": 103,
   "id": "4b201e8f-f81a-44dc-9d72-d44d50144d98",
   "metadata": {
    "tags": []
   },
   "outputs": [
    {
     "data": {
      "text/latex": [
       "$\\displaystyle \\sin{\\left(x \\right)} > \\frac{1}{3}$"
      ],
      "text/plain": [
       "sin(x) > 1/3"
      ]
     },
     "execution_count": 103,
     "metadata": {},
     "output_type": "execute_result"
    }
   ],
   "source": [
    "e10 = S('sin(x)>1/3')\n",
    "e10"
   ]
  },
  {
   "cell_type": "code",
   "execution_count": 104,
   "id": "c2e23b53-416d-474b-bd9f-4d98dc72dbf3",
   "metadata": {
    "tags": []
   },
   "outputs": [
    {
     "data": {
      "text/latex": [
       "$\\displaystyle x > \\operatorname{atan}{\\left(\\frac{\\sqrt{2}}{4} \\right)} \\wedge x < 1$"
      ],
      "text/plain": [
       "        ⎛√2⎞        \n",
       "x > atan⎜──⎟ ∧ x < 1\n",
       "        ⎝4 ⎠        "
      ]
     },
     "execution_count": 104,
     "metadata": {},
     "output_type": "execute_result"
    }
   ],
   "source": [
    "simplify(e10 & (x < 1))"
   ]
  },
  {
   "cell_type": "code",
   "execution_count": 105,
   "id": "ef363437-6111-4558-98ee-57905489809a",
   "metadata": {
    "tags": []
   },
   "outputs": [
    {
     "ename": "AttributeError",
     "evalue": "'ListSymbol' object has no attribute 'binary_symbols'",
     "output_type": "error",
     "traceback": [
      "\u001b[0;31m---------------------------------------------------------------------------\u001b[0m",
      "\u001b[0;31mAttributeError\u001b[0m                            Traceback (most recent call last)",
      "Cell \u001b[0;32mIn[105], line 1\u001b[0m\n\u001b[0;32m----> 1\u001b[0m simplify(\u001b[43m(\u001b[49m\u001b[43mLen\u001b[49m\u001b[43m(\u001b[49m\u001b[43ml\u001b[49m\u001b[43m)\u001b[49m\u001b[43m \u001b[49m\u001b[38;5;241;43m>\u001b[39;49m\u001b[43m \u001b[49m\u001b[38;5;241;43m1\u001b[39;49m\u001b[43m)\u001b[49m\u001b[43m \u001b[49m\u001b[38;5;241;43m&\u001b[39;49m\u001b[43m \u001b[49m\u001b[43m(\u001b[49m\u001b[43mAll\u001b[49m\u001b[43m(\u001b[49m\u001b[43ml\u001b[49m\u001b[43m)\u001b[49m\u001b[43m)\u001b[49m)\n",
      "File \u001b[0;32m~/.local/lib/python3.10/site-packages/sympy/core/decorators.py:236\u001b[0m, in \u001b[0;36m_SympifyWrapper.make_wrapped.<locals>._func\u001b[0;34m(self, other)\u001b[0m\n\u001b[1;32m    234\u001b[0m \u001b[38;5;28;01mif\u001b[39;00m \u001b[38;5;129;01mnot\u001b[39;00m \u001b[38;5;28misinstance\u001b[39m(other, expectedcls):\n\u001b[1;32m    235\u001b[0m     \u001b[38;5;28;01mreturn\u001b[39;00m retval\n\u001b[0;32m--> 236\u001b[0m \u001b[38;5;28;01mreturn\u001b[39;00m \u001b[43mfunc\u001b[49m\u001b[43m(\u001b[49m\u001b[38;5;28;43mself\u001b[39;49m\u001b[43m,\u001b[49m\u001b[43m \u001b[49m\u001b[43mother\u001b[49m\u001b[43m)\u001b[49m\n",
      "File \u001b[0;32m~/.local/lib/python3.10/site-packages/sympy/logic/boolalg.py:74\u001b[0m, in \u001b[0;36mBoolean.__and__\u001b[0;34m(self, other)\u001b[0m\n\u001b[1;32m     72\u001b[0m \u001b[38;5;129m@sympify_return\u001b[39m([(\u001b[38;5;124m'\u001b[39m\u001b[38;5;124mother\u001b[39m\u001b[38;5;124m'\u001b[39m, \u001b[38;5;124m'\u001b[39m\u001b[38;5;124mBoolean\u001b[39m\u001b[38;5;124m'\u001b[39m)], \u001b[38;5;28mNotImplemented\u001b[39m)\n\u001b[1;32m     73\u001b[0m \u001b[38;5;28;01mdef\u001b[39;00m \u001b[38;5;21m__and__\u001b[39m(\u001b[38;5;28mself\u001b[39m, other):\n\u001b[0;32m---> 74\u001b[0m     \u001b[38;5;28;01mreturn\u001b[39;00m \u001b[43mAnd\u001b[49m\u001b[43m(\u001b[49m\u001b[38;5;28;43mself\u001b[39;49m\u001b[43m,\u001b[49m\u001b[43m \u001b[49m\u001b[43mother\u001b[49m\u001b[43m)\u001b[49m\n",
      "File \u001b[0;32m~/.local/lib/python3.10/site-packages/sympy/core/operations.py:512\u001b[0m, in \u001b[0;36mLatticeOp.__new__\u001b[0;34m(cls, *args, **options)\u001b[0m\n\u001b[1;32m    505\u001b[0m args \u001b[38;5;241m=\u001b[39m (_sympify_(arg) \u001b[38;5;28;01mfor\u001b[39;00m arg \u001b[38;5;129;01min\u001b[39;00m args)\n\u001b[1;32m    507\u001b[0m \u001b[38;5;28;01mtry\u001b[39;00m:\n\u001b[1;32m    508\u001b[0m     \u001b[38;5;66;03m# /!\\ args is a generator and _new_args_filter\u001b[39;00m\n\u001b[1;32m    509\u001b[0m     \u001b[38;5;66;03m# must be careful to handle as such; this\u001b[39;00m\n\u001b[1;32m    510\u001b[0m     \u001b[38;5;66;03m# is done so short-circuiting can be done\u001b[39;00m\n\u001b[1;32m    511\u001b[0m     \u001b[38;5;66;03m# without having to sympify all values\u001b[39;00m\n\u001b[0;32m--> 512\u001b[0m     _args \u001b[38;5;241m=\u001b[39m \u001b[38;5;28mfrozenset\u001b[39m(\u001b[38;5;28;43mcls\u001b[39;49m\u001b[38;5;241;43m.\u001b[39;49m\u001b[43m_new_args_filter\u001b[49m\u001b[43m(\u001b[49m\u001b[43margs\u001b[49m\u001b[43m)\u001b[49m)\n\u001b[1;32m    513\u001b[0m \u001b[38;5;28;01mexcept\u001b[39;00m ShortCircuit:\n\u001b[1;32m    514\u001b[0m     \u001b[38;5;28;01mreturn\u001b[39;00m sympify(\u001b[38;5;28mcls\u001b[39m\u001b[38;5;241m.\u001b[39mzero)\n",
      "File \u001b[0;32m~/.local/lib/python3.10/site-packages/sympy/logic/boolalg.py:606\u001b[0m, in \u001b[0;36mAnd._new_args_filter\u001b[0;34m(cls, args)\u001b[0m\n\u001b[1;32m    604\u001b[0m \u001b[38;5;129m@classmethod\u001b[39m\n\u001b[1;32m    605\u001b[0m \u001b[38;5;28;01mdef\u001b[39;00m \u001b[38;5;21m_new_args_filter\u001b[39m(\u001b[38;5;28mcls\u001b[39m, args):\n\u001b[0;32m--> 606\u001b[0m     args \u001b[38;5;241m=\u001b[39m \u001b[43mBooleanFunction\u001b[49m\u001b[38;5;241;43m.\u001b[39;49m\u001b[43mbinary_check_and_simplify\u001b[49m\u001b[43m(\u001b[49m\u001b[38;5;241;43m*\u001b[39;49m\u001b[43margs\u001b[49m\u001b[43m)\u001b[49m\n\u001b[1;32m    607\u001b[0m     args \u001b[38;5;241m=\u001b[39m LatticeOp\u001b[38;5;241m.\u001b[39m_new_args_filter(args, And)\n\u001b[1;32m    608\u001b[0m     newargs \u001b[38;5;241m=\u001b[39m []\n",
      "File \u001b[0;32m~/.local/lib/python3.10/site-packages/sympy/logic/boolalg.py:495\u001b[0m, in \u001b[0;36mBooleanFunction.binary_check_and_simplify\u001b[0;34m(self, *args)\u001b[0m\n\u001b[1;32m    493\u001b[0m \u001b[38;5;28;01mfrom\u001b[39;00m \u001b[38;5;21;01msympy\u001b[39;00m\u001b[38;5;21;01m.\u001b[39;00m\u001b[38;5;21;01mcore\u001b[39;00m\u001b[38;5;21;01m.\u001b[39;00m\u001b[38;5;21;01mrelational\u001b[39;00m \u001b[38;5;28;01mimport\u001b[39;00m Relational, Eq, Ne\n\u001b[1;32m    494\u001b[0m args \u001b[38;5;241m=\u001b[39m [as_Boolean(i) \u001b[38;5;28;01mfor\u001b[39;00m i \u001b[38;5;129;01min\u001b[39;00m args]\n\u001b[0;32m--> 495\u001b[0m bin_syms \u001b[38;5;241m=\u001b[39m \u001b[38;5;28mset\u001b[39m()\u001b[38;5;241m.\u001b[39munion(\u001b[38;5;241m*\u001b[39m[i\u001b[38;5;241m.\u001b[39mbinary_symbols \u001b[38;5;28;01mfor\u001b[39;00m i \u001b[38;5;129;01min\u001b[39;00m args])\n\u001b[1;32m    496\u001b[0m rel \u001b[38;5;241m=\u001b[39m \u001b[38;5;28mset\u001b[39m()\u001b[38;5;241m.\u001b[39munion(\u001b[38;5;241m*\u001b[39m[i\u001b[38;5;241m.\u001b[39matoms(Relational) \u001b[38;5;28;01mfor\u001b[39;00m i \u001b[38;5;129;01min\u001b[39;00m args])\n\u001b[1;32m    497\u001b[0m reps \u001b[38;5;241m=\u001b[39m {}\n",
      "File \u001b[0;32m~/.local/lib/python3.10/site-packages/sympy/logic/boolalg.py:495\u001b[0m, in \u001b[0;36m<listcomp>\u001b[0;34m(.0)\u001b[0m\n\u001b[1;32m    493\u001b[0m \u001b[38;5;28;01mfrom\u001b[39;00m \u001b[38;5;21;01msympy\u001b[39;00m\u001b[38;5;21;01m.\u001b[39;00m\u001b[38;5;21;01mcore\u001b[39;00m\u001b[38;5;21;01m.\u001b[39;00m\u001b[38;5;21;01mrelational\u001b[39;00m \u001b[38;5;28;01mimport\u001b[39;00m Relational, Eq, Ne\n\u001b[1;32m    494\u001b[0m args \u001b[38;5;241m=\u001b[39m [as_Boolean(i) \u001b[38;5;28;01mfor\u001b[39;00m i \u001b[38;5;129;01min\u001b[39;00m args]\n\u001b[0;32m--> 495\u001b[0m bin_syms \u001b[38;5;241m=\u001b[39m \u001b[38;5;28mset\u001b[39m()\u001b[38;5;241m.\u001b[39munion(\u001b[38;5;241m*\u001b[39m[\u001b[43mi\u001b[49m\u001b[38;5;241;43m.\u001b[39;49m\u001b[43mbinary_symbols\u001b[49m \u001b[38;5;28;01mfor\u001b[39;00m i \u001b[38;5;129;01min\u001b[39;00m args])\n\u001b[1;32m    496\u001b[0m rel \u001b[38;5;241m=\u001b[39m \u001b[38;5;28mset\u001b[39m()\u001b[38;5;241m.\u001b[39munion(\u001b[38;5;241m*\u001b[39m[i\u001b[38;5;241m.\u001b[39matoms(Relational) \u001b[38;5;28;01mfor\u001b[39;00m i \u001b[38;5;129;01min\u001b[39;00m args])\n\u001b[1;32m    497\u001b[0m reps \u001b[38;5;241m=\u001b[39m {}\n",
      "File \u001b[0;32m~/.local/lib/python3.10/site-packages/sympy/logic/boolalg.py:187\u001b[0m, in \u001b[0;36mBoolean.binary_symbols\u001b[0;34m(self)\u001b[0m\n\u001b[1;32m    184\u001b[0m \u001b[38;5;129m@property\u001b[39m\n\u001b[1;32m    185\u001b[0m \u001b[38;5;28;01mdef\u001b[39;00m \u001b[38;5;21mbinary_symbols\u001b[39m(\u001b[38;5;28mself\u001b[39m):\n\u001b[1;32m    186\u001b[0m     \u001b[38;5;28;01mfrom\u001b[39;00m \u001b[38;5;21;01msympy\u001b[39;00m\u001b[38;5;21;01m.\u001b[39;00m\u001b[38;5;21;01mcore\u001b[39;00m\u001b[38;5;21;01m.\u001b[39;00m\u001b[38;5;21;01mrelational\u001b[39;00m \u001b[38;5;28;01mimport\u001b[39;00m Eq, Ne\n\u001b[0;32m--> 187\u001b[0m     \u001b[38;5;28;01mreturn\u001b[39;00m \u001b[38;5;28mset\u001b[39m()\u001b[38;5;241m.\u001b[39munion(\u001b[38;5;241m*\u001b[39m[i\u001b[38;5;241m.\u001b[39mbinary_symbols \u001b[38;5;28;01mfor\u001b[39;00m i \u001b[38;5;129;01min\u001b[39;00m \u001b[38;5;28mself\u001b[39m\u001b[38;5;241m.\u001b[39margs\n\u001b[1;32m    188\u001b[0m                        \u001b[38;5;28;01mif\u001b[39;00m i\u001b[38;5;241m.\u001b[39mis_Boolean \u001b[38;5;129;01mor\u001b[39;00m i\u001b[38;5;241m.\u001b[39mis_Symbol\n\u001b[1;32m    189\u001b[0m                        \u001b[38;5;129;01mor\u001b[39;00m \u001b[38;5;28misinstance\u001b[39m(i, (Eq, Ne))])\n",
      "File \u001b[0;32m~/.local/lib/python3.10/site-packages/sympy/logic/boolalg.py:187\u001b[0m, in \u001b[0;36m<listcomp>\u001b[0;34m(.0)\u001b[0m\n\u001b[1;32m    184\u001b[0m \u001b[38;5;129m@property\u001b[39m\n\u001b[1;32m    185\u001b[0m \u001b[38;5;28;01mdef\u001b[39;00m \u001b[38;5;21mbinary_symbols\u001b[39m(\u001b[38;5;28mself\u001b[39m):\n\u001b[1;32m    186\u001b[0m     \u001b[38;5;28;01mfrom\u001b[39;00m \u001b[38;5;21;01msympy\u001b[39;00m\u001b[38;5;21;01m.\u001b[39;00m\u001b[38;5;21;01mcore\u001b[39;00m\u001b[38;5;21;01m.\u001b[39;00m\u001b[38;5;21;01mrelational\u001b[39;00m \u001b[38;5;28;01mimport\u001b[39;00m Eq, Ne\n\u001b[0;32m--> 187\u001b[0m     \u001b[38;5;28;01mreturn\u001b[39;00m \u001b[38;5;28mset\u001b[39m()\u001b[38;5;241m.\u001b[39munion(\u001b[38;5;241m*\u001b[39m[\u001b[43mi\u001b[49m\u001b[38;5;241;43m.\u001b[39;49m\u001b[43mbinary_symbols\u001b[49m \u001b[38;5;28;01mfor\u001b[39;00m i \u001b[38;5;129;01min\u001b[39;00m \u001b[38;5;28mself\u001b[39m\u001b[38;5;241m.\u001b[39margs\n\u001b[1;32m    188\u001b[0m                        \u001b[38;5;28;01mif\u001b[39;00m i\u001b[38;5;241m.\u001b[39mis_Boolean \u001b[38;5;129;01mor\u001b[39;00m i\u001b[38;5;241m.\u001b[39mis_Symbol\n\u001b[1;32m    189\u001b[0m                        \u001b[38;5;129;01mor\u001b[39;00m \u001b[38;5;28misinstance\u001b[39m(i, (Eq, Ne))])\n",
      "\u001b[0;31mAttributeError\u001b[0m: 'ListSymbol' object has no attribute 'binary_symbols'"
     ]
    }
   ],
   "source": [
    "simplify((Len(l) > 1) & (All(l)))"
   ]
  },
  {
   "cell_type": "markdown",
   "id": "79ccd94b-1c6e-430e-8085-d55c012c80be",
   "metadata": {
    "tags": []
   },
   "source": [
    "----\n",
    "## Matrix\n",
    "\n",
    "Experiments on `MatrixSymbol` for study"
   ]
  },
  {
   "cell_type": "code",
   "execution_count": null,
   "id": "fa1ea7a4-ea01-4bc0-a1ae-927ddbe7d4ab",
   "metadata": {},
   "outputs": [],
   "source": [
    "from sympy import MatrixSymbol, Identity\n",
    "A = MatrixSymbol('A', 3, 3)\n",
    "B = MatrixSymbol('B', 3, 3)                 "
   ]
  },
  {
   "cell_type": "code",
   "execution_count": null,
   "id": "fa07a8b6-a94f-41c2-8e9b-130daa46ee09",
   "metadata": {},
   "outputs": [],
   "source": [
    "A"
   ]
  },
  {
   "cell_type": "code",
   "execution_count": null,
   "id": "569a7cda-8103-4c4b-ab05-303ee6964b28",
   "metadata": {},
   "outputs": [],
   "source": [
    "A+B"
   ]
  },
  {
   "cell_type": "code",
   "execution_count": null,
   "id": "f30e47a6-09ca-486d-b701-ef1575d11e92",
   "metadata": {},
   "outputs": [],
   "source": [
    "repr(A)"
   ]
  },
  {
   "cell_type": "code",
   "execution_count": null,
   "id": "744bc00b-3abd-4a1b-a4e3-53b952656677",
   "metadata": {},
   "outputs": [],
   "source": [
    "srepr(A)"
   ]
  },
  {
   "cell_type": "code",
   "execution_count": null,
   "id": "47f84b83-39f5-4e8e-964e-c0e1c6d146dd",
   "metadata": {},
   "outputs": [],
   "source": [
    "srepr(A+B)"
   ]
  },
  {
   "cell_type": "code",
   "execution_count": null,
   "id": "55954637-97b8-4e42-88fc-50a894c7883d",
   "metadata": {},
   "outputs": [],
   "source": [
    "(A+B).free_symbols"
   ]
  },
  {
   "cell_type": "code",
   "execution_count": null,
   "id": "3747e912-d410-4c28-b9d7-bf8f25331238",
   "metadata": {},
   "outputs": [],
   "source": [
    "(A+B).subs(A, Identity(3))"
   ]
  },
  {
   "cell_type": "code",
   "execution_count": null,
   "id": "efaf6a02-2078-4ba9-9e2d-930bed0891a4",
   "metadata": {},
   "outputs": [],
   "source": [
    "(A+B).subs(A, Identity(3)).subs(B, Identity(3))"
   ]
  },
  {
   "cell_type": "code",
   "execution_count": null,
   "id": "ef1b2c8a-7521-4f93-9c6f-6637ff8678eb",
   "metadata": {},
   "outputs": [],
   "source": [
    "(A+B).subs(A, Identity(3)).subs(B, Identity(3)).doit()"
   ]
  },
  {
   "cell_type": "code",
   "execution_count": null,
   "id": "f0069908-42f3-47df-97fa-3a17b14af810",
   "metadata": {},
   "outputs": [],
   "source": []
  }
 ],
 "metadata": {
  "kernelspec": {
   "display_name": "Python 3 (ipykernel)",
   "language": "python",
   "name": "python3"
  },
  "language_info": {
   "codemirror_mode": {
    "name": "ipython",
    "version": 3
   },
   "file_extension": ".py",
   "mimetype": "text/x-python",
   "name": "python",
   "nbconvert_exporter": "python",
   "pygments_lexer": "ipython3",
   "version": "3.10.9"
  },
  "toc-showtags": true
 },
 "nbformat": 4,
 "nbformat_minor": 5
}
