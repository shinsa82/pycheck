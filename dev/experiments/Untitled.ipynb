{
 "cells": [
  {
   "cell_type": "code",
   "execution_count": 78,
   "id": "pressed-freeze",
   "metadata": {},
   "outputs": [],
   "source": [
    "from inspect import signature, Signature\n",
    "from pprint import pprint\n",
    "from typing import Optional, TypeVar, Generic\n",
    "from types import FunctionType, LambdaType\n",
    "from collections.abc import Callable"
   ]
  },
  {
   "cell_type": "code",
   "execution_count": 46,
   "id": "broad-benchmark",
   "metadata": {},
   "outputs": [],
   "source": [
    "def add(a: str, /, y: float = 0, *args, x: int = 0, **kwargs) -> Optional[float]:\n",
    "    return x+1"
   ]
  },
  {
   "cell_type": "code",
   "execution_count": 38,
   "id": "afraid-silicon",
   "metadata": {},
   "outputs": [],
   "source": [
    "def bar(a, b, *, x, y, **kwargs): pass"
   ]
  },
  {
   "cell_type": "code",
   "execution_count": 39,
   "id": "scheduled-chorus",
   "metadata": {},
   "outputs": [],
   "source": [
    "def foo(a, b, *args, x, y, **kwargs): pass"
   ]
  },
  {
   "cell_type": "code",
   "execution_count": 41,
   "id": "unknown-azerbaijan",
   "metadata": {},
   "outputs": [
    {
     "ename": "SyntaxError",
     "evalue": "invalid syntax (<ipython-input-41-08aceab775f4>, line 2)",
     "output_type": "error",
     "traceback": [
      "\u001b[0;36m  File \u001b[0;32m\"<ipython-input-41-08aceab775f4>\"\u001b[0;36m, line \u001b[0;32m2\u001b[0m\n\u001b[0;31m    def baz(a, return): pass\u001b[0m\n\u001b[0m               ^\u001b[0m\n\u001b[0;31mSyntaxError\u001b[0m\u001b[0;31m:\u001b[0m invalid syntax\n"
     ]
    }
   ],
   "source": [
    "# cannot use 'return' as parameter name\n",
    "def baz(a, return): pass"
   ]
  },
  {
   "cell_type": "code",
   "execution_count": 47,
   "id": "commercial-showcase",
   "metadata": {},
   "outputs": [
    {
     "name": "stdout",
     "output_type": "stream",
     "text": [
      "\n",
      "<Signature (a: str, /, y: float = 0, *args, x: int = 0, **kwargs) -> Optional[float]>\n"
     ]
    }
   ],
   "source": [
    "# inspect.signature\n",
    "# argument order seems to be preserved\n",
    "print()\n",
    "sig = signature(add)\n",
    "pprint(sig)"
   ]
  },
  {
   "cell_type": "code",
   "execution_count": 48,
   "id": "intended-lawyer",
   "metadata": {},
   "outputs": [
    {
     "data": {
      "text/plain": [
       "mappingproxy({'a': <Parameter \"a: str\">,\n",
       "              'y': <Parameter \"y: float = 0\">,\n",
       "              'args': <Parameter \"*args\">,\n",
       "              'x': <Parameter \"x: int = 0\">,\n",
       "              'kwargs': <Parameter \"**kwargs\">})"
      ]
     },
     "execution_count": 48,
     "metadata": {},
     "output_type": "execute_result"
    }
   ],
   "source": [
    "sig.parameters"
   ]
  },
  {
   "cell_type": "code",
   "execution_count": 49,
   "id": "signed-correction",
   "metadata": {},
   "outputs": [
    {
     "data": {
      "text/plain": [
       "typing.Optional[float]"
      ]
     },
     "execution_count": 49,
     "metadata": {},
     "output_type": "execute_result"
    }
   ],
   "source": [
    "sig.return_annotation"
   ]
  },
  {
   "cell_type": "code",
   "execution_count": 55,
   "id": "collective-comment",
   "metadata": {},
   "outputs": [
    {
     "data": {
      "text/plain": [
       "True"
      ]
     },
     "execution_count": 55,
     "metadata": {},
     "output_type": "execute_result"
    }
   ],
   "source": [
    "Optional == Optional"
   ]
  },
  {
   "cell_type": "code",
   "execution_count": 52,
   "id": "patient-antenna",
   "metadata": {},
   "outputs": [
    {
     "name": "stdout",
     "output_type": "stream",
     "text": [
      "v='a'\n",
      "t=<Parameter \"a: str\">\n",
      "  t.name='a'\n",
      "  t.kind=<_ParameterKind.POSITIONAL_ONLY: 0>\n",
      "  t.annotation=<class 'str'>\n",
      "  t.default=<class 'inspect._empty'>\n",
      "v='y'\n",
      "t=<Parameter \"y: float = 0\">\n",
      "  t.name='y'\n",
      "  t.kind=<_ParameterKind.POSITIONAL_OR_KEYWORD: 1>\n",
      "  t.annotation=<class 'float'>\n",
      "  t.default=0\n",
      "v='args'\n",
      "t=<Parameter \"*args\">\n",
      "  t.name='args'\n",
      "  t.kind=<_ParameterKind.VAR_POSITIONAL: 2>\n",
      "  t.annotation=<class 'inspect._empty'>\n",
      "  t.default=<class 'inspect._empty'>\n",
      "v='x'\n",
      "t=<Parameter \"x: int = 0\">\n",
      "  t.name='x'\n",
      "  t.kind=<_ParameterKind.KEYWORD_ONLY: 3>\n",
      "  t.annotation=<class 'int'>\n",
      "  t.default=0\n",
      "v='kwargs'\n",
      "t=<Parameter \"**kwargs\">\n",
      "  t.name='kwargs'\n",
      "  t.kind=<_ParameterKind.VAR_KEYWORD: 4>\n",
      "  t.annotation=<class 'inspect._empty'>\n",
      "  t.default=<class 'inspect._empty'>\n"
     ]
    }
   ],
   "source": [
    "for v, t in sig.parameters.items():\n",
    "    print(f'{v=}'),\n",
    "    print(f'{t=}'),\n",
    "    print(f'  {t.name=}')\n",
    "    print(f'  {t.kind=}')\n",
    "    print(f'  {t.annotation=}')\n",
    "    print(f'  {t.default=}')"
   ]
  },
  {
   "cell_type": "code",
   "execution_count": 56,
   "id": "orange-acquisition",
   "metadata": {},
   "outputs": [
    {
     "data": {
      "text/plain": [
       "True"
      ]
     },
     "execution_count": 56,
     "metadata": {},
     "output_type": "execute_result"
    }
   ],
   "source": [
    "Optional[float] == Optional[float]"
   ]
  },
  {
   "cell_type": "code",
   "execution_count": 54,
   "id": "protecting-public",
   "metadata": {},
   "outputs": [],
   "source": [
    "assert sig.parameters['x'].annotation == int"
   ]
  },
  {
   "cell_type": "code",
   "execution_count": 34,
   "id": "third-timer",
   "metadata": {},
   "outputs": [],
   "source": [
    "def return_f():\n",
    "    def f(x):\n",
    "        return x+1\n",
    "    return f"
   ]
  },
  {
   "cell_type": "code",
   "execution_count": 35,
   "id": "balanced-contractor",
   "metadata": {},
   "outputs": [],
   "source": [
    "g = return_f()"
   ]
  },
  {
   "cell_type": "code",
   "execution_count": 36,
   "id": "seeing-concept",
   "metadata": {},
   "outputs": [
    {
     "data": {
      "text/plain": [
       "4"
      ]
     },
     "execution_count": 36,
     "metadata": {},
     "output_type": "execute_result"
    }
   ],
   "source": [
    "g(3)"
   ]
  },
  {
   "cell_type": "code",
   "execution_count": 57,
   "id": "informed-bunny",
   "metadata": {},
   "outputs": [
    {
     "data": {
      "text/plain": [
       "function"
      ]
     },
     "execution_count": 57,
     "metadata": {},
     "output_type": "execute_result"
    }
   ],
   "source": [
    "type(g)"
   ]
  },
  {
   "cell_type": "code",
   "execution_count": 61,
   "id": "classical-account",
   "metadata": {},
   "outputs": [
    {
     "name": "stdout",
     "output_type": "stream",
     "text": [
      "True\n",
      "True\n",
      "True\n"
     ]
    }
   ],
   "source": [
    "print(issubclass(LambdaType, FunctionType))\n",
    "print(issubclass(FunctionType, Callable))\n",
    "print(issubclass(Callable, object))"
   ]
  },
  {
   "cell_type": "code",
   "execution_count": 64,
   "id": "loaded-cement",
   "metadata": {},
   "outputs": [
    {
     "name": "stdout",
     "output_type": "stream",
     "text": [
      "True\n",
      "True\n"
     ]
    }
   ],
   "source": [
    "print(isinstance(foo, LambdaType))\n",
    "print(isinstance(foo, FunctionType))"
   ]
  },
  {
   "cell_type": "code",
   "execution_count": 65,
   "id": "increasing-courage",
   "metadata": {},
   "outputs": [],
   "source": [
    "def inc(x):\n",
    "    print(x)\n",
    "    return x+1"
   ]
  },
  {
   "cell_type": "code",
   "execution_count": 67,
   "id": "little-avatar",
   "metadata": {},
   "outputs": [
    {
     "name": "stdout",
     "output_type": "stream",
     "text": [
      "False\n",
      "True\n",
      "True\n"
     ]
    }
   ],
   "source": [
    "print(isinstance(max, LambdaType))\n",
    "print(isinstance(inc, LambdaType))\n",
    "print(isinstance(inc, FunctionType))"
   ]
  },
  {
   "cell_type": "code",
   "execution_count": 72,
   "id": "other-madness",
   "metadata": {},
   "outputs": [
    {
     "data": {
      "text/plain": [
       "type"
      ]
     },
     "execution_count": 72,
     "metadata": {},
     "output_type": "execute_result"
    }
   ],
   "source": [
    "type(type(int))"
   ]
  },
  {
   "cell_type": "code",
   "execution_count": 75,
   "id": "designed-point",
   "metadata": {},
   "outputs": [
    {
     "ename": "TypeError",
     "evalue": "can't set attributes of built-in/extension type 'int'",
     "output_type": "error",
     "traceback": [
      "\u001b[0;31m---------------------------------------------------------------------------\u001b[0m",
      "\u001b[0;31mTypeError\u001b[0m                                 Traceback (most recent call last)",
      "\u001b[0;32m<ipython-input-75-d029473f81cb>\u001b[0m in \u001b[0;36m<module>\u001b[0;34m\u001b[0m\n\u001b[0;32m----> 1\u001b[0;31m \u001b[0msetattr\u001b[0m\u001b[0;34m(\u001b[0m\u001b[0mint\u001b[0m\u001b[0;34m,\u001b[0m \u001b[0;34m'__arbitrary__'\u001b[0m\u001b[0;34m,\u001b[0m \u001b[0;32mlambda\u001b[0m \u001b[0mx\u001b[0m\u001b[0;34m:\u001b[0m \u001b[0mx\u001b[0m\u001b[0;34m+\u001b[0m\u001b[0;36m1\u001b[0m\u001b[0;34m)\u001b[0m\u001b[0;34m\u001b[0m\u001b[0;34m\u001b[0m\u001b[0m\n\u001b[0m",
      "\u001b[0;31mTypeError\u001b[0m: can't set attributes of built-in/extension type 'int'"
     ]
    }
   ],
   "source": [
    "setattr(int, '__arbitrary__', lambda x: x+1)"
   ]
  },
  {
   "cell_type": "code",
   "execution_count": 82,
   "id": "composite-northeast",
   "metadata": {},
   "outputs": [],
   "source": [
    "T = TypeVar('T')\n",
    "class Gen(Generic[T]): pass\n",
    "class Arbitrary(Generic[T]):\n",
    "    def arbitrary(self) -> Gen[T]: pass"
   ]
  },
  {
   "cell_type": "markdown",
   "id": "czech-twelve",
   "metadata": {},
   "source": [
    "ある型 `T` が来た時に、`Arbitrary[T]` に属するかどうかを判定できるか？"
   ]
  },
  {
   "cell_type": "markdown",
   "id": "falling-touch",
   "metadata": {},
   "source": [
    "型を受け取る引数はどう書く？"
   ]
  },
  {
   "cell_type": "code",
   "execution_count": 90,
   "id": "respected-plain",
   "metadata": {},
   "outputs": [
    {
     "name": "stdout",
     "output_type": "stream",
     "text": [
      "True\n",
      "True\n",
      "False\n"
     ]
    }
   ],
   "source": [
    "print(isinstance(int, type))\n",
    "print(isinstance(list[int], type))\n",
    "print(isinstance(TypeVar('S'), type))"
   ]
  },
  {
   "cell_type": "code",
   "execution_count": 87,
   "id": "experimental-issue",
   "metadata": {},
   "outputs": [
    {
     "data": {
      "text/plain": [
       "type"
      ]
     },
     "execution_count": 87,
     "metadata": {},
     "output_type": "execute_result"
    }
   ],
   "source": [
    "type(int)"
   ]
  },
  {
   "cell_type": "code",
   "execution_count": null,
   "id": "extended-murray",
   "metadata": {},
   "outputs": [],
   "source": []
  },
  {
   "cell_type": "code",
   "execution_count": 83,
   "id": "broken-sarah",
   "metadata": {},
   "outputs": [
    {
     "data": {
      "text/plain": [
       "__main__.Arbitrary"
      ]
     },
     "execution_count": 83,
     "metadata": {},
     "output_type": "execute_result"
    }
   ],
   "source": [
    "Arbitrary"
   ]
  },
  {
   "cell_type": "code",
   "execution_count": 85,
   "id": "chinese-foundation",
   "metadata": {},
   "outputs": [
    {
     "ename": "TypeError",
     "evalue": "Too many parameters for <class '__main__.Arbitrary'>; actual 2, expected 1",
     "output_type": "error",
     "traceback": [
      "\u001b[0;31m---------------------------------------------------------------------------\u001b[0m",
      "\u001b[0;31mTypeError\u001b[0m                                 Traceback (most recent call last)",
      "\u001b[0;32m<ipython-input-85-f066c15c716f>\u001b[0m in \u001b[0;36m<module>\u001b[0;34m\u001b[0m\n\u001b[0;32m----> 1\u001b[0;31m \u001b[0mArbitrary\u001b[0m\u001b[0;34m[\u001b[0m\u001b[0mint\u001b[0m\u001b[0;34m,\u001b[0m \u001b[0mint\u001b[0m\u001b[0;34m]\u001b[0m\u001b[0;34m\u001b[0m\u001b[0;34m\u001b[0m\u001b[0m\n\u001b[0m",
      "\u001b[0;32m~/.anyenv/envs/pyenv/versions/3.9.1/lib/python3.9/typing.py\u001b[0m in \u001b[0;36minner\u001b[0;34m(*args, **kwds)\u001b[0m\n\u001b[1;32m    260\u001b[0m             \u001b[0;32mexcept\u001b[0m \u001b[0mTypeError\u001b[0m\u001b[0;34m:\u001b[0m\u001b[0;34m\u001b[0m\u001b[0;34m\u001b[0m\u001b[0m\n\u001b[1;32m    261\u001b[0m                 \u001b[0;32mpass\u001b[0m  \u001b[0;31m# All real errors (not unhashable args) are raised below.\u001b[0m\u001b[0;34m\u001b[0m\u001b[0;34m\u001b[0m\u001b[0m\n\u001b[0;32m--> 262\u001b[0;31m             \u001b[0;32mreturn\u001b[0m \u001b[0mfunc\u001b[0m\u001b[0;34m(\u001b[0m\u001b[0;34m*\u001b[0m\u001b[0margs\u001b[0m\u001b[0;34m,\u001b[0m \u001b[0;34m**\u001b[0m\u001b[0mkwds\u001b[0m\u001b[0;34m)\u001b[0m\u001b[0;34m\u001b[0m\u001b[0;34m\u001b[0m\u001b[0m\n\u001b[0m\u001b[1;32m    263\u001b[0m         \u001b[0;32mreturn\u001b[0m \u001b[0minner\u001b[0m\u001b[0;34m\u001b[0m\u001b[0;34m\u001b[0m\u001b[0m\n\u001b[1;32m    264\u001b[0m \u001b[0;34m\u001b[0m\u001b[0m\n",
      "\u001b[0;32m~/.anyenv/envs/pyenv/versions/3.9.1/lib/python3.9/typing.py\u001b[0m in \u001b[0;36m__class_getitem__\u001b[0;34m(cls, params)\u001b[0m\n\u001b[1;32m    978\u001b[0m         \u001b[0;32melse\u001b[0m\u001b[0;34m:\u001b[0m\u001b[0;34m\u001b[0m\u001b[0;34m\u001b[0m\u001b[0m\n\u001b[1;32m    979\u001b[0m             \u001b[0;31m# Subscripting a regular Generic subclass.\u001b[0m\u001b[0;34m\u001b[0m\u001b[0;34m\u001b[0m\u001b[0;34m\u001b[0m\u001b[0m\n\u001b[0;32m--> 980\u001b[0;31m             \u001b[0m_check_generic\u001b[0m\u001b[0;34m(\u001b[0m\u001b[0mcls\u001b[0m\u001b[0;34m,\u001b[0m \u001b[0mparams\u001b[0m\u001b[0;34m,\u001b[0m \u001b[0mlen\u001b[0m\u001b[0;34m(\u001b[0m\u001b[0mcls\u001b[0m\u001b[0;34m.\u001b[0m\u001b[0m__parameters__\u001b[0m\u001b[0;34m)\u001b[0m\u001b[0;34m)\u001b[0m\u001b[0;34m\u001b[0m\u001b[0;34m\u001b[0m\u001b[0m\n\u001b[0m\u001b[1;32m    981\u001b[0m         \u001b[0;32mreturn\u001b[0m \u001b[0m_GenericAlias\u001b[0m\u001b[0;34m(\u001b[0m\u001b[0mcls\u001b[0m\u001b[0;34m,\u001b[0m \u001b[0mparams\u001b[0m\u001b[0;34m)\u001b[0m\u001b[0;34m\u001b[0m\u001b[0;34m\u001b[0m\u001b[0m\n\u001b[1;32m    982\u001b[0m \u001b[0;34m\u001b[0m\u001b[0m\n",
      "\u001b[0;32m~/.anyenv/envs/pyenv/versions/3.9.1/lib/python3.9/typing.py\u001b[0m in \u001b[0;36m_check_generic\u001b[0;34m(cls, parameters, elen)\u001b[0m\n\u001b[1;32m    197\u001b[0m     \u001b[0malen\u001b[0m \u001b[0;34m=\u001b[0m \u001b[0mlen\u001b[0m\u001b[0;34m(\u001b[0m\u001b[0mparameters\u001b[0m\u001b[0;34m)\u001b[0m\u001b[0;34m\u001b[0m\u001b[0;34m\u001b[0m\u001b[0m\n\u001b[1;32m    198\u001b[0m     \u001b[0;32mif\u001b[0m \u001b[0malen\u001b[0m \u001b[0;34m!=\u001b[0m \u001b[0melen\u001b[0m\u001b[0;34m:\u001b[0m\u001b[0;34m\u001b[0m\u001b[0;34m\u001b[0m\u001b[0m\n\u001b[0;32m--> 199\u001b[0;31m         raise TypeError(f\"Too {'many' if alen > elen else 'few'} parameters for {cls};\"\n\u001b[0m\u001b[1;32m    200\u001b[0m                         f\" actual {alen}, expected {elen}\")\n\u001b[1;32m    201\u001b[0m \u001b[0;34m\u001b[0m\u001b[0m\n",
      "\u001b[0;31mTypeError\u001b[0m: Too many parameters for <class '__main__.Arbitrary'>; actual 2, expected 1"
     ]
    }
   ],
   "source": [
    "Arbitrary[int, int]"
   ]
  },
  {
   "cell_type": "code",
   "execution_count": 91,
   "id": "sublime-helmet",
   "metadata": {},
   "outputs": [],
   "source": [
    "f = lambda x, y: x + y"
   ]
  },
  {
   "cell_type": "code",
   "execution_count": 92,
   "id": "portable-angle",
   "metadata": {},
   "outputs": [
    {
     "data": {
      "text/plain": [
       "8"
      ]
     },
     "execution_count": 92,
     "metadata": {},
     "output_type": "execute_result"
    }
   ],
   "source": [
    "f(3,5)"
   ]
  },
  {
   "cell_type": "code",
   "execution_count": 94,
   "id": "automated-relaxation",
   "metadata": {},
   "outputs": [
    {
     "data": {
      "text/plain": [
       "8"
      ]
     },
     "execution_count": 94,
     "metadata": {},
     "output_type": "execute_result"
    }
   ],
   "source": [
    "f(x=3, y=5)"
   ]
  },
  {
   "cell_type": "code",
   "execution_count": 96,
   "id": "allied-central",
   "metadata": {},
   "outputs": [
    {
     "data": {
      "text/plain": [
       "8"
      ]
     },
     "execution_count": 96,
     "metadata": {},
     "output_type": "execute_result"
    }
   ],
   "source": [
    "f(**{'x':3, 'y':5})"
   ]
  },
  {
   "cell_type": "code",
   "execution_count": 109,
   "id": "alike-landscape",
   "metadata": {},
   "outputs": [
    {
     "ename": "TypeError",
     "evalue": "<lambda>() got an unexpected keyword argument 'z'",
     "output_type": "error",
     "traceback": [
      "\u001b[0;31m---------------------------------------------------------------------------\u001b[0m",
      "\u001b[0;31mTypeError\u001b[0m                                 Traceback (most recent call last)",
      "\u001b[0;32m<ipython-input-109-43a48bd86575>\u001b[0m in \u001b[0;36m<module>\u001b[0;34m\u001b[0m\n\u001b[0;32m----> 1\u001b[0;31m \u001b[0mf\u001b[0m\u001b[0;34m(\u001b[0m\u001b[0;34m**\u001b[0m\u001b[0;34m{\u001b[0m\u001b[0;34m'x'\u001b[0m\u001b[0;34m:\u001b[0m\u001b[0;36m3\u001b[0m\u001b[0;34m,\u001b[0m \u001b[0;34m'y'\u001b[0m\u001b[0;34m:\u001b[0m\u001b[0;36m5\u001b[0m\u001b[0;34m,\u001b[0m \u001b[0;34m'z'\u001b[0m\u001b[0;34m:\u001b[0m\u001b[0;36m0\u001b[0m\u001b[0;34m}\u001b[0m\u001b[0;34m)\u001b[0m\u001b[0;34m\u001b[0m\u001b[0;34m\u001b[0m\u001b[0m\n\u001b[0m",
      "\u001b[0;31mTypeError\u001b[0m: <lambda>() got an unexpected keyword argument 'z'"
     ]
    }
   ],
   "source": [
    "f(**{'x':3, 'y':5, 'z':0})"
   ]
  },
  {
   "cell_type": "code",
   "execution_count": 100,
   "id": "found-nepal",
   "metadata": {},
   "outputs": [],
   "source": [
    "from typing import Annotated, get_args, get_origin"
   ]
  },
  {
   "cell_type": "code",
   "execution_count": 98,
   "id": "tender-gauge",
   "metadata": {},
   "outputs": [],
   "source": [
    "t = Annotated[int, lambda x: x > 0]"
   ]
  },
  {
   "cell_type": "code",
   "execution_count": 101,
   "id": "working-stockholm",
   "metadata": {},
   "outputs": [
    {
     "data": {
      "text/plain": [
       "False"
      ]
     },
     "execution_count": 101,
     "metadata": {},
     "output_type": "execute_result"
    }
   ],
   "source": [
    "isinstance(t, Annotated)"
   ]
  },
  {
   "cell_type": "code",
   "execution_count": 102,
   "id": "numerous-timeline",
   "metadata": {},
   "outputs": [
    {
     "ename": "TypeError",
     "evalue": "issubclass() arg 1 must be a class",
     "output_type": "error",
     "traceback": [
      "\u001b[0;31m---------------------------------------------------------------------------\u001b[0m",
      "\u001b[0;31mTypeError\u001b[0m                                 Traceback (most recent call last)",
      "\u001b[0;32m<ipython-input-102-b7fd670bb2f0>\u001b[0m in \u001b[0;36m<module>\u001b[0;34m\u001b[0m\n\u001b[0;32m----> 1\u001b[0;31m \u001b[0missubclass\u001b[0m\u001b[0;34m(\u001b[0m\u001b[0mt\u001b[0m\u001b[0;34m,\u001b[0m \u001b[0mAnnotated\u001b[0m\u001b[0;34m)\u001b[0m\u001b[0;34m\u001b[0m\u001b[0;34m\u001b[0m\u001b[0m\n\u001b[0m",
      "\u001b[0;31mTypeError\u001b[0m: issubclass() arg 1 must be a class"
     ]
    }
   ],
   "source": [
    "issubclass(t, Annotated)"
   ]
  },
  {
   "cell_type": "code",
   "execution_count": 103,
   "id": "fluid-director",
   "metadata": {},
   "outputs": [],
   "source": [
    "def g(x: t) -> bool: pass"
   ]
  },
  {
   "cell_type": "code",
   "execution_count": 105,
   "id": "indian-internet",
   "metadata": {},
   "outputs": [
    {
     "data": {
      "text/plain": [
       "<Signature (x: typing.Annotated[int, <function <lambda> at 0x114bd34c0>]) -> bool>"
      ]
     },
     "execution_count": 105,
     "metadata": {},
     "output_type": "execute_result"
    }
   ],
   "source": [
    "signature(g)"
   ]
  },
  {
   "cell_type": "code",
   "execution_count": 106,
   "id": "about-population",
   "metadata": {},
   "outputs": [
    {
     "data": {
      "text/plain": [
       "typing.Annotated"
      ]
     },
     "execution_count": 106,
     "metadata": {},
     "output_type": "execute_result"
    }
   ],
   "source": [
    "get_origin(t)"
   ]
  },
  {
   "cell_type": "code",
   "execution_count": 107,
   "id": "basic-processing",
   "metadata": {},
   "outputs": [
    {
     "data": {
      "text/plain": [
       "(int, <function __main__.<lambda>(x)>)"
      ]
     },
     "execution_count": 107,
     "metadata": {},
     "output_type": "execute_result"
    }
   ],
   "source": [
    "get_args(t)"
   ]
  },
  {
   "cell_type": "code",
   "execution_count": 108,
   "id": "marine-cigarette",
   "metadata": {},
   "outputs": [
    {
     "data": {
      "text/plain": [
       "<Signature (x, y)>"
      ]
     },
     "execution_count": 108,
     "metadata": {},
     "output_type": "execute_result"
    }
   ],
   "source": [
    "signature(f)"
   ]
  },
  {
   "cell_type": "code",
   "execution_count": 15,
   "id": "false-tissue",
   "metadata": {},
   "outputs": [],
   "source": [
    "def f(a=0, b=0, /, c=0, d=0, **kwargs):\n",
    "    print((a,b,c,d,kwargs))"
   ]
  },
  {
   "cell_type": "code",
   "execution_count": 16,
   "id": "capable-ownership",
   "metadata": {},
   "outputs": [
    {
     "name": "stdout",
     "output_type": "stream",
     "text": [
      "(1, 2, 3, 4, {})\n"
     ]
    }
   ],
   "source": [
    "f(1,2,3,4)"
   ]
  },
  {
   "cell_type": "code",
   "execution_count": 17,
   "id": "defined-planet",
   "metadata": {},
   "outputs": [
    {
     "name": "stdout",
     "output_type": "stream",
     "text": [
      "(0, 0, 1, 1, {'a': 1, 'b': 1})\n"
     ]
    }
   ],
   "source": [
    "f(a=1, b=1, c=1, d=1)"
   ]
  },
  {
   "cell_type": "code",
   "execution_count": 11,
   "id": "neural-shareware",
   "metadata": {},
   "outputs": [
    {
     "name": "stdout",
     "output_type": "stream",
     "text": [
      "(1, 2, 3, 4)\n"
     ]
    }
   ],
   "source": [
    "f(1, 2, c=3, d=4)"
   ]
  },
  {
   "cell_type": "code",
   "execution_count": 14,
   "id": "affected-kinase",
   "metadata": {},
   "outputs": [
    {
     "ename": "TypeError",
     "evalue": "f() got some positional-only arguments passed as keyword arguments: 'a, b'",
     "output_type": "error",
     "traceback": [
      "\u001b[0;31m---------------------------------------------------------------------------\u001b[0m",
      "\u001b[0;31mTypeError\u001b[0m                                 Traceback (most recent call last)",
      "\u001b[0;32m<ipython-input-14-97a0a4486069>\u001b[0m in \u001b[0;36m<module>\u001b[0;34m\u001b[0m\n\u001b[0;32m----> 1\u001b[0;31m \u001b[0mf\u001b[0m\u001b[0;34m(\u001b[0m\u001b[0;36m1\u001b[0m\u001b[0;34m,\u001b[0m \u001b[0;36m2\u001b[0m\u001b[0;34m,\u001b[0m \u001b[0ma\u001b[0m\u001b[0;34m=\u001b[0m\u001b[0;36m1\u001b[0m\u001b[0;34m,\u001b[0m \u001b[0mb\u001b[0m\u001b[0;34m=\u001b[0m\u001b[0;36m2\u001b[0m\u001b[0;34m,\u001b[0m \u001b[0mc\u001b[0m\u001b[0;34m=\u001b[0m\u001b[0;36m3\u001b[0m\u001b[0;34m,\u001b[0m \u001b[0md\u001b[0m\u001b[0;34m=\u001b[0m\u001b[0;36m4\u001b[0m\u001b[0;34m)\u001b[0m\u001b[0;34m\u001b[0m\u001b[0;34m\u001b[0m\u001b[0m\n\u001b[0m",
      "\u001b[0;31mTypeError\u001b[0m: f() got some positional-only arguments passed as keyword arguments: 'a, b'"
     ]
    }
   ],
   "source": [
    "f(1, 2, a=1, b=2, c=3, d=4)"
   ]
  },
  {
   "cell_type": "code",
   "execution_count": 1,
   "id": "permanent-paste",
   "metadata": {},
   "outputs": [],
   "source": [
    "def f(a,b,*,c,d): print(a,b,c,d)"
   ]
  },
  {
   "cell_type": "code",
   "execution_count": 4,
   "id": "reverse-general",
   "metadata": {},
   "outputs": [
    {
     "ename": "TypeError",
     "evalue": "f() takes 2 positional arguments but 3 positional arguments (and 1 keyword-only argument) were given",
     "output_type": "error",
     "traceback": [
      "\u001b[0;31m---------------------------------------------------------------------------\u001b[0m",
      "\u001b[0;31mTypeError\u001b[0m                                 Traceback (most recent call last)",
      "\u001b[0;32m<ipython-input-4-a9a2ad4f1e26>\u001b[0m in \u001b[0;36m<module>\u001b[0;34m\u001b[0m\n\u001b[0;32m----> 1\u001b[0;31m \u001b[0mf\u001b[0m\u001b[0;34m(\u001b[0m\u001b[0;36m1\u001b[0m\u001b[0;34m,\u001b[0m\u001b[0;36m2\u001b[0m\u001b[0;34m,\u001b[0m\u001b[0;36m3\u001b[0m\u001b[0;34m,\u001b[0m\u001b[0md\u001b[0m\u001b[0;34m=\u001b[0m\u001b[0;36m4\u001b[0m\u001b[0;34m)\u001b[0m\u001b[0;34m\u001b[0m\u001b[0;34m\u001b[0m\u001b[0m\n\u001b[0m",
      "\u001b[0;31mTypeError\u001b[0m: f() takes 2 positional arguments but 3 positional arguments (and 1 keyword-only argument) were given"
     ]
    }
   ],
   "source": [
    "f(1,2,3,d=4)"
   ]
  },
  {
   "cell_type": "code",
   "execution_count": 6,
   "id": "necessary-sensitivity",
   "metadata": {},
   "outputs": [
    {
     "name": "stdout",
     "output_type": "stream",
     "text": [
      "1 2 (3,) 99 4\n"
     ]
    }
   ],
   "source": [
    "def foo(a, b, *args, c=99, d=99): print(a,b,args,c,d)\n",
    "foo(1, 2, 3, d=4) # OK"
   ]
  },
  {
   "cell_type": "code",
   "execution_count": 8,
   "id": "medium-lease",
   "metadata": {},
   "outputs": [
    {
     "name": "stdout",
     "output_type": "stream",
     "text": [
      "1 99 3 4 {'b': 2}\n"
     ]
    }
   ],
   "source": [
    "def foo(a, b=99, /, c=99, d=99, **kwargs): print(a,b,c,d,kwargs)\n",
    "foo(1, b=2, c=3, d=4) # TypeError"
   ]
  },
  {
   "cell_type": "code",
   "execution_count": null,
   "id": "grateful-nickname",
   "metadata": {},
   "outputs": [],
   "source": [
    "def add_underscores(func)"
   ]
  },
  {
   "cell_type": "code",
   "execution_count": 9,
   "id": "committed-boulder",
   "metadata": {},
   "outputs": [],
   "source": [
    "import uuid"
   ]
  },
  {
   "cell_type": "code",
   "execution_count": 10,
   "id": "defensive-breakfast",
   "metadata": {},
   "outputs": [
    {
     "data": {
      "text/plain": [
       "UUID('f87d6db0-91ec-11eb-961a-784f43858ad0')"
      ]
     },
     "execution_count": 10,
     "metadata": {},
     "output_type": "execute_result"
    }
   ],
   "source": [
    "uuid.uuid1()"
   ]
  },
  {
   "cell_type": "code",
   "execution_count": 11,
   "id": "diverse-sailing",
   "metadata": {},
   "outputs": [
    {
     "data": {
      "text/plain": [
       "UUID('fca2cda4-91ec-11eb-961a-784f43858ad0')"
      ]
     },
     "execution_count": 11,
     "metadata": {},
     "output_type": "execute_result"
    }
   ],
   "source": [
    "uuid.uuid1()"
   ]
  },
  {
   "cell_type": "code",
   "execution_count": 12,
   "id": "abstract-bracelet",
   "metadata": {},
   "outputs": [
    {
     "data": {
      "text/plain": [
       "UUID('22490ff0-91ed-11eb-961a-784f43858ad0')"
      ]
     },
     "execution_count": 12,
     "metadata": {},
     "output_type": "execute_result"
    }
   ],
   "source": [
    "uuid.uuid1()"
   ]
  },
  {
   "cell_type": "code",
   "execution_count": 13,
   "id": "analyzed-tuesday",
   "metadata": {},
   "outputs": [
    {
     "data": {
      "text/plain": [
       "UUID('260de26b-dc15-452d-9915-2ac3695fc6d2')"
      ]
     },
     "execution_count": 13,
     "metadata": {},
     "output_type": "execute_result"
    }
   ],
   "source": [
    "uuid.uuid4()"
   ]
  },
  {
   "cell_type": "code",
   "execution_count": 14,
   "id": "declared-particle",
   "metadata": {},
   "outputs": [
    {
     "data": {
      "text/plain": [
       "UUID('63856a8a-dce7-4d63-b5b5-598e31016d5f')"
      ]
     },
     "execution_count": 14,
     "metadata": {},
     "output_type": "execute_result"
    }
   ],
   "source": [
    "uuid.uuid4()"
   ]
  },
  {
   "cell_type": "code",
   "execution_count": 17,
   "id": "forward-buddy",
   "metadata": {},
   "outputs": [
    {
     "name": "stdout",
     "output_type": "stream",
     "text": [
      "aa529e8e-91ed-11eb-961a-784f43858ad0\n",
      "aa52ac44-91ed-11eb-8000-784f43858ad0\n",
      "aa52af78-91ed-11eb-961a-784f43858ad0\n"
     ]
    }
   ],
   "source": [
    "print(uuid.uuid1())\n",
    "print(uuid.uuid1(clock_seq=0))\n",
    "print(uuid.uuid1())"
   ]
  },
  {
   "cell_type": "code",
   "execution_count": 18,
   "id": "decreased-newark",
   "metadata": {},
   "outputs": [
    {
     "data": {
      "text/plain": [
       "<SafeUUID.unknown: None>"
      ]
     },
     "execution_count": 18,
     "metadata": {},
     "output_type": "execute_result"
    }
   ],
   "source": [
    "uuid.uuid1().is_safe"
   ]
  },
  {
   "cell_type": "code",
   "execution_count": 19,
   "id": "phantom-wagon",
   "metadata": {},
   "outputs": [],
   "source": [
    "a = uuid.uuid1()"
   ]
  },
  {
   "cell_type": "code",
   "execution_count": 20,
   "id": "municipal-capital",
   "metadata": {},
   "outputs": [
    {
     "data": {
      "text/plain": [
       "UUID('d937cbf2-91ed-11eb-961a-784f43858ad0')"
      ]
     },
     "execution_count": 20,
     "metadata": {},
     "output_type": "execute_result"
    }
   ],
   "source": [
    "a"
   ]
  },
  {
   "cell_type": "code",
   "execution_count": 21,
   "id": "legitimate-compression",
   "metadata": {},
   "outputs": [
    {
     "data": {
      "text/plain": [
       "UUID('9827fcb4-91f1-11eb-b887-784f43858ad0')"
      ]
     },
     "execution_count": 21,
     "metadata": {},
     "output_type": "execute_result"
    }
   ],
   "source": [
    "uuid.uuid1(node=uuid.getnode())"
   ]
  },
  {
   "cell_type": "code",
   "execution_count": 22,
   "id": "vocational-comfort",
   "metadata": {},
   "outputs": [
    {
     "data": {
      "text/plain": [
       "UUID('9e642684-91f1-11eb-a846-784f43858ad0')"
      ]
     },
     "execution_count": 22,
     "metadata": {},
     "output_type": "execute_result"
    }
   ],
   "source": [
    "uuid.uuid1(node=uuid.getnode())"
   ]
  },
  {
   "cell_type": "code",
   "execution_count": 23,
   "id": "wired-internship",
   "metadata": {},
   "outputs": [
    {
     "data": {
      "text/plain": [
       "UUID('ffd510cc-91f1-11eb-8c43-784f43858ad0')"
      ]
     },
     "execution_count": 23,
     "metadata": {},
     "output_type": "execute_result"
    }
   ],
   "source": [
    "uuid.uuid1(node=uuid.getnode())"
   ]
  },
  {
   "cell_type": "code",
   "execution_count": 24,
   "id": "dedicated-merchant",
   "metadata": {},
   "outputs": [
    {
     "data": {
      "text/plain": [
       "UUID('91acedc4-91f4-11eb-a977-784f43858ad0')"
      ]
     },
     "execution_count": 24,
     "metadata": {},
     "output_type": "execute_result"
    }
   ],
   "source": [
    "uuid.uuid1(node=uuid.getnode())"
   ]
  },
  {
   "cell_type": "code",
   "execution_count": 25,
   "id": "forced-syria",
   "metadata": {},
   "outputs": [
    {
     "data": {
      "text/plain": [
       "UUID('95cb01de-91f4-11eb-bfe4-784f43858ad0')"
      ]
     },
     "execution_count": 25,
     "metadata": {},
     "output_type": "execute_result"
    }
   ],
   "source": [
    "uuid.uuid1(node=uuid.getnode())"
   ]
  },
  {
   "cell_type": "code",
   "execution_count": 26,
   "id": "accessory-brighton",
   "metadata": {},
   "outputs": [
    {
     "data": {
      "text/plain": [
       "UUID('99e03e2e-91f4-11eb-961a-784f43858ad0')"
      ]
     },
     "execution_count": 26,
     "metadata": {},
     "output_type": "execute_result"
    }
   ],
   "source": [
    "uuid.uuid1()"
   ]
  },
  {
   "cell_type": "code",
   "execution_count": 27,
   "id": "alike-framing",
   "metadata": {},
   "outputs": [
    {
     "data": {
      "text/plain": [
       "UUID('bef2456c-9385-11eb-a87a-784f43858ad0')"
      ]
     },
     "execution_count": 27,
     "metadata": {},
     "output_type": "execute_result"
    }
   ],
   "source": [
    "u = uuid.uuid1(node=uuid.getnode())\n",
    "u"
   ]
  },
  {
   "cell_type": "code",
   "execution_count": 45,
   "id": "local-screening",
   "metadata": {},
   "outputs": [
    {
     "data": {
      "text/plain": [
       "(UUID('bef2456c-9385-11eb-a87a-784f43858ad0'),\n",
       " 'bef2456c-9385-11eb-a87a-784f43858ad0',\n",
       " 'bef2456c938511eba87a784f43858ad0',\n",
       " 'urn:uuid:bef2456c-9385-11eb-a87a-784f43858ad0',\n",
       " 253811263127458815848737118943875271376,\n",
       " (3203548524, 37765, 4587, 168, 122, 132281830574800),\n",
       " b'\\xbe\\xf2El\\x93\\x85\\x11\\xeb\\xa8zxOC\\x85\\x8a\\xd0',\n",
       " b'lE\\xf2\\xbe\\x85\\x93\\xeb\\x11\\xa8zxOC\\x85\\x8a\\xd0',\n",
       " 1,\n",
       " 'specified in RFC 4122',\n",
       " <SafeUUID.unknown: None>)"
      ]
     },
     "execution_count": 45,
     "metadata": {},
     "output_type": "execute_result"
    }
   ],
   "source": [
    "(u, str(u), u.hex, u.urn, u.int, u.fields, u.bytes, u.bytes_le, u.version, \n",
    "u.variant, u.is_safe)"
   ]
  },
  {
   "cell_type": "code",
   "execution_count": 30,
   "id": "adolescent-cabinet",
   "metadata": {},
   "outputs": [
    {
     "data": {
      "text/plain": [
       "b'\\xbe\\xf2El\\x93\\x85\\x11\\xeb\\xa8zxOC\\x85\\x8a\\xd0'"
      ]
     },
     "execution_count": 30,
     "metadata": {},
     "output_type": "execute_result"
    }
   ],
   "source": [
    "u.bytes"
   ]
  },
  {
   "cell_type": "code",
   "execution_count": 34,
   "id": "blank-european",
   "metadata": {},
   "outputs": [
    {
     "data": {
      "text/plain": [
       "b'lE\\xf2\\xbe\\x85\\x93\\xeb\\x11\\xa8zxOC\\x85\\x8a\\xd0'"
      ]
     },
     "execution_count": 34,
     "metadata": {},
     "output_type": "execute_result"
    }
   ],
   "source": [
    "u.bytes_le"
   ]
  },
  {
   "cell_type": "code",
   "execution_count": 33,
   "id": "norwegian-snowboard",
   "metadata": {},
   "outputs": [
    {
     "name": "stdout",
     "output_type": "stream",
     "text": [
      "Pretty printing has been turned ON\n"
     ]
    }
   ],
   "source": [
    "pprint"
   ]
  },
  {
   "cell_type": "code",
   "execution_count": null,
   "id": "consecutive-venture",
   "metadata": {},
   "outputs": [],
   "source": []
  }
 ],
 "metadata": {
  "kernelspec": {
   "display_name": "Python 3",
   "language": "python",
   "name": "python3"
  },
  "language_info": {
   "codemirror_mode": {
    "name": "ipython",
    "version": 3
   },
   "file_extension": ".py",
   "mimetype": "text/x-python",
   "name": "python",
   "nbconvert_exporter": "python",
   "pygments_lexer": "ipython3",
   "version": "3.9.1"
  }
 },
 "nbformat": 4,
 "nbformat_minor": 5
}
